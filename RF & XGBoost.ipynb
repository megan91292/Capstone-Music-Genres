{
 "cells": [
  {
   "cell_type": "code",
   "execution_count": 1,
   "metadata": {},
   "outputs": [
    {
     "name": "stderr",
     "output_type": "stream",
     "text": [
      "Using TensorFlow backend.\n"
     ]
    }
   ],
   "source": [
    "%matplotlib inline\n",
    "\n",
    "import warnings\n",
    "warnings.filterwarnings('ignore')\n",
    "\n",
    "import os\n",
    "\n",
    "import IPython.display as ipd\n",
    "\n",
    "import numpy as np\n",
    "import pandas as pd\n",
    "import seaborn as sns\n",
    "import matplotlib.pyplot as plt\n",
    "\n",
    "from sklearn.metrics import roc_curve, auc\n",
    "from sklearn.preprocessing import StandardScaler,LabelEncoder\n",
    "from sklearn.model_selection import train_test_split, GridSearchCV\n",
    "from sklearn.ensemble import RandomForestClassifier\n",
    "from sklearn.pipeline import Pipeline\n",
    "\n",
    "from sklearn.metrics import confusion_matrix,accuracy_score,precision_score,recall_score,precision_recall_curve\n",
    "from sklearn.metrics import precision_recall_fscore_support,f1_score,fbeta_score\n",
    "from sklearn.metrics import make_scorer\n",
    "from sklearn.metrics import classification_report\n",
    "from sklearn.svm import SVC, NuSVC, LinearSVC\n",
    "from sklearn.utils import shuffle\n",
    "\n",
    "from sklearn.model_selection import train_test_split\n",
    "from sklearn.preprocessing import StandardScaler\n",
    "from sklearn.ensemble import RandomForestClassifier\n",
    "from sklearn.metrics import confusion_matrix\n",
    "\n",
    "import librosa\n",
    "import librosa.display\n",
    "import ast\n",
    "\n",
    "import keras\n",
    "plt.rcParams['figure.figsize'] = (17, 5)\n",
    "\n"
   ]
  },
  {
   "cell_type": "code",
   "execution_count": 2,
   "metadata": {},
   "outputs": [],
   "source": [
    "df = pd.read_csv('data.csv')"
   ]
  },
  {
   "cell_type": "code",
   "execution_count": 3,
   "metadata": {},
   "outputs": [
    {
     "data": {
      "text/html": [
       "<div>\n",
       "<style scoped>\n",
       "    .dataframe tbody tr th:only-of-type {\n",
       "        vertical-align: middle;\n",
       "    }\n",
       "\n",
       "    .dataframe tbody tr th {\n",
       "        vertical-align: top;\n",
       "    }\n",
       "\n",
       "    .dataframe thead th {\n",
       "        text-align: right;\n",
       "    }\n",
       "</style>\n",
       "<table border=\"1\" class=\"dataframe\">\n",
       "  <thead>\n",
       "    <tr style=\"text-align: right;\">\n",
       "      <th></th>\n",
       "      <th>filename</th>\n",
       "      <th>chroma_cqt</th>\n",
       "      <th>chroma_cens</th>\n",
       "      <th>chroma_stft</th>\n",
       "      <th>spectral_centroid</th>\n",
       "      <th>spectral_bandwidth</th>\n",
       "      <th>spectral_contrast</th>\n",
       "      <th>rolloff</th>\n",
       "      <th>zero_crossing_rate</th>\n",
       "      <th>tonnetz</th>\n",
       "      <th>...</th>\n",
       "      <th>mfcc11</th>\n",
       "      <th>mfcc12</th>\n",
       "      <th>mfcc13</th>\n",
       "      <th>mfcc14</th>\n",
       "      <th>mfcc15</th>\n",
       "      <th>mfcc16</th>\n",
       "      <th>mfcc17</th>\n",
       "      <th>mfcc18</th>\n",
       "      <th>mfcc19</th>\n",
       "      <th>mfcc20</th>\n",
       "    </tr>\n",
       "  </thead>\n",
       "  <tbody>\n",
       "    <tr>\n",
       "      <th>0</th>\n",
       "      <td>126014</td>\n",
       "      <td>0.267008</td>\n",
       "      <td>0.171130</td>\n",
       "      <td>0.237383</td>\n",
       "      <td>699.229710</td>\n",
       "      <td>785.999971</td>\n",
       "      <td>25.676751</td>\n",
       "      <td>1183.751175</td>\n",
       "      <td>0.041712</td>\n",
       "      <td>0.092841</td>\n",
       "      <td>...</td>\n",
       "      <td>-27.326481</td>\n",
       "      <td>-20.607473</td>\n",
       "      <td>-12.659972</td>\n",
       "      <td>-13.275584</td>\n",
       "      <td>-12.988043</td>\n",
       "      <td>-15.687397</td>\n",
       "      <td>-12.339302</td>\n",
       "      <td>2.211766</td>\n",
       "      <td>2.147864</td>\n",
       "      <td>-5.011512</td>\n",
       "    </tr>\n",
       "    <tr>\n",
       "      <th>1</th>\n",
       "      <td>54496</td>\n",
       "      <td>0.274600</td>\n",
       "      <td>0.207362</td>\n",
       "      <td>0.277710</td>\n",
       "      <td>1833.074733</td>\n",
       "      <td>2091.124342</td>\n",
       "      <td>25.274995</td>\n",
       "      <td>3818.560243</td>\n",
       "      <td>0.093890</td>\n",
       "      <td>0.044640</td>\n",
       "      <td>...</td>\n",
       "      <td>-5.424025</td>\n",
       "      <td>6.843907</td>\n",
       "      <td>-6.247772</td>\n",
       "      <td>3.441898</td>\n",
       "      <td>-0.244973</td>\n",
       "      <td>4.090439</td>\n",
       "      <td>-1.278771</td>\n",
       "      <td>9.071951</td>\n",
       "      <td>-0.169724</td>\n",
       "      <td>0.161876</td>\n",
       "    </tr>\n",
       "    <tr>\n",
       "      <th>2</th>\n",
       "      <td>65893</td>\n",
       "      <td>0.458305</td>\n",
       "      <td>0.253559</td>\n",
       "      <td>0.412075</td>\n",
       "      <td>2767.487106</td>\n",
       "      <td>2741.112704</td>\n",
       "      <td>20.450162</td>\n",
       "      <td>5889.689386</td>\n",
       "      <td>0.111506</td>\n",
       "      <td>0.013648</td>\n",
       "      <td>...</td>\n",
       "      <td>-8.586940</td>\n",
       "      <td>6.649025</td>\n",
       "      <td>-2.908488</td>\n",
       "      <td>3.085722</td>\n",
       "      <td>-3.682684</td>\n",
       "      <td>2.957125</td>\n",
       "      <td>-2.243021</td>\n",
       "      <td>1.578797</td>\n",
       "      <td>-4.537785</td>\n",
       "      <td>1.052801</td>\n",
       "    </tr>\n",
       "    <tr>\n",
       "      <th>3</th>\n",
       "      <td>71158</td>\n",
       "      <td>0.531325</td>\n",
       "      <td>0.258276</td>\n",
       "      <td>0.424391</td>\n",
       "      <td>1444.225428</td>\n",
       "      <td>2060.084462</td>\n",
       "      <td>19.861984</td>\n",
       "      <td>3089.631317</td>\n",
       "      <td>0.046734</td>\n",
       "      <td>0.000029</td>\n",
       "      <td>...</td>\n",
       "      <td>5.303405</td>\n",
       "      <td>-0.030636</td>\n",
       "      <td>-1.089045</td>\n",
       "      <td>2.822888</td>\n",
       "      <td>-2.630777</td>\n",
       "      <td>1.943587</td>\n",
       "      <td>-7.131413</td>\n",
       "      <td>1.516889</td>\n",
       "      <td>-0.094114</td>\n",
       "      <td>-0.776687</td>\n",
       "    </tr>\n",
       "    <tr>\n",
       "      <th>4</th>\n",
       "      <td>57821</td>\n",
       "      <td>0.412456</td>\n",
       "      <td>0.239312</td>\n",
       "      <td>0.335196</td>\n",
       "      <td>2253.305912</td>\n",
       "      <td>2412.719760</td>\n",
       "      <td>22.327731</td>\n",
       "      <td>4858.028957</td>\n",
       "      <td>0.099870</td>\n",
       "      <td>0.024816</td>\n",
       "      <td>...</td>\n",
       "      <td>-8.056653</td>\n",
       "      <td>-5.495337</td>\n",
       "      <td>-8.891809</td>\n",
       "      <td>-2.783748</td>\n",
       "      <td>-6.777088</td>\n",
       "      <td>-3.736772</td>\n",
       "      <td>-11.871335</td>\n",
       "      <td>-0.826213</td>\n",
       "      <td>-2.934075</td>\n",
       "      <td>6.011378</td>\n",
       "    </tr>\n",
       "  </tbody>\n",
       "</table>\n",
       "<p>5 rows × 30 columns</p>\n",
       "</div>"
      ],
      "text/plain": [
       "   filename  chroma_cqt  chroma_cens  chroma_stft  spectral_centroid  \\\n",
       "0    126014    0.267008     0.171130     0.237383         699.229710   \n",
       "1     54496    0.274600     0.207362     0.277710        1833.074733   \n",
       "2     65893    0.458305     0.253559     0.412075        2767.487106   \n",
       "3     71158    0.531325     0.258276     0.424391        1444.225428   \n",
       "4     57821    0.412456     0.239312     0.335196        2253.305912   \n",
       "\n",
       "   spectral_bandwidth  spectral_contrast      rolloff  zero_crossing_rate  \\\n",
       "0          785.999971          25.676751  1183.751175            0.041712   \n",
       "1         2091.124342          25.274995  3818.560243            0.093890   \n",
       "2         2741.112704          20.450162  5889.689386            0.111506   \n",
       "3         2060.084462          19.861984  3089.631317            0.046734   \n",
       "4         2412.719760          22.327731  4858.028957            0.099870   \n",
       "\n",
       "    tonnetz  ...     mfcc11     mfcc12     mfcc13     mfcc14     mfcc15  \\\n",
       "0  0.092841  ... -27.326481 -20.607473 -12.659972 -13.275584 -12.988043   \n",
       "1  0.044640  ...  -5.424025   6.843907  -6.247772   3.441898  -0.244973   \n",
       "2  0.013648  ...  -8.586940   6.649025  -2.908488   3.085722  -3.682684   \n",
       "3  0.000029  ...   5.303405  -0.030636  -1.089045   2.822888  -2.630777   \n",
       "4  0.024816  ...  -8.056653  -5.495337  -8.891809  -2.783748  -6.777088   \n",
       "\n",
       "      mfcc16     mfcc17    mfcc18    mfcc19    mfcc20  \n",
       "0 -15.687397 -12.339302  2.211766  2.147864 -5.011512  \n",
       "1   4.090439  -1.278771  9.071951 -0.169724  0.161876  \n",
       "2   2.957125  -2.243021  1.578797 -4.537785  1.052801  \n",
       "3   1.943587  -7.131413  1.516889 -0.094114 -0.776687  \n",
       "4  -3.736772 -11.871335 -0.826213 -2.934075  6.011378  \n",
       "\n",
       "[5 rows x 30 columns]"
      ]
     },
     "execution_count": 3,
     "metadata": {},
     "output_type": "execute_result"
    }
   ],
   "source": [
    "df.head()"
   ]
  },
  {
   "cell_type": "code",
   "execution_count": 4,
   "metadata": {},
   "outputs": [
    {
     "data": {
      "text/plain": [
       "(7997, 30)"
      ]
     },
     "execution_count": 4,
     "metadata": {},
     "output_type": "execute_result"
    }
   ],
   "source": [
    "df.shape"
   ]
  },
  {
   "cell_type": "code",
   "execution_count": 5,
   "metadata": {},
   "outputs": [],
   "source": [
    "genres = pd.read_csv('data/fma_metadata/genrelist.csv')"
   ]
  },
  {
   "cell_type": "code",
   "execution_count": 6,
   "metadata": {},
   "outputs": [
    {
     "data": {
      "text/html": [
       "<div>\n",
       "<style scoped>\n",
       "    .dataframe tbody tr th:only-of-type {\n",
       "        vertical-align: middle;\n",
       "    }\n",
       "\n",
       "    .dataframe tbody tr th {\n",
       "        vertical-align: top;\n",
       "    }\n",
       "\n",
       "    .dataframe thead th {\n",
       "        text-align: right;\n",
       "    }\n",
       "</style>\n",
       "<table border=\"1\" class=\"dataframe\">\n",
       "  <thead>\n",
       "    <tr style=\"text-align: right;\">\n",
       "      <th></th>\n",
       "      <th>Unnamed: 0</th>\n",
       "      <th>genre</th>\n",
       "      <th>testtrainval</th>\n",
       "    </tr>\n",
       "  </thead>\n",
       "  <tbody>\n",
       "    <tr>\n",
       "      <th>0</th>\n",
       "      <td>NaN</td>\n",
       "      <td>NaN</td>\n",
       "      <td>NaN</td>\n",
       "    </tr>\n",
       "    <tr>\n",
       "      <th>1</th>\n",
       "      <td>track_id</td>\n",
       "      <td>NaN</td>\n",
       "      <td>NaN</td>\n",
       "    </tr>\n",
       "    <tr>\n",
       "      <th>2</th>\n",
       "      <td>2</td>\n",
       "      <td>Hip-Hop</td>\n",
       "      <td>training</td>\n",
       "    </tr>\n",
       "    <tr>\n",
       "      <th>3</th>\n",
       "      <td>5</td>\n",
       "      <td>Hip-Hop</td>\n",
       "      <td>training</td>\n",
       "    </tr>\n",
       "    <tr>\n",
       "      <th>4</th>\n",
       "      <td>10</td>\n",
       "      <td>Pop</td>\n",
       "      <td>training</td>\n",
       "    </tr>\n",
       "    <tr>\n",
       "      <th>...</th>\n",
       "      <td>...</td>\n",
       "      <td>...</td>\n",
       "      <td>...</td>\n",
       "    </tr>\n",
       "    <tr>\n",
       "      <th>7997</th>\n",
       "      <td>154308</td>\n",
       "      <td>Hip-Hop</td>\n",
       "      <td>test</td>\n",
       "    </tr>\n",
       "    <tr>\n",
       "      <th>7998</th>\n",
       "      <td>154309</td>\n",
       "      <td>Hip-Hop</td>\n",
       "      <td>test</td>\n",
       "    </tr>\n",
       "    <tr>\n",
       "      <th>7999</th>\n",
       "      <td>154413</td>\n",
       "      <td>Pop</td>\n",
       "      <td>training</td>\n",
       "    </tr>\n",
       "    <tr>\n",
       "      <th>8000</th>\n",
       "      <td>154414</td>\n",
       "      <td>Pop</td>\n",
       "      <td>training</td>\n",
       "    </tr>\n",
       "    <tr>\n",
       "      <th>8001</th>\n",
       "      <td>155066</td>\n",
       "      <td>Hip-Hop</td>\n",
       "      <td>training</td>\n",
       "    </tr>\n",
       "  </tbody>\n",
       "</table>\n",
       "<p>8002 rows × 3 columns</p>\n",
       "</div>"
      ],
      "text/plain": [
       "     Unnamed: 0    genre testtrainval\n",
       "0           NaN      NaN          NaN\n",
       "1      track_id      NaN          NaN\n",
       "2             2  Hip-Hop     training\n",
       "3             5  Hip-Hop     training\n",
       "4            10      Pop     training\n",
       "...         ...      ...          ...\n",
       "7997     154308  Hip-Hop         test\n",
       "7998     154309  Hip-Hop         test\n",
       "7999     154413      Pop     training\n",
       "8000     154414      Pop     training\n",
       "8001     155066  Hip-Hop     training\n",
       "\n",
       "[8002 rows x 3 columns]"
      ]
     },
     "execution_count": 6,
     "metadata": {},
     "output_type": "execute_result"
    }
   ],
   "source": [
    "genres"
   ]
  },
  {
   "cell_type": "code",
   "execution_count": 7,
   "metadata": {},
   "outputs": [],
   "source": [
    "genres.rename({'Unnamed: 0':'track_id'},axis=1,inplace=True)"
   ]
  },
  {
   "cell_type": "code",
   "execution_count": 8,
   "metadata": {},
   "outputs": [],
   "source": [
    "genres = genres.drop(index=[0,1])"
   ]
  },
  {
   "cell_type": "code",
   "execution_count": 9,
   "metadata": {},
   "outputs": [
    {
     "data": {
      "text/html": [
       "<div>\n",
       "<style scoped>\n",
       "    .dataframe tbody tr th:only-of-type {\n",
       "        vertical-align: middle;\n",
       "    }\n",
       "\n",
       "    .dataframe tbody tr th {\n",
       "        vertical-align: top;\n",
       "    }\n",
       "\n",
       "    .dataframe thead th {\n",
       "        text-align: right;\n",
       "    }\n",
       "</style>\n",
       "<table border=\"1\" class=\"dataframe\">\n",
       "  <thead>\n",
       "    <tr style=\"text-align: right;\">\n",
       "      <th></th>\n",
       "      <th>track_id</th>\n",
       "      <th>genre</th>\n",
       "      <th>testtrainval</th>\n",
       "    </tr>\n",
       "  </thead>\n",
       "  <tbody>\n",
       "    <tr>\n",
       "      <th>2</th>\n",
       "      <td>2</td>\n",
       "      <td>Hip-Hop</td>\n",
       "      <td>training</td>\n",
       "    </tr>\n",
       "    <tr>\n",
       "      <th>3</th>\n",
       "      <td>5</td>\n",
       "      <td>Hip-Hop</td>\n",
       "      <td>training</td>\n",
       "    </tr>\n",
       "    <tr>\n",
       "      <th>4</th>\n",
       "      <td>10</td>\n",
       "      <td>Pop</td>\n",
       "      <td>training</td>\n",
       "    </tr>\n",
       "    <tr>\n",
       "      <th>5</th>\n",
       "      <td>140</td>\n",
       "      <td>Folk</td>\n",
       "      <td>training</td>\n",
       "    </tr>\n",
       "    <tr>\n",
       "      <th>6</th>\n",
       "      <td>141</td>\n",
       "      <td>Folk</td>\n",
       "      <td>training</td>\n",
       "    </tr>\n",
       "  </tbody>\n",
       "</table>\n",
       "</div>"
      ],
      "text/plain": [
       "  track_id    genre testtrainval\n",
       "2        2  Hip-Hop     training\n",
       "3        5  Hip-Hop     training\n",
       "4       10      Pop     training\n",
       "5      140     Folk     training\n",
       "6      141     Folk     training"
      ]
     },
     "execution_count": 9,
     "metadata": {},
     "output_type": "execute_result"
    }
   ],
   "source": [
    "genres.head()"
   ]
  },
  {
   "cell_type": "code",
   "execution_count": 10,
   "metadata": {},
   "outputs": [],
   "source": [
    "genres['track_id'] = genres['track_id'].astype('int64')"
   ]
  },
  {
   "cell_type": "code",
   "execution_count": 11,
   "metadata": {},
   "outputs": [],
   "source": [
    "df.rename({'filename':'track_id'},axis=1,inplace=True)"
   ]
  },
  {
   "cell_type": "code",
   "execution_count": 12,
   "metadata": {},
   "outputs": [
    {
     "data": {
      "text/plain": [
       "0       126014\n",
       "1        54496\n",
       "2        65893\n",
       "3        71158\n",
       "4        57821\n",
       "         ...  \n",
       "7992     43695\n",
       "7993     68410\n",
       "7994     51291\n",
       "7995     96902\n",
       "7996     75441\n",
       "Name: track_id, Length: 7997, dtype: int64"
      ]
     },
     "execution_count": 12,
     "metadata": {},
     "output_type": "execute_result"
    }
   ],
   "source": [
    "df['track_id']"
   ]
  },
  {
   "cell_type": "code",
   "execution_count": 13,
   "metadata": {},
   "outputs": [],
   "source": [
    "data=pd.merge(df,genres,on='track_id')"
   ]
  },
  {
   "cell_type": "code",
   "execution_count": 14,
   "metadata": {},
   "outputs": [
    {
     "data": {
      "text/plain": [
       "0        Instrumental\n",
       "1        Experimental\n",
       "2                Folk\n",
       "3             Hip-Hop\n",
       "4             Hip-Hop\n",
       "            ...      \n",
       "7992    International\n",
       "7993     Experimental\n",
       "7994              Pop\n",
       "7995     Experimental\n",
       "7996     Instrumental\n",
       "Name: genre, Length: 7997, dtype: object"
      ]
     },
     "execution_count": 14,
     "metadata": {},
     "output_type": "execute_result"
    }
   ],
   "source": [
    "data['genre']"
   ]
  },
  {
   "cell_type": "code",
   "execution_count": 15,
   "metadata": {},
   "outputs": [],
   "source": [
    "data.set_index('track_id',inplace=True)"
   ]
  },
  {
   "cell_type": "code",
   "execution_count": 16,
   "metadata": {},
   "outputs": [
    {
     "data": {
      "text/html": [
       "<div>\n",
       "<style scoped>\n",
       "    .dataframe tbody tr th:only-of-type {\n",
       "        vertical-align: middle;\n",
       "    }\n",
       "\n",
       "    .dataframe tbody tr th {\n",
       "        vertical-align: top;\n",
       "    }\n",
       "\n",
       "    .dataframe thead th {\n",
       "        text-align: right;\n",
       "    }\n",
       "</style>\n",
       "<table border=\"1\" class=\"dataframe\">\n",
       "  <thead>\n",
       "    <tr style=\"text-align: right;\">\n",
       "      <th></th>\n",
       "      <th>chroma_cqt</th>\n",
       "      <th>chroma_cens</th>\n",
       "      <th>chroma_stft</th>\n",
       "      <th>spectral_centroid</th>\n",
       "      <th>spectral_bandwidth</th>\n",
       "      <th>spectral_contrast</th>\n",
       "      <th>rolloff</th>\n",
       "      <th>zero_crossing_rate</th>\n",
       "      <th>tonnetz</th>\n",
       "      <th>mfcc1</th>\n",
       "      <th>...</th>\n",
       "      <th>mfcc13</th>\n",
       "      <th>mfcc14</th>\n",
       "      <th>mfcc15</th>\n",
       "      <th>mfcc16</th>\n",
       "      <th>mfcc17</th>\n",
       "      <th>mfcc18</th>\n",
       "      <th>mfcc19</th>\n",
       "      <th>mfcc20</th>\n",
       "      <th>genre</th>\n",
       "      <th>testtrainval</th>\n",
       "    </tr>\n",
       "    <tr>\n",
       "      <th>track_id</th>\n",
       "      <th></th>\n",
       "      <th></th>\n",
       "      <th></th>\n",
       "      <th></th>\n",
       "      <th></th>\n",
       "      <th></th>\n",
       "      <th></th>\n",
       "      <th></th>\n",
       "      <th></th>\n",
       "      <th></th>\n",
       "      <th></th>\n",
       "      <th></th>\n",
       "      <th></th>\n",
       "      <th></th>\n",
       "      <th></th>\n",
       "      <th></th>\n",
       "      <th></th>\n",
       "      <th></th>\n",
       "      <th></th>\n",
       "      <th></th>\n",
       "      <th></th>\n",
       "    </tr>\n",
       "  </thead>\n",
       "  <tbody>\n",
       "    <tr>\n",
       "      <th>126014</th>\n",
       "      <td>0.267008</td>\n",
       "      <td>0.171130</td>\n",
       "      <td>0.237383</td>\n",
       "      <td>699.229710</td>\n",
       "      <td>785.999971</td>\n",
       "      <td>25.676751</td>\n",
       "      <td>1183.751175</td>\n",
       "      <td>0.041712</td>\n",
       "      <td>0.092841</td>\n",
       "      <td>-352.161438</td>\n",
       "      <td>...</td>\n",
       "      <td>-12.659972</td>\n",
       "      <td>-13.275584</td>\n",
       "      <td>-12.988043</td>\n",
       "      <td>-15.687397</td>\n",
       "      <td>-12.339302</td>\n",
       "      <td>2.211766</td>\n",
       "      <td>2.147864</td>\n",
       "      <td>-5.011512</td>\n",
       "      <td>Instrumental</td>\n",
       "      <td>training</td>\n",
       "    </tr>\n",
       "    <tr>\n",
       "      <th>54496</th>\n",
       "      <td>0.274600</td>\n",
       "      <td>0.207362</td>\n",
       "      <td>0.277710</td>\n",
       "      <td>1833.074733</td>\n",
       "      <td>2091.124342</td>\n",
       "      <td>25.274995</td>\n",
       "      <td>3818.560243</td>\n",
       "      <td>0.093890</td>\n",
       "      <td>0.044640</td>\n",
       "      <td>-290.169464</td>\n",
       "      <td>...</td>\n",
       "      <td>-6.247772</td>\n",
       "      <td>3.441898</td>\n",
       "      <td>-0.244973</td>\n",
       "      <td>4.090439</td>\n",
       "      <td>-1.278771</td>\n",
       "      <td>9.071951</td>\n",
       "      <td>-0.169724</td>\n",
       "      <td>0.161876</td>\n",
       "      <td>Experimental</td>\n",
       "      <td>training</td>\n",
       "    </tr>\n",
       "    <tr>\n",
       "      <th>65893</th>\n",
       "      <td>0.458305</td>\n",
       "      <td>0.253559</td>\n",
       "      <td>0.412075</td>\n",
       "      <td>2767.487106</td>\n",
       "      <td>2741.112704</td>\n",
       "      <td>20.450162</td>\n",
       "      <td>5889.689386</td>\n",
       "      <td>0.111506</td>\n",
       "      <td>0.013648</td>\n",
       "      <td>-80.027184</td>\n",
       "      <td>...</td>\n",
       "      <td>-2.908488</td>\n",
       "      <td>3.085722</td>\n",
       "      <td>-3.682684</td>\n",
       "      <td>2.957125</td>\n",
       "      <td>-2.243021</td>\n",
       "      <td>1.578797</td>\n",
       "      <td>-4.537785</td>\n",
       "      <td>1.052801</td>\n",
       "      <td>Folk</td>\n",
       "      <td>training</td>\n",
       "    </tr>\n",
       "    <tr>\n",
       "      <th>71158</th>\n",
       "      <td>0.531325</td>\n",
       "      <td>0.258276</td>\n",
       "      <td>0.424391</td>\n",
       "      <td>1444.225428</td>\n",
       "      <td>2060.084462</td>\n",
       "      <td>19.861984</td>\n",
       "      <td>3089.631317</td>\n",
       "      <td>0.046734</td>\n",
       "      <td>0.000029</td>\n",
       "      <td>-123.564980</td>\n",
       "      <td>...</td>\n",
       "      <td>-1.089045</td>\n",
       "      <td>2.822888</td>\n",
       "      <td>-2.630777</td>\n",
       "      <td>1.943587</td>\n",
       "      <td>-7.131413</td>\n",
       "      <td>1.516889</td>\n",
       "      <td>-0.094114</td>\n",
       "      <td>-0.776687</td>\n",
       "      <td>Hip-Hop</td>\n",
       "      <td>training</td>\n",
       "    </tr>\n",
       "    <tr>\n",
       "      <th>57821</th>\n",
       "      <td>0.412456</td>\n",
       "      <td>0.239312</td>\n",
       "      <td>0.335196</td>\n",
       "      <td>2253.305912</td>\n",
       "      <td>2412.719760</td>\n",
       "      <td>22.327731</td>\n",
       "      <td>4858.028957</td>\n",
       "      <td>0.099870</td>\n",
       "      <td>0.024816</td>\n",
       "      <td>-71.340874</td>\n",
       "      <td>...</td>\n",
       "      <td>-8.891809</td>\n",
       "      <td>-2.783748</td>\n",
       "      <td>-6.777088</td>\n",
       "      <td>-3.736772</td>\n",
       "      <td>-11.871335</td>\n",
       "      <td>-0.826213</td>\n",
       "      <td>-2.934075</td>\n",
       "      <td>6.011378</td>\n",
       "      <td>Hip-Hop</td>\n",
       "      <td>training</td>\n",
       "    </tr>\n",
       "  </tbody>\n",
       "</table>\n",
       "<p>5 rows × 31 columns</p>\n",
       "</div>"
      ],
      "text/plain": [
       "          chroma_cqt  chroma_cens  chroma_stft  spectral_centroid  \\\n",
       "track_id                                                            \n",
       "126014      0.267008     0.171130     0.237383         699.229710   \n",
       "54496       0.274600     0.207362     0.277710        1833.074733   \n",
       "65893       0.458305     0.253559     0.412075        2767.487106   \n",
       "71158       0.531325     0.258276     0.424391        1444.225428   \n",
       "57821       0.412456     0.239312     0.335196        2253.305912   \n",
       "\n",
       "          spectral_bandwidth  spectral_contrast      rolloff  \\\n",
       "track_id                                                       \n",
       "126014            785.999971          25.676751  1183.751175   \n",
       "54496            2091.124342          25.274995  3818.560243   \n",
       "65893            2741.112704          20.450162  5889.689386   \n",
       "71158            2060.084462          19.861984  3089.631317   \n",
       "57821            2412.719760          22.327731  4858.028957   \n",
       "\n",
       "          zero_crossing_rate   tonnetz       mfcc1  ...     mfcc13     mfcc14  \\\n",
       "track_id                                            ...                         \n",
       "126014              0.041712  0.092841 -352.161438  ... -12.659972 -13.275584   \n",
       "54496               0.093890  0.044640 -290.169464  ...  -6.247772   3.441898   \n",
       "65893               0.111506  0.013648  -80.027184  ...  -2.908488   3.085722   \n",
       "71158               0.046734  0.000029 -123.564980  ...  -1.089045   2.822888   \n",
       "57821               0.099870  0.024816  -71.340874  ...  -8.891809  -2.783748   \n",
       "\n",
       "             mfcc15     mfcc16     mfcc17    mfcc18    mfcc19    mfcc20  \\\n",
       "track_id                                                                  \n",
       "126014   -12.988043 -15.687397 -12.339302  2.211766  2.147864 -5.011512   \n",
       "54496     -0.244973   4.090439  -1.278771  9.071951 -0.169724  0.161876   \n",
       "65893     -3.682684   2.957125  -2.243021  1.578797 -4.537785  1.052801   \n",
       "71158     -2.630777   1.943587  -7.131413  1.516889 -0.094114 -0.776687   \n",
       "57821     -6.777088  -3.736772 -11.871335 -0.826213 -2.934075  6.011378   \n",
       "\n",
       "                 genre  testtrainval  \n",
       "track_id                              \n",
       "126014    Instrumental      training  \n",
       "54496     Experimental      training  \n",
       "65893             Folk      training  \n",
       "71158          Hip-Hop      training  \n",
       "57821          Hip-Hop      training  \n",
       "\n",
       "[5 rows x 31 columns]"
      ]
     },
     "execution_count": 16,
     "metadata": {},
     "output_type": "execute_result"
    }
   ],
   "source": [
    "data.head()"
   ]
  },
  {
   "cell_type": "code",
   "execution_count": 17,
   "metadata": {},
   "outputs": [
    {
     "data": {
      "text/plain": [
       "training      6397\n",
       "validation     800\n",
       "test           800\n",
       "Name: testtrainval, dtype: int64"
      ]
     },
     "execution_count": 17,
     "metadata": {},
     "output_type": "execute_result"
    }
   ],
   "source": [
    "data['testtrainval'].value_counts()"
   ]
  },
  {
   "cell_type": "code",
   "execution_count": 18,
   "metadata": {},
   "outputs": [],
   "source": [
    "y = data[['genre','testtrainval']]"
   ]
  },
  {
   "cell_type": "code",
   "execution_count": 19,
   "metadata": {},
   "outputs": [],
   "source": [
    "y.drop('testtrainval',axis=1,inplace=True)"
   ]
  },
  {
   "cell_type": "code",
   "execution_count": 20,
   "metadata": {},
   "outputs": [],
   "source": [
    "X = data.drop(['genre','testtrainval'],axis=1)"
   ]
  },
  {
   "cell_type": "code",
   "execution_count": 21,
   "metadata": {},
   "outputs": [],
   "source": [
    "X2 = X.iloc[:,9:29]"
   ]
  },
  {
   "cell_type": "code",
   "execution_count": 22,
   "metadata": {},
   "outputs": [
    {
     "data": {
      "text/html": [
       "<div>\n",
       "<style scoped>\n",
       "    .dataframe tbody tr th:only-of-type {\n",
       "        vertical-align: middle;\n",
       "    }\n",
       "\n",
       "    .dataframe tbody tr th {\n",
       "        vertical-align: top;\n",
       "    }\n",
       "\n",
       "    .dataframe thead th {\n",
       "        text-align: right;\n",
       "    }\n",
       "</style>\n",
       "<table border=\"1\" class=\"dataframe\">\n",
       "  <thead>\n",
       "    <tr style=\"text-align: right;\">\n",
       "      <th></th>\n",
       "      <th>mfcc1</th>\n",
       "      <th>mfcc2</th>\n",
       "      <th>mfcc3</th>\n",
       "      <th>mfcc4</th>\n",
       "      <th>mfcc5</th>\n",
       "      <th>mfcc6</th>\n",
       "      <th>mfcc7</th>\n",
       "      <th>mfcc8</th>\n",
       "      <th>mfcc9</th>\n",
       "      <th>mfcc10</th>\n",
       "      <th>mfcc11</th>\n",
       "      <th>mfcc12</th>\n",
       "      <th>mfcc13</th>\n",
       "      <th>mfcc14</th>\n",
       "      <th>mfcc15</th>\n",
       "      <th>mfcc16</th>\n",
       "      <th>mfcc17</th>\n",
       "      <th>mfcc18</th>\n",
       "      <th>mfcc19</th>\n",
       "      <th>mfcc20</th>\n",
       "    </tr>\n",
       "    <tr>\n",
       "      <th>track_id</th>\n",
       "      <th></th>\n",
       "      <th></th>\n",
       "      <th></th>\n",
       "      <th></th>\n",
       "      <th></th>\n",
       "      <th></th>\n",
       "      <th></th>\n",
       "      <th></th>\n",
       "      <th></th>\n",
       "      <th></th>\n",
       "      <th></th>\n",
       "      <th></th>\n",
       "      <th></th>\n",
       "      <th></th>\n",
       "      <th></th>\n",
       "      <th></th>\n",
       "      <th></th>\n",
       "      <th></th>\n",
       "      <th></th>\n",
       "      <th></th>\n",
       "    </tr>\n",
       "  </thead>\n",
       "  <tbody>\n",
       "    <tr>\n",
       "      <th>126014</th>\n",
       "      <td>-352.161438</td>\n",
       "      <td>147.268738</td>\n",
       "      <td>-6.516946</td>\n",
       "      <td>14.641133</td>\n",
       "      <td>29.060827</td>\n",
       "      <td>-2.149615</td>\n",
       "      <td>-9.781580</td>\n",
       "      <td>-8.744802</td>\n",
       "      <td>-11.623240</td>\n",
       "      <td>-17.436735</td>\n",
       "      <td>-27.326481</td>\n",
       "      <td>-20.607473</td>\n",
       "      <td>-12.659972</td>\n",
       "      <td>-13.275584</td>\n",
       "      <td>-12.988043</td>\n",
       "      <td>-15.687397</td>\n",
       "      <td>-12.339302</td>\n",
       "      <td>2.211766</td>\n",
       "      <td>2.147864</td>\n",
       "      <td>-5.011512</td>\n",
       "    </tr>\n",
       "    <tr>\n",
       "      <th>54496</th>\n",
       "      <td>-290.169464</td>\n",
       "      <td>107.796921</td>\n",
       "      <td>-17.293709</td>\n",
       "      <td>29.786123</td>\n",
       "      <td>8.302071</td>\n",
       "      <td>11.566362</td>\n",
       "      <td>-11.648953</td>\n",
       "      <td>-6.970734</td>\n",
       "      <td>-3.238187</td>\n",
       "      <td>-2.197775</td>\n",
       "      <td>-5.424025</td>\n",
       "      <td>6.843907</td>\n",
       "      <td>-6.247772</td>\n",
       "      <td>3.441898</td>\n",
       "      <td>-0.244973</td>\n",
       "      <td>4.090439</td>\n",
       "      <td>-1.278771</td>\n",
       "      <td>9.071951</td>\n",
       "      <td>-0.169724</td>\n",
       "      <td>0.161876</td>\n",
       "    </tr>\n",
       "    <tr>\n",
       "      <th>65893</th>\n",
       "      <td>-80.027184</td>\n",
       "      <td>61.457649</td>\n",
       "      <td>18.617395</td>\n",
       "      <td>38.681793</td>\n",
       "      <td>3.637755</td>\n",
       "      <td>21.321770</td>\n",
       "      <td>8.109901</td>\n",
       "      <td>4.545240</td>\n",
       "      <td>-0.697991</td>\n",
       "      <td>7.539818</td>\n",
       "      <td>-8.586940</td>\n",
       "      <td>6.649025</td>\n",
       "      <td>-2.908488</td>\n",
       "      <td>3.085722</td>\n",
       "      <td>-3.682684</td>\n",
       "      <td>2.957125</td>\n",
       "      <td>-2.243021</td>\n",
       "      <td>1.578797</td>\n",
       "      <td>-4.537785</td>\n",
       "      <td>1.052801</td>\n",
       "    </tr>\n",
       "    <tr>\n",
       "      <th>71158</th>\n",
       "      <td>-123.564980</td>\n",
       "      <td>127.734001</td>\n",
       "      <td>22.012423</td>\n",
       "      <td>42.193047</td>\n",
       "      <td>28.423532</td>\n",
       "      <td>-0.134702</td>\n",
       "      <td>7.428549</td>\n",
       "      <td>6.176642</td>\n",
       "      <td>-11.435475</td>\n",
       "      <td>4.944324</td>\n",
       "      <td>5.303405</td>\n",
       "      <td>-0.030636</td>\n",
       "      <td>-1.089045</td>\n",
       "      <td>2.822888</td>\n",
       "      <td>-2.630777</td>\n",
       "      <td>1.943587</td>\n",
       "      <td>-7.131413</td>\n",
       "      <td>1.516889</td>\n",
       "      <td>-0.094114</td>\n",
       "      <td>-0.776687</td>\n",
       "    </tr>\n",
       "    <tr>\n",
       "      <th>57821</th>\n",
       "      <td>-71.340874</td>\n",
       "      <td>92.360405</td>\n",
       "      <td>-3.542409</td>\n",
       "      <td>-0.463810</td>\n",
       "      <td>-13.841660</td>\n",
       "      <td>9.869255</td>\n",
       "      <td>-6.058197</td>\n",
       "      <td>0.128541</td>\n",
       "      <td>-7.656012</td>\n",
       "      <td>0.641387</td>\n",
       "      <td>-8.056653</td>\n",
       "      <td>-5.495337</td>\n",
       "      <td>-8.891809</td>\n",
       "      <td>-2.783748</td>\n",
       "      <td>-6.777088</td>\n",
       "      <td>-3.736772</td>\n",
       "      <td>-11.871335</td>\n",
       "      <td>-0.826213</td>\n",
       "      <td>-2.934075</td>\n",
       "      <td>6.011378</td>\n",
       "    </tr>\n",
       "    <tr>\n",
       "      <th>...</th>\n",
       "      <td>...</td>\n",
       "      <td>...</td>\n",
       "      <td>...</td>\n",
       "      <td>...</td>\n",
       "      <td>...</td>\n",
       "      <td>...</td>\n",
       "      <td>...</td>\n",
       "      <td>...</td>\n",
       "      <td>...</td>\n",
       "      <td>...</td>\n",
       "      <td>...</td>\n",
       "      <td>...</td>\n",
       "      <td>...</td>\n",
       "      <td>...</td>\n",
       "      <td>...</td>\n",
       "      <td>...</td>\n",
       "      <td>...</td>\n",
       "      <td>...</td>\n",
       "      <td>...</td>\n",
       "      <td>...</td>\n",
       "    </tr>\n",
       "    <tr>\n",
       "      <th>43695</th>\n",
       "      <td>-43.920574</td>\n",
       "      <td>101.167107</td>\n",
       "      <td>-54.982464</td>\n",
       "      <td>20.285261</td>\n",
       "      <td>-10.458629</td>\n",
       "      <td>19.034140</td>\n",
       "      <td>-2.695947</td>\n",
       "      <td>5.690491</td>\n",
       "      <td>-0.599940</td>\n",
       "      <td>2.894833</td>\n",
       "      <td>9.848370</td>\n",
       "      <td>17.061972</td>\n",
       "      <td>2.227302</td>\n",
       "      <td>-2.029427</td>\n",
       "      <td>-8.724811</td>\n",
       "      <td>2.876313</td>\n",
       "      <td>-2.736481</td>\n",
       "      <td>-2.547942</td>\n",
       "      <td>-10.971077</td>\n",
       "      <td>-4.219173</td>\n",
       "    </tr>\n",
       "    <tr>\n",
       "      <th>68410</th>\n",
       "      <td>-16.044903</td>\n",
       "      <td>70.045433</td>\n",
       "      <td>8.357967</td>\n",
       "      <td>28.988680</td>\n",
       "      <td>-3.816420</td>\n",
       "      <td>-5.503837</td>\n",
       "      <td>-0.557270</td>\n",
       "      <td>-0.938137</td>\n",
       "      <td>-1.681377</td>\n",
       "      <td>-6.005097</td>\n",
       "      <td>-4.045043</td>\n",
       "      <td>0.901013</td>\n",
       "      <td>-8.597396</td>\n",
       "      <td>-5.432930</td>\n",
       "      <td>-12.551827</td>\n",
       "      <td>-5.137374</td>\n",
       "      <td>-5.069657</td>\n",
       "      <td>1.975084</td>\n",
       "      <td>-0.862782</td>\n",
       "      <td>-1.661779</td>\n",
       "    </tr>\n",
       "    <tr>\n",
       "      <th>51291</th>\n",
       "      <td>-129.250885</td>\n",
       "      <td>63.081413</td>\n",
       "      <td>-90.161919</td>\n",
       "      <td>-19.360296</td>\n",
       "      <td>-11.701410</td>\n",
       "      <td>-1.094478</td>\n",
       "      <td>-11.671681</td>\n",
       "      <td>-0.070076</td>\n",
       "      <td>1.406723</td>\n",
       "      <td>9.443295</td>\n",
       "      <td>0.234382</td>\n",
       "      <td>4.351338</td>\n",
       "      <td>-6.455239</td>\n",
       "      <td>-0.917210</td>\n",
       "      <td>-7.075034</td>\n",
       "      <td>-6.199870</td>\n",
       "      <td>-16.941978</td>\n",
       "      <td>-10.509199</td>\n",
       "      <td>-13.883102</td>\n",
       "      <td>-8.334950</td>\n",
       "    </tr>\n",
       "    <tr>\n",
       "      <th>96902</th>\n",
       "      <td>-131.422440</td>\n",
       "      <td>76.937721</td>\n",
       "      <td>0.069656</td>\n",
       "      <td>26.553127</td>\n",
       "      <td>3.110802</td>\n",
       "      <td>11.918691</td>\n",
       "      <td>10.862655</td>\n",
       "      <td>9.303383</td>\n",
       "      <td>3.352209</td>\n",
       "      <td>10.177288</td>\n",
       "      <td>5.176269</td>\n",
       "      <td>5.713117</td>\n",
       "      <td>1.654524</td>\n",
       "      <td>4.061273</td>\n",
       "      <td>-1.165561</td>\n",
       "      <td>2.711851</td>\n",
       "      <td>0.628912</td>\n",
       "      <td>5.172374</td>\n",
       "      <td>-1.899058</td>\n",
       "      <td>4.804729</td>\n",
       "    </tr>\n",
       "    <tr>\n",
       "      <th>75441</th>\n",
       "      <td>-51.911427</td>\n",
       "      <td>126.860588</td>\n",
       "      <td>-15.170919</td>\n",
       "      <td>30.184669</td>\n",
       "      <td>2.558908</td>\n",
       "      <td>0.311701</td>\n",
       "      <td>-7.167921</td>\n",
       "      <td>-0.066869</td>\n",
       "      <td>-10.975960</td>\n",
       "      <td>-0.807263</td>\n",
       "      <td>-4.079852</td>\n",
       "      <td>2.902719</td>\n",
       "      <td>-3.392798</td>\n",
       "      <td>1.521918</td>\n",
       "      <td>-3.046554</td>\n",
       "      <td>-1.781818</td>\n",
       "      <td>-6.048144</td>\n",
       "      <td>0.493086</td>\n",
       "      <td>-6.947587</td>\n",
       "      <td>-3.104219</td>\n",
       "    </tr>\n",
       "  </tbody>\n",
       "</table>\n",
       "<p>7997 rows × 20 columns</p>\n",
       "</div>"
      ],
      "text/plain": [
       "               mfcc1       mfcc2      mfcc3      mfcc4      mfcc5      mfcc6  \\\n",
       "track_id                                                                       \n",
       "126014   -352.161438  147.268738  -6.516946  14.641133  29.060827  -2.149615   \n",
       "54496    -290.169464  107.796921 -17.293709  29.786123   8.302071  11.566362   \n",
       "65893     -80.027184   61.457649  18.617395  38.681793   3.637755  21.321770   \n",
       "71158    -123.564980  127.734001  22.012423  42.193047  28.423532  -0.134702   \n",
       "57821     -71.340874   92.360405  -3.542409  -0.463810 -13.841660   9.869255   \n",
       "...              ...         ...        ...        ...        ...        ...   \n",
       "43695     -43.920574  101.167107 -54.982464  20.285261 -10.458629  19.034140   \n",
       "68410     -16.044903   70.045433   8.357967  28.988680  -3.816420  -5.503837   \n",
       "51291    -129.250885   63.081413 -90.161919 -19.360296 -11.701410  -1.094478   \n",
       "96902    -131.422440   76.937721   0.069656  26.553127   3.110802  11.918691   \n",
       "75441     -51.911427  126.860588 -15.170919  30.184669   2.558908   0.311701   \n",
       "\n",
       "              mfcc7     mfcc8      mfcc9     mfcc10     mfcc11     mfcc12  \\\n",
       "track_id                                                                    \n",
       "126014    -9.781580 -8.744802 -11.623240 -17.436735 -27.326481 -20.607473   \n",
       "54496    -11.648953 -6.970734  -3.238187  -2.197775  -5.424025   6.843907   \n",
       "65893      8.109901  4.545240  -0.697991   7.539818  -8.586940   6.649025   \n",
       "71158      7.428549  6.176642 -11.435475   4.944324   5.303405  -0.030636   \n",
       "57821     -6.058197  0.128541  -7.656012   0.641387  -8.056653  -5.495337   \n",
       "...             ...       ...        ...        ...        ...        ...   \n",
       "43695     -2.695947  5.690491  -0.599940   2.894833   9.848370  17.061972   \n",
       "68410     -0.557270 -0.938137  -1.681377  -6.005097  -4.045043   0.901013   \n",
       "51291    -11.671681 -0.070076   1.406723   9.443295   0.234382   4.351338   \n",
       "96902     10.862655  9.303383   3.352209  10.177288   5.176269   5.713117   \n",
       "75441     -7.167921 -0.066869 -10.975960  -0.807263  -4.079852   2.902719   \n",
       "\n",
       "             mfcc13     mfcc14     mfcc15     mfcc16     mfcc17     mfcc18  \\\n",
       "track_id                                                                     \n",
       "126014   -12.659972 -13.275584 -12.988043 -15.687397 -12.339302   2.211766   \n",
       "54496     -6.247772   3.441898  -0.244973   4.090439  -1.278771   9.071951   \n",
       "65893     -2.908488   3.085722  -3.682684   2.957125  -2.243021   1.578797   \n",
       "71158     -1.089045   2.822888  -2.630777   1.943587  -7.131413   1.516889   \n",
       "57821     -8.891809  -2.783748  -6.777088  -3.736772 -11.871335  -0.826213   \n",
       "...             ...        ...        ...        ...        ...        ...   \n",
       "43695      2.227302  -2.029427  -8.724811   2.876313  -2.736481  -2.547942   \n",
       "68410     -8.597396  -5.432930 -12.551827  -5.137374  -5.069657   1.975084   \n",
       "51291     -6.455239  -0.917210  -7.075034  -6.199870 -16.941978 -10.509199   \n",
       "96902      1.654524   4.061273  -1.165561   2.711851   0.628912   5.172374   \n",
       "75441     -3.392798   1.521918  -3.046554  -1.781818  -6.048144   0.493086   \n",
       "\n",
       "             mfcc19    mfcc20  \n",
       "track_id                       \n",
       "126014     2.147864 -5.011512  \n",
       "54496     -0.169724  0.161876  \n",
       "65893     -4.537785  1.052801  \n",
       "71158     -0.094114 -0.776687  \n",
       "57821     -2.934075  6.011378  \n",
       "...             ...       ...  \n",
       "43695    -10.971077 -4.219173  \n",
       "68410     -0.862782 -1.661779  \n",
       "51291    -13.883102 -8.334950  \n",
       "96902     -1.899058  4.804729  \n",
       "75441     -6.947587 -3.104219  \n",
       "\n",
       "[7997 rows x 20 columns]"
      ]
     },
     "execution_count": 22,
     "metadata": {},
     "output_type": "execute_result"
    }
   ],
   "source": [
    "X2"
   ]
  },
  {
   "cell_type": "code",
   "execution_count": 23,
   "metadata": {},
   "outputs": [],
   "source": [
    "X_train, X_test, y_train , y_test = train_test_split(X,y,stratify=y,test_size=0.15)"
   ]
  },
  {
   "cell_type": "code",
   "execution_count": 24,
   "metadata": {},
   "outputs": [
    {
     "data": {
      "text/plain": [
       "((6797, 29), (1200, 29))"
      ]
     },
     "execution_count": 24,
     "metadata": {},
     "output_type": "execute_result"
    }
   ],
   "source": [
    "X_train.shape,X_test.shape"
   ]
  },
  {
   "cell_type": "code",
   "execution_count": 25,
   "metadata": {},
   "outputs": [
    {
     "data": {
      "text/html": [
       "<div>\n",
       "<style scoped>\n",
       "    .dataframe tbody tr th:only-of-type {\n",
       "        vertical-align: middle;\n",
       "    }\n",
       "\n",
       "    .dataframe tbody tr th {\n",
       "        vertical-align: top;\n",
       "    }\n",
       "\n",
       "    .dataframe thead th {\n",
       "        text-align: right;\n",
       "    }\n",
       "</style>\n",
       "<table border=\"1\" class=\"dataframe\">\n",
       "  <thead>\n",
       "    <tr style=\"text-align: right;\">\n",
       "      <th></th>\n",
       "      <th>chroma_cqt</th>\n",
       "      <th>chroma_cens</th>\n",
       "      <th>chroma_stft</th>\n",
       "      <th>spectral_centroid</th>\n",
       "      <th>spectral_bandwidth</th>\n",
       "      <th>spectral_contrast</th>\n",
       "      <th>rolloff</th>\n",
       "      <th>zero_crossing_rate</th>\n",
       "      <th>tonnetz</th>\n",
       "      <th>mfcc1</th>\n",
       "      <th>...</th>\n",
       "      <th>mfcc11</th>\n",
       "      <th>mfcc12</th>\n",
       "      <th>mfcc13</th>\n",
       "      <th>mfcc14</th>\n",
       "      <th>mfcc15</th>\n",
       "      <th>mfcc16</th>\n",
       "      <th>mfcc17</th>\n",
       "      <th>mfcc18</th>\n",
       "      <th>mfcc19</th>\n",
       "      <th>mfcc20</th>\n",
       "    </tr>\n",
       "    <tr>\n",
       "      <th>track_id</th>\n",
       "      <th></th>\n",
       "      <th></th>\n",
       "      <th></th>\n",
       "      <th></th>\n",
       "      <th></th>\n",
       "      <th></th>\n",
       "      <th></th>\n",
       "      <th></th>\n",
       "      <th></th>\n",
       "      <th></th>\n",
       "      <th></th>\n",
       "      <th></th>\n",
       "      <th></th>\n",
       "      <th></th>\n",
       "      <th></th>\n",
       "      <th></th>\n",
       "      <th></th>\n",
       "      <th></th>\n",
       "      <th></th>\n",
       "      <th></th>\n",
       "      <th></th>\n",
       "    </tr>\n",
       "  </thead>\n",
       "  <tbody>\n",
       "    <tr>\n",
       "      <th>131773</th>\n",
       "      <td>0.372388</td>\n",
       "      <td>0.209253</td>\n",
       "      <td>0.328619</td>\n",
       "      <td>1400.392424</td>\n",
       "      <td>1826.969921</td>\n",
       "      <td>22.535515</td>\n",
       "      <td>2757.141661</td>\n",
       "      <td>0.059253</td>\n",
       "      <td>-0.016174</td>\n",
       "      <td>-38.346336</td>\n",
       "      <td>...</td>\n",
       "      <td>-1.975244</td>\n",
       "      <td>3.768617</td>\n",
       "      <td>-4.153757</td>\n",
       "      <td>5.541670</td>\n",
       "      <td>-3.770152</td>\n",
       "      <td>-0.834110</td>\n",
       "      <td>-3.160408</td>\n",
       "      <td>0.150830</td>\n",
       "      <td>-9.146327</td>\n",
       "      <td>-1.456481</td>\n",
       "    </tr>\n",
       "    <tr>\n",
       "      <th>120782</th>\n",
       "      <td>0.334008</td>\n",
       "      <td>0.225040</td>\n",
       "      <td>0.264973</td>\n",
       "      <td>2589.118191</td>\n",
       "      <td>2139.619711</td>\n",
       "      <td>21.921884</td>\n",
       "      <td>4632.021991</td>\n",
       "      <td>0.164121</td>\n",
       "      <td>0.054004</td>\n",
       "      <td>-33.519344</td>\n",
       "      <td>...</td>\n",
       "      <td>-11.404074</td>\n",
       "      <td>0.371624</td>\n",
       "      <td>-17.020290</td>\n",
       "      <td>-7.852069</td>\n",
       "      <td>-14.927024</td>\n",
       "      <td>-4.611187</td>\n",
       "      <td>-14.555181</td>\n",
       "      <td>-6.223438</td>\n",
       "      <td>-4.563812</td>\n",
       "      <td>3.774600</td>\n",
       "    </tr>\n",
       "    <tr>\n",
       "      <th>54554</th>\n",
       "      <td>0.249969</td>\n",
       "      <td>0.174932</td>\n",
       "      <td>0.349217</td>\n",
       "      <td>2018.774915</td>\n",
       "      <td>2485.071715</td>\n",
       "      <td>22.808994</td>\n",
       "      <td>4536.830900</td>\n",
       "      <td>0.068653</td>\n",
       "      <td>-0.055521</td>\n",
       "      <td>-27.665665</td>\n",
       "      <td>...</td>\n",
       "      <td>-13.281664</td>\n",
       "      <td>-0.835726</td>\n",
       "      <td>-5.331334</td>\n",
       "      <td>0.038501</td>\n",
       "      <td>-10.288385</td>\n",
       "      <td>-2.898703</td>\n",
       "      <td>-7.998680</td>\n",
       "      <td>-6.829758</td>\n",
       "      <td>-12.564663</td>\n",
       "      <td>-6.673479</td>\n",
       "    </tr>\n",
       "    <tr>\n",
       "      <th>116487</th>\n",
       "      <td>0.382595</td>\n",
       "      <td>0.235406</td>\n",
       "      <td>0.300009</td>\n",
       "      <td>917.617663</td>\n",
       "      <td>1365.839534</td>\n",
       "      <td>24.056569</td>\n",
       "      <td>1742.831128</td>\n",
       "      <td>0.040990</td>\n",
       "      <td>0.019829</td>\n",
       "      <td>-280.326141</td>\n",
       "      <td>...</td>\n",
       "      <td>2.095576</td>\n",
       "      <td>-2.634427</td>\n",
       "      <td>3.689865</td>\n",
       "      <td>10.079310</td>\n",
       "      <td>-0.566289</td>\n",
       "      <td>-0.845538</td>\n",
       "      <td>-1.196876</td>\n",
       "      <td>-0.541258</td>\n",
       "      <td>3.024660</td>\n",
       "      <td>0.074682</td>\n",
       "    </tr>\n",
       "    <tr>\n",
       "      <th>124917</th>\n",
       "      <td>0.463618</td>\n",
       "      <td>0.255246</td>\n",
       "      <td>0.530601</td>\n",
       "      <td>2175.153524</td>\n",
       "      <td>2784.842095</td>\n",
       "      <td>19.442464</td>\n",
       "      <td>5311.234550</td>\n",
       "      <td>0.051251</td>\n",
       "      <td>0.002080</td>\n",
       "      <td>-120.701767</td>\n",
       "      <td>...</td>\n",
       "      <td>4.233308</td>\n",
       "      <td>10.707227</td>\n",
       "      <td>2.800570</td>\n",
       "      <td>6.826595</td>\n",
       "      <td>2.312478</td>\n",
       "      <td>5.476278</td>\n",
       "      <td>3.750225</td>\n",
       "      <td>8.809620</td>\n",
       "      <td>3.949850</td>\n",
       "      <td>3.140118</td>\n",
       "    </tr>\n",
       "    <tr>\n",
       "      <th>...</th>\n",
       "      <td>...</td>\n",
       "      <td>...</td>\n",
       "      <td>...</td>\n",
       "      <td>...</td>\n",
       "      <td>...</td>\n",
       "      <td>...</td>\n",
       "      <td>...</td>\n",
       "      <td>...</td>\n",
       "      <td>...</td>\n",
       "      <td>...</td>\n",
       "      <td>...</td>\n",
       "      <td>...</td>\n",
       "      <td>...</td>\n",
       "      <td>...</td>\n",
       "      <td>...</td>\n",
       "      <td>...</td>\n",
       "      <td>...</td>\n",
       "      <td>...</td>\n",
       "      <td>...</td>\n",
       "      <td>...</td>\n",
       "      <td>...</td>\n",
       "    </tr>\n",
       "    <tr>\n",
       "      <th>75754</th>\n",
       "      <td>0.605749</td>\n",
       "      <td>0.272646</td>\n",
       "      <td>0.440443</td>\n",
       "      <td>2159.743330</td>\n",
       "      <td>2425.641689</td>\n",
       "      <td>19.232929</td>\n",
       "      <td>4655.755181</td>\n",
       "      <td>0.093012</td>\n",
       "      <td>0.011497</td>\n",
       "      <td>-16.501081</td>\n",
       "      <td>...</td>\n",
       "      <td>0.357127</td>\n",
       "      <td>6.827625</td>\n",
       "      <td>-5.474258</td>\n",
       "      <td>6.541445</td>\n",
       "      <td>-4.097631</td>\n",
       "      <td>2.612027</td>\n",
       "      <td>-3.068569</td>\n",
       "      <td>-0.637887</td>\n",
       "      <td>-6.145115</td>\n",
       "      <td>-2.312634</td>\n",
       "    </tr>\n",
       "    <tr>\n",
       "      <th>36371</th>\n",
       "      <td>0.626633</td>\n",
       "      <td>0.275995</td>\n",
       "      <td>0.418540</td>\n",
       "      <td>2204.398216</td>\n",
       "      <td>2534.307242</td>\n",
       "      <td>18.307112</td>\n",
       "      <td>4803.279289</td>\n",
       "      <td>0.079183</td>\n",
       "      <td>0.014199</td>\n",
       "      <td>-28.272703</td>\n",
       "      <td>...</td>\n",
       "      <td>-2.384476</td>\n",
       "      <td>4.460902</td>\n",
       "      <td>-6.927068</td>\n",
       "      <td>3.699929</td>\n",
       "      <td>-2.150015</td>\n",
       "      <td>2.287759</td>\n",
       "      <td>-1.798179</td>\n",
       "      <td>3.438052</td>\n",
       "      <td>-2.824548</td>\n",
       "      <td>5.316834</td>\n",
       "    </tr>\n",
       "    <tr>\n",
       "      <th>21409</th>\n",
       "      <td>0.385574</td>\n",
       "      <td>0.230893</td>\n",
       "      <td>0.271134</td>\n",
       "      <td>1709.859690</td>\n",
       "      <td>2177.613298</td>\n",
       "      <td>21.935439</td>\n",
       "      <td>3631.719706</td>\n",
       "      <td>0.061976</td>\n",
       "      <td>-0.018494</td>\n",
       "      <td>-132.824417</td>\n",
       "      <td>...</td>\n",
       "      <td>-8.507709</td>\n",
       "      <td>-4.908473</td>\n",
       "      <td>-11.523382</td>\n",
       "      <td>-7.799408</td>\n",
       "      <td>-14.776809</td>\n",
       "      <td>-7.783975</td>\n",
       "      <td>-4.858551</td>\n",
       "      <td>2.836877</td>\n",
       "      <td>-3.028706</td>\n",
       "      <td>4.327224</td>\n",
       "    </tr>\n",
       "    <tr>\n",
       "      <th>120194</th>\n",
       "      <td>0.397477</td>\n",
       "      <td>0.252411</td>\n",
       "      <td>0.420686</td>\n",
       "      <td>2672.519598</td>\n",
       "      <td>2725.951110</td>\n",
       "      <td>20.046844</td>\n",
       "      <td>5955.697320</td>\n",
       "      <td>0.100437</td>\n",
       "      <td>0.000867</td>\n",
       "      <td>-12.696309</td>\n",
       "      <td>...</td>\n",
       "      <td>-6.930558</td>\n",
       "      <td>7.275412</td>\n",
       "      <td>-7.047319</td>\n",
       "      <td>-1.139756</td>\n",
       "      <td>-7.261473</td>\n",
       "      <td>3.706654</td>\n",
       "      <td>-8.966882</td>\n",
       "      <td>-1.239794</td>\n",
       "      <td>-7.159239</td>\n",
       "      <td>-4.142651</td>\n",
       "    </tr>\n",
       "    <tr>\n",
       "      <th>149712</th>\n",
       "      <td>0.464331</td>\n",
       "      <td>0.255982</td>\n",
       "      <td>0.378236</td>\n",
       "      <td>1759.691544</td>\n",
       "      <td>1740.638508</td>\n",
       "      <td>21.984548</td>\n",
       "      <td>3454.220779</td>\n",
       "      <td>0.093776</td>\n",
       "      <td>0.021970</td>\n",
       "      <td>-64.848099</td>\n",
       "      <td>...</td>\n",
       "      <td>-8.435785</td>\n",
       "      <td>-3.757856</td>\n",
       "      <td>-9.247508</td>\n",
       "      <td>-0.022760</td>\n",
       "      <td>-6.041853</td>\n",
       "      <td>-5.064397</td>\n",
       "      <td>-13.827955</td>\n",
       "      <td>-8.063128</td>\n",
       "      <td>2.721472</td>\n",
       "      <td>-6.200738</td>\n",
       "    </tr>\n",
       "  </tbody>\n",
       "</table>\n",
       "<p>6797 rows × 29 columns</p>\n",
       "</div>"
      ],
      "text/plain": [
       "          chroma_cqt  chroma_cens  chroma_stft  spectral_centroid  \\\n",
       "track_id                                                            \n",
       "131773      0.372388     0.209253     0.328619        1400.392424   \n",
       "120782      0.334008     0.225040     0.264973        2589.118191   \n",
       "54554       0.249969     0.174932     0.349217        2018.774915   \n",
       "116487      0.382595     0.235406     0.300009         917.617663   \n",
       "124917      0.463618     0.255246     0.530601        2175.153524   \n",
       "...              ...          ...          ...                ...   \n",
       "75754       0.605749     0.272646     0.440443        2159.743330   \n",
       "36371       0.626633     0.275995     0.418540        2204.398216   \n",
       "21409       0.385574     0.230893     0.271134        1709.859690   \n",
       "120194      0.397477     0.252411     0.420686        2672.519598   \n",
       "149712      0.464331     0.255982     0.378236        1759.691544   \n",
       "\n",
       "          spectral_bandwidth  spectral_contrast      rolloff  \\\n",
       "track_id                                                       \n",
       "131773           1826.969921          22.535515  2757.141661   \n",
       "120782           2139.619711          21.921884  4632.021991   \n",
       "54554            2485.071715          22.808994  4536.830900   \n",
       "116487           1365.839534          24.056569  1742.831128   \n",
       "124917           2784.842095          19.442464  5311.234550   \n",
       "...                      ...                ...          ...   \n",
       "75754            2425.641689          19.232929  4655.755181   \n",
       "36371            2534.307242          18.307112  4803.279289   \n",
       "21409            2177.613298          21.935439  3631.719706   \n",
       "120194           2725.951110          20.046844  5955.697320   \n",
       "149712           1740.638508          21.984548  3454.220779   \n",
       "\n",
       "          zero_crossing_rate   tonnetz       mfcc1  ...     mfcc11     mfcc12  \\\n",
       "track_id                                            ...                         \n",
       "131773              0.059253 -0.016174  -38.346336  ...  -1.975244   3.768617   \n",
       "120782              0.164121  0.054004  -33.519344  ... -11.404074   0.371624   \n",
       "54554               0.068653 -0.055521  -27.665665  ... -13.281664  -0.835726   \n",
       "116487              0.040990  0.019829 -280.326141  ...   2.095576  -2.634427   \n",
       "124917              0.051251  0.002080 -120.701767  ...   4.233308  10.707227   \n",
       "...                      ...       ...         ...  ...        ...        ...   \n",
       "75754               0.093012  0.011497  -16.501081  ...   0.357127   6.827625   \n",
       "36371               0.079183  0.014199  -28.272703  ...  -2.384476   4.460902   \n",
       "21409               0.061976 -0.018494 -132.824417  ...  -8.507709  -4.908473   \n",
       "120194              0.100437  0.000867  -12.696309  ...  -6.930558   7.275412   \n",
       "149712              0.093776  0.021970  -64.848099  ...  -8.435785  -3.757856   \n",
       "\n",
       "             mfcc13     mfcc14     mfcc15    mfcc16     mfcc17    mfcc18  \\\n",
       "track_id                                                                   \n",
       "131773    -4.153757   5.541670  -3.770152 -0.834110  -3.160408  0.150830   \n",
       "120782   -17.020290  -7.852069 -14.927024 -4.611187 -14.555181 -6.223438   \n",
       "54554     -5.331334   0.038501 -10.288385 -2.898703  -7.998680 -6.829758   \n",
       "116487     3.689865  10.079310  -0.566289 -0.845538  -1.196876 -0.541258   \n",
       "124917     2.800570   6.826595   2.312478  5.476278   3.750225  8.809620   \n",
       "...             ...        ...        ...       ...        ...       ...   \n",
       "75754     -5.474258   6.541445  -4.097631  2.612027  -3.068569 -0.637887   \n",
       "36371     -6.927068   3.699929  -2.150015  2.287759  -1.798179  3.438052   \n",
       "21409    -11.523382  -7.799408 -14.776809 -7.783975  -4.858551  2.836877   \n",
       "120194    -7.047319  -1.139756  -7.261473  3.706654  -8.966882 -1.239794   \n",
       "149712    -9.247508  -0.022760  -6.041853 -5.064397 -13.827955 -8.063128   \n",
       "\n",
       "             mfcc19    mfcc20  \n",
       "track_id                       \n",
       "131773    -9.146327 -1.456481  \n",
       "120782    -4.563812  3.774600  \n",
       "54554    -12.564663 -6.673479  \n",
       "116487     3.024660  0.074682  \n",
       "124917     3.949850  3.140118  \n",
       "...             ...       ...  \n",
       "75754     -6.145115 -2.312634  \n",
       "36371     -2.824548  5.316834  \n",
       "21409     -3.028706  4.327224  \n",
       "120194    -7.159239 -4.142651  \n",
       "149712     2.721472 -6.200738  \n",
       "\n",
       "[6797 rows x 29 columns]"
      ]
     },
     "execution_count": 25,
     "metadata": {},
     "output_type": "execute_result"
    }
   ],
   "source": [
    "X_train"
   ]
  },
  {
   "cell_type": "code",
   "execution_count": 26,
   "metadata": {},
   "outputs": [
    {
     "data": {
      "text/plain": [
       "0.18758793184305142"
      ]
     },
     "execution_count": 26,
     "metadata": {},
     "output_type": "execute_result"
    }
   ],
   "source": [
    "1200/6397"
   ]
  },
  {
   "cell_type": "code",
   "execution_count": 27,
   "metadata": {},
   "outputs": [],
   "source": [
    "X_train,X_val, y_train, y_val = train_test_split(X_train,y_train, stratify=y_train,test_size=0.18)"
   ]
  },
  {
   "cell_type": "code",
   "execution_count": 99,
   "metadata": {},
   "outputs": [],
   "source": [
    "encoder = LabelEncoder()"
   ]
  },
  {
   "cell_type": "code",
   "execution_count": 100,
   "metadata": {},
   "outputs": [],
   "source": [
    "y_train = encoder.fit_transform(y_train)\n",
    "y_test = encoder.transform(y_test)\n",
    "y_val = encoder.transform(y_val)"
   ]
  },
  {
   "cell_type": "code",
   "execution_count": 101,
   "metadata": {},
   "outputs": [],
   "source": [
    "scaler = StandardScaler()"
   ]
  },
  {
   "cell_type": "code",
   "execution_count": 102,
   "metadata": {},
   "outputs": [],
   "source": [
    "X_train = scaler.fit_transform(X_train)\n",
    "X_test = scaler.transform(X_test)\n",
    "X_val = scaler.transform(X_val)"
   ]
  },
  {
   "cell_type": "code",
   "execution_count": 102,
   "metadata": {},
   "outputs": [],
   "source": [
    "X2_train = scaler.fit_transform(X2_train)\n",
    "X2_test = scaler.transform(X2_test)\n",
    "X2_val = scaler.transform(X2_val)"
   ]
  },
  {
   "cell_type": "code",
   "execution_count": 28,
   "metadata": {},
   "outputs": [
    {
     "data": {
      "text/plain": [
       "RandomForestClassifier(criterion='entropy', n_estimators=10, random_state=42)"
      ]
     },
     "execution_count": 28,
     "metadata": {},
     "output_type": "execute_result"
    }
   ],
   "source": [
    "classifier = RandomForestClassifier(n_estimators = 10, criterion = 'entropy', random_state = 42)\n",
    "classifier.fit(X_train, y_train)"
   ]
  },
  {
   "cell_type": "code",
   "execution_count": 29,
   "metadata": {},
   "outputs": [
    {
     "data": {
      "text/plain": [
       "0.9899515521263234"
      ]
     },
     "execution_count": 29,
     "metadata": {},
     "output_type": "execute_result"
    }
   ],
   "source": [
    "classifier.score(X_train,y_train)"
   ]
  },
  {
   "cell_type": "code",
   "execution_count": 30,
   "metadata": {},
   "outputs": [
    {
     "data": {
      "text/plain": [
       "0.39416666666666667"
      ]
     },
     "execution_count": 30,
     "metadata": {},
     "output_type": "execute_result"
    }
   ],
   "source": [
    "classifier.score(X_test,y_test)"
   ]
  },
  {
   "cell_type": "code",
   "execution_count": 31,
   "metadata": {},
   "outputs": [
    {
     "data": {
      "text/plain": [
       "0.3872549019607843"
      ]
     },
     "execution_count": 31,
     "metadata": {},
     "output_type": "execute_result"
    }
   ],
   "source": [
    "classifier.score(X_val,y_val)"
   ]
  },
  {
   "cell_type": "code",
   "execution_count": null,
   "metadata": {},
   "outputs": [],
   "source": [
    "# Number of trees in random forest\n",
    "n_estimators = [int(x) for x in np.linspace(start = 200, stop = 2000, num = 10)]\n",
    "# Number of features to consider at every split\n",
    "max_features = ['auto', 'sqrt']\n",
    "# Maximum number of levels in tree\n",
    "max_depth = [int(x) for x in np.linspace(10, 110, num = 11)]\n",
    "max_depth.append(None)\n",
    "# Minimum number of samples required to split a node\n",
    "min_samples_split = [2, 5, 10]\n",
    "# Minimum number of samples required at each leaf node\n",
    "min_samples_leaf = [1, 2, 4]\n",
    "# Method of selecting samples for training each tree\n",
    "bootstrap = [True, False]"
   ]
  },
  {
   "cell_type": "code",
   "execution_count": null,
   "metadata": {},
   "outputs": [],
   "source": []
  },
  {
   "cell_type": "code",
   "execution_count": 33,
   "metadata": {},
   "outputs": [],
   "source": [
    " = [int(x) for x in np.linspace(start = 200, stop = 2000, num = 10)]"
   ]
  },
  {
   "cell_type": "code",
   "execution_count": 112,
   "metadata": {},
   "outputs": [],
   "source": [
    "max_features = ['auto', 'sqrt']\n"
   ]
  },
  {
   "cell_type": "code",
   "execution_count": 113,
   "metadata": {},
   "outputs": [],
   "source": [
    "max_depth = [int(x) for x in np.linspace(10, 110, num = 11)]\n",
    "max_depth.append(None)"
   ]
  },
  {
   "cell_type": "code",
   "execution_count": 114,
   "metadata": {},
   "outputs": [],
   "source": [
    "min_samples_split = [2, 5, 10]\n"
   ]
  },
  {
   "cell_type": "code",
   "execution_count": 115,
   "metadata": {},
   "outputs": [],
   "source": [
    "min_samples_leaf = [1, 2, 4]\n",
    "# Method of selecting samples for training each tree\n",
    "bootstrap = [True, False]"
   ]
  },
  {
   "cell_type": "code",
   "execution_count": 116,
   "metadata": {},
   "outputs": [],
   "source": [
    "random_grid = {'n_estimators': n_estimators,\n",
    "               \n",
    "               'max_features': max_features,\n",
    "               'max_depth': max_depth,\n",
    "               'min_samples_split': min_samples_split,\n",
    "               'min_samples_leaf': min_samples_leaf,\n",
    "               'bootstrap': bootstrap}"
   ]
  },
  {
   "cell_type": "code",
   "execution_count": 32,
   "metadata": {},
   "outputs": [],
   "source": [
    "rf_pipeline = Pipeline([('ss', StandardScaler()),('RF',RandomForestClassifier())])"
   ]
  },
  {
   "cell_type": "code",
   "execution_count": 43,
   "metadata": {},
   "outputs": [],
   "source": [
    "params = [{'RF__max_depth': [4, 5, 6], 'RF__criterion':['gini','entropy'],\n",
    "           'RF__max_features' :['auto', 'sqrt'],\n",
    "         'RF__min_samples_split': [2, 5, 10], \n",
    "           'RF__n_estimators':[5,10,50,100,250,500],\n",
    "         'RF__min_samples_leaf': [1, 2, 4]}]"
   ]
  },
  {
   "cell_type": "code",
   "execution_count": 44,
   "metadata": {},
   "outputs": [],
   "source": [
    "rf_cv = GridSearchCV(estimator=rf_pipeline,param_grid=params,cv=5)"
   ]
  },
  {
   "cell_type": "code",
   "execution_count": 45,
   "metadata": {},
   "outputs": [
    {
     "data": {
      "text/plain": [
       "GridSearchCV(cv=5,\n",
       "             estimator=Pipeline(steps=[('ss', StandardScaler()),\n",
       "                                       ('RF', RandomForestClassifier())]),\n",
       "             param_grid=[{'RF__criterion': ['gini', 'entropy'],\n",
       "                          'RF__max_depth': [4, 5, 6],\n",
       "                          'RF__max_features': ['auto', 'sqrt'],\n",
       "                          'RF__min_samples_leaf': [1, 2, 4],\n",
       "                          'RF__min_samples_split': [2, 5, 10],\n",
       "                          'RF__n_estimators': [100, 250, 500]}])"
      ]
     },
     "execution_count": 45,
     "metadata": {},
     "output_type": "execute_result"
    }
   ],
   "source": [
    "rf_cv.fit(X_val,y_val)"
   ]
  },
  {
   "cell_type": "code",
   "execution_count": 46,
   "metadata": {},
   "outputs": [
    {
     "data": {
      "text/plain": [
       "{'RF__criterion': 'gini',\n",
       " 'RF__max_depth': 6,\n",
       " 'RF__max_features': 'sqrt',\n",
       " 'RF__min_samples_leaf': 1,\n",
       " 'RF__min_samples_split': 10,\n",
       " 'RF__n_estimators': 500}"
      ]
     },
     "execution_count": 46,
     "metadata": {},
     "output_type": "execute_result"
    }
   ],
   "source": [
    "rf_best = rf_cv.best_estimator_\n",
    "rf_cv.best_params_"
   ]
  },
  {
   "cell_type": "code",
   "execution_count": 47,
   "metadata": {},
   "outputs": [
    {
     "data": {
      "text/plain": [
       "(0.42490579580118426, 0.4)"
      ]
     },
     "execution_count": 47,
     "metadata": {},
     "output_type": "execute_result"
    }
   ],
   "source": [
    "rf_best.score(X_train,y_train),rf_best.score(X_test,y_test)"
   ]
  },
  {
   "cell_type": "code",
   "execution_count": 49,
   "metadata": {},
   "outputs": [
    {
     "data": {
      "text/plain": [
       "0.6887254901960784"
      ]
     },
     "execution_count": 49,
     "metadata": {},
     "output_type": "execute_result"
    }
   ],
   "source": [
    "rf_best.score(X_val,y_val)"
   ]
  },
  {
   "cell_type": "code",
   "execution_count": 50,
   "metadata": {},
   "outputs": [],
   "source": [
    "import xgboost as xgb\n"
   ]
  },
  {
   "cell_type": "code",
   "execution_count": null,
   "metadata": {},
   "outputs": [],
   "source": []
  },
  {
   "cell_type": "code",
   "execution_count": null,
   "metadata": {},
   "outputs": [],
   "source": []
  },
  {
   "cell_type": "code",
   "execution_count": null,
   "metadata": {},
   "outputs": [],
   "source": []
  },
  {
   "cell_type": "code",
   "execution_count": null,
   "metadata": {},
   "outputs": [],
   "source": []
  },
  {
   "cell_type": "code",
   "execution_count": 71,
   "metadata": {},
   "outputs": [],
   "source": [
    "xgb_pipeline = Pipeline([('ss',StandardScaler()),('xgb',xgb.XGBClassifier(objective='multi',num_class=8))])\n"
   ]
  },
  {
   "cell_type": "code",
   "execution_count": 72,
   "metadata": {},
   "outputs": [
    {
     "data": {
      "text/plain": [
       "Pipeline(steps=[('ss', StandardScaler()),\n",
       "                ('xgb',\n",
       "                 XGBClassifier(num_class=8, objective='multi:softprob'))])"
      ]
     },
     "execution_count": 72,
     "metadata": {},
     "output_type": "execute_result"
    }
   ],
   "source": [
    "xgb_pipeline.fit(X_val,y_val)"
   ]
  },
  {
   "cell_type": "code",
   "execution_count": 81,
   "metadata": {},
   "outputs": [
    {
     "data": {
      "text/plain": [
       "0.8611111111111112"
      ]
     },
     "execution_count": 81,
     "metadata": {},
     "output_type": "execute_result"
    }
   ],
   "source": [
    "xgb_pipeline.score(X_val,y_val)"
   ]
  },
  {
   "cell_type": "code",
   "execution_count": 73,
   "metadata": {},
   "outputs": [
    {
     "data": {
      "text/plain": [
       "0.4211376278485555"
      ]
     },
     "execution_count": 73,
     "metadata": {},
     "output_type": "execute_result"
    }
   ],
   "source": [
    "xgb_pipeline.score(X_train,y_train)"
   ]
  },
  {
   "cell_type": "code",
   "execution_count": 74,
   "metadata": {},
   "outputs": [
    {
     "data": {
      "text/plain": [
       "0.4066666666666667"
      ]
     },
     "execution_count": 74,
     "metadata": {},
     "output_type": "execute_result"
    }
   ],
   "source": [
    "xgb_pipeline.score(X_test,y_test)"
   ]
  },
  {
   "cell_type": "code",
   "execution_count": 75,
   "metadata": {},
   "outputs": [],
   "source": [
    "params = {\n",
    "    \"xgb__learning_rate\": [0.001,0.05,0.01,0.1,0.5],\n",
    "    'xgb__max_depth': [3,5,7],\n",
    "    'xgb__subsample': [1],\n",
    "    'xgb__n_estimators': [5, 50, 100, 250,500,750],\n",
    "}"
   ]
  },
  {
   "cell_type": "code",
   "execution_count": 76,
   "metadata": {},
   "outputs": [],
   "source": [
    "xgb_cv = GridSearchCV(estimator =xgb_pipeline,param_grid=params,n_jobs=-1,cv=5)"
   ]
  },
  {
   "cell_type": "code",
   "execution_count": 77,
   "metadata": {},
   "outputs": [
    {
     "data": {
      "text/plain": [
       "GridSearchCV(cv=5,\n",
       "             estimator=Pipeline(steps=[('ss', StandardScaler()),\n",
       "                                       ('xgb',\n",
       "                                        XGBClassifier(num_class=8,\n",
       "                                                      objective='multi:softprob'))]),\n",
       "             n_jobs=-1,\n",
       "             param_grid={'xgb__learning_rate': [0.001, 0.05, 0.01, 0.1, 0.5],\n",
       "                         'xgb__max_depth': [3, 5, 7],\n",
       "                         'xgb__n_estimators': [5, 50, 100, 250, 500, 750],\n",
       "                         'xgb__subsample': [1]})"
      ]
     },
     "execution_count": 77,
     "metadata": {},
     "output_type": "execute_result"
    }
   ],
   "source": [
    "xgb_cv.fit(X_val,y_val)\n"
   ]
  },
  {
   "cell_type": "code",
   "execution_count": 78,
   "metadata": {},
   "outputs": [
    {
     "data": {
      "text/plain": [
       "{'xgb__learning_rate': 0.01,\n",
       " 'xgb__max_depth': 5,\n",
       " 'xgb__n_estimators': 750,\n",
       " 'xgb__subsample': 1}"
      ]
     },
     "execution_count": 78,
     "metadata": {},
     "output_type": "execute_result"
    }
   ],
   "source": [
    "xgb_best = xgb_cv.best_estimator_\n",
    "xgb_cv.best_params_"
   ]
  },
  {
   "cell_type": "code",
   "execution_count": 79,
   "metadata": {},
   "outputs": [
    {
     "data": {
      "text/plain": [
       "0.42687959806208503"
      ]
     },
     "execution_count": 79,
     "metadata": {},
     "output_type": "execute_result"
    }
   ],
   "source": [
    "xgb_best.score(X_train,y_train)"
   ]
  },
  {
   "cell_type": "code",
   "execution_count": 80,
   "metadata": {},
   "outputs": [
    {
     "data": {
      "text/plain": [
       "0.4"
      ]
     },
     "execution_count": 80,
     "metadata": {},
     "output_type": "execute_result"
    }
   ],
   "source": [
    "xgb_best.score(X_test,y_test)"
   ]
  },
  {
   "cell_type": "code",
   "execution_count": 82,
   "metadata": {},
   "outputs": [
    {
     "data": {
      "text/plain": [
       "0.9950980392156863"
      ]
     },
     "execution_count": 82,
     "metadata": {},
     "output_type": "execute_result"
    }
   ],
   "source": [
    "xgb_best.score(X_val,y_val)"
   ]
  },
  {
   "cell_type": "code",
   "execution_count": null,
   "metadata": {},
   "outputs": [],
   "source": []
  }
 ],
 "metadata": {
  "kernelspec": {
   "display_name": "Python [conda env:learn-env] *",
   "language": "python",
   "name": "conda-env-learn-env-py"
  },
  "language_info": {
   "codemirror_mode": {
    "name": "ipython",
    "version": 3
   },
   "file_extension": ".py",
   "mimetype": "text/x-python",
   "name": "python",
   "nbconvert_exporter": "python",
   "pygments_lexer": "ipython3",
   "version": "3.6.9"
  }
 },
 "nbformat": 4,
 "nbformat_minor": 2
}
