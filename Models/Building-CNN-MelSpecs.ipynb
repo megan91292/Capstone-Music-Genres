{
 "cells": [
  {
   "cell_type": "code",
   "execution_count": 94,
   "metadata": {
    "scrolled": true
   },
   "outputs": [],
   "source": [
    "import time\n",
    "import matplotlib.pyplot as plt\n",
    "import scipy\n",
    "import numpy as np\n",
    "from PIL import Image\n",
    "from scipy import ndimage\n",
    "from keras.preprocessing.image import ImageDataGenerator, array_to_img, img_to_array, load_img\n",
    "\n"
   ]
  },
  {
   "cell_type": "code",
   "execution_count": 95,
   "metadata": {},
   "outputs": [],
   "source": [
    "from keras.preprocessing.image import ImageDataGenerator\n",
    "import datetime\n",
    "\n",
    "original_start = datetime.datetime.now()\n",
    "start = datetime.datetime.now()"
   ]
  },
  {
   "cell_type": "code",
   "execution_count": 96,
   "metadata": {},
   "outputs": [
    {
     "name": "stdout",
     "output_type": "stream",
     "text": [
      "Found 6400 images belonging to 8 classes.\n",
      "Found 797 images belonging to 8 classes.\n"
     ]
    }
   ],
   "source": [
    "train_dir = 'dataCNN/train'\n",
    "validation_dir = 'dataCNN/val/'\n",
    "test_dir = 'dataCNN/test/'\n",
    "# All images will be rescaled by 1./255\n",
    "train_datagen = ImageDataGenerator(rescale=1./255)\n",
    "test_datagen = ImageDataGenerator(rescale=1./255)\n",
    "val_datagen = ImageDataGenerator(rescale=1./255)\n",
    "\n",
    "\n",
    "train_generator = train_datagen.flow_from_directory(\n",
    "        # This is the target directory\n",
    "        train_dir,\n",
    "        # All images will be resized to 150x150\n",
    "        batch_size=20,\n",
    "        # Since we use binary_crossentropy loss, we need binary labels\n",
    "        class_mode='categorical')\n",
    "\n",
    "validation_generator = test_datagen.flow_from_directory(\n",
    "        validation_dir,\n",
    "        batch_size=20,\n",
    "        class_mode='categorical')\n"
   ]
  },
  {
   "cell_type": "code",
   "execution_count": 98,
   "metadata": {},
   "outputs": [],
   "source": [
    "model =  keras.models.Sequential()\n",
    "model.add(layers.Conv2D(filters=64, kernel_size=3,activation='relu', padding=\"same\",\n",
    "                    kernel_initializer='he_normal', input_shape=[256, 256, 3]))\n",
    "model.add(layers.BatchNormalization())\n",
    "model.add(layers.Conv2D(32,kernel_size=(3, 3), activation='relu'))\n",
    "model.add(layers.BatchNormalization())\n",
    "            # Add dropouts to the model\n",
    "model.add(layers.Dropout(0.4))\n",
    "model.add(layers.Conv2D(64, kernel_size=(3, 3), strides=2,padding='same', activation='relu'))\n",
    "model.add(layers.MaxPooling2D(pool_size=(2, 2)))\n",
    "model.add(layers.BatchNormalization())\n",
    "model.add(layers.Conv2D(64, kernel_size=(3, 3), strides=2,padding='same', activation='relu'))\n",
    "model.add(layers.Dropout(0.4))\n",
    "model.add(layers.Flatten())\n",
    "model.add(layers.Dense(units=128, activation='relu'))\n",
    "model.add(layers.Dropout(0.4))\n",
    "model.add(layers.Dense(units=64, activation='relu'))\n",
    "model.add(layers.Dropout(0.4))\n",
    "model.add(layers.Dense(units=8, activation='softmax'))"
   ]
  },
  {
   "cell_type": "code",
   "execution_count": 99,
   "metadata": {},
   "outputs": [],
   "source": [
    "model.compile(\n",
    "        loss='categorical_crossentropy', \n",
    "        optimizer=\"nadam\", \n",
    "        metrics=[\"accuracy\"]\n",
    "    )"
   ]
  },
  {
   "cell_type": "code",
   "execution_count": null,
   "metadata": {},
   "outputs": [
    {
     "name": "stdout",
     "output_type": "stream",
     "text": [
      "Epoch 1/16\n",
      "  3/320 [..............................] - ETA: 35:02 - loss: 13.1081 - acc: 0.1333"
     ]
    }
   ],
   "source": [
    "history = model.fit_generator(train_generator,\n",
    "                epochs=16, \n",
    "                validation_data=validation_generator)"
   ]
  },
  {
   "cell_type": "code",
   "execution_count": 51,
   "metadata": {},
   "outputs": [
    {
     "name": "stdout",
     "output_type": "stream",
     "text": [
      "Epoch 1/50\n",
      "100/100 [==============================] - 291s 3s/step - loss: 1.8333 - acc: 0.3130 - val_loss: 2.0879 - val_acc: 0.1550\n",
      "Epoch 2/50\n",
      "100/100 [==============================] - 292s 3s/step - loss: 1.8043 - acc: 0.3165 - val_loss: 1.8549 - val_acc: 0.2868\n",
      "Epoch 3/50\n",
      "100/100 [==============================] - 290s 3s/step - loss: 1.8331 - acc: 0.3025 - val_loss: 1.8169 - val_acc: 0.2929\n",
      "Epoch 4/50\n",
      "100/100 [==============================] - 291s 3s/step - loss: 1.8183 - acc: 0.3070 - val_loss: 1.8574 - val_acc: 0.2752\n",
      "Epoch 5/50\n",
      "100/100 [==============================] - 290s 3s/step - loss: 1.8258 - acc: 0.2965 - val_loss: 1.8248 - val_acc: 0.3109\n",
      "Epoch 6/50\n",
      "100/100 [==============================] - 291s 3s/step - loss: 1.8003 - acc: 0.3255 - val_loss: 1.9148 - val_acc: 0.2657\n",
      "Epoch 7/50\n",
      "100/100 [==============================] - 289s 3s/step - loss: 1.8215 - acc: 0.3120 - val_loss: 1.8095 - val_acc: 0.3054\n",
      "Epoch 8/50\n",
      "100/100 [==============================] - 292s 3s/step - loss: 1.7992 - acc: 0.3275 - val_loss: 1.7684 - val_acc: 0.3315\n",
      "Epoch 9/50\n",
      "100/100 [==============================] - 290s 3s/step - loss: 1.7773 - acc: 0.3270 - val_loss: 2.2008 - val_acc: 0.2217\n",
      "Epoch 10/50\n",
      "100/100 [==============================] - 291s 3s/step - loss: 1.7913 - acc: 0.3210 - val_loss: 1.7935 - val_acc: 0.3235\n",
      "Epoch 11/50\n",
      "100/100 [==============================] - 289s 3s/step - loss: 1.7917 - acc: 0.3330 - val_loss: 1.8320 - val_acc: 0.3064\n",
      "Epoch 12/50\n",
      "100/100 [==============================] - 291s 3s/step - loss: 1.7839 - acc: 0.3285 - val_loss: 1.7808 - val_acc: 0.3270\n",
      "Epoch 13/50\n",
      "100/100 [==============================] - 289s 3s/step - loss: 1.7724 - acc: 0.3380 - val_loss: 1.7106 - val_acc: 0.3521\n",
      "Epoch 14/50\n",
      "100/100 [==============================] - 291s 3s/step - loss: 1.7631 - acc: 0.3395 - val_loss: 1.8201 - val_acc: 0.3029\n",
      "Epoch 15/50\n",
      "100/100 [==============================] - 291s 3s/step - loss: 1.7713 - acc: 0.3430 - val_loss: 1.7577 - val_acc: 0.3430\n",
      "Epoch 16/50\n",
      "100/100 [==============================] - 291s 3s/step - loss: 1.7870 - acc: 0.3245 - val_loss: 1.7430 - val_acc: 0.3440\n",
      "Epoch 17/50\n",
      "100/100 [==============================] - 291s 3s/step - loss: 1.7767 - acc: 0.3345 - val_loss: 1.7328 - val_acc: 0.3591\n",
      "Epoch 18/50\n",
      "100/100 [==============================] - 291s 3s/step - loss: 1.7714 - acc: 0.3430 - val_loss: 1.8470 - val_acc: 0.2943\n",
      "Epoch 19/50\n",
      "100/100 [==============================] - 290s 3s/step - loss: 1.7829 - acc: 0.3180 - val_loss: 1.7811 - val_acc: 0.3370\n",
      "Epoch 20/50\n",
      "100/100 [==============================] - 291s 3s/step - loss: 1.7680 - acc: 0.3230 - val_loss: 1.7692 - val_acc: 0.3280\n",
      "Epoch 21/50\n",
      "100/100 [==============================] - 290s 3s/step - loss: 1.7871 - acc: 0.3305 - val_loss: 1.7055 - val_acc: 0.3571\n",
      "Epoch 22/50\n",
      "100/100 [==============================] - 291s 3s/step - loss: 1.7523 - acc: 0.3475 - val_loss: 1.7282 - val_acc: 0.3506\n",
      "Epoch 23/50\n",
      "100/100 [==============================] - 292s 3s/step - loss: 1.7148 - acc: 0.3740 - val_loss: 1.8144 - val_acc: 0.3375\n",
      "Epoch 24/50\n",
      "100/100 [==============================] - 291s 3s/step - loss: 1.7753 - acc: 0.3425 - val_loss: 1.7858 - val_acc: 0.3179\n",
      "Epoch 25/50\n",
      "100/100 [==============================] - 296s 3s/step - loss: 1.7481 - acc: 0.3500 - val_loss: 1.7305 - val_acc: 0.3400\n",
      "Epoch 26/50\n",
      "100/100 [==============================] - 312s 3s/step - loss: 1.7417 - acc: 0.3480 - val_loss: 1.7236 - val_acc: 0.3717\n",
      "Epoch 27/50\n",
      "100/100 [==============================] - 308s 3s/step - loss: 1.7414 - acc: 0.3530 - val_loss: 1.7090 - val_acc: 0.3731\n",
      "Epoch 28/50\n",
      "100/100 [==============================] - 311s 3s/step - loss: 1.7382 - acc: 0.3575 - val_loss: 1.7742 - val_acc: 0.3315\n",
      "Epoch 29/50\n",
      "100/100 [==============================] - 295s 3s/step - loss: 1.7255 - acc: 0.3465 - val_loss: 1.6956 - val_acc: 0.3671\n",
      "Epoch 30/50\n",
      "100/100 [==============================] - 290s 3s/step - loss: 1.6988 - acc: 0.3790 - val_loss: 1.7138 - val_acc: 0.3621\n",
      "Epoch 31/50\n",
      "100/100 [==============================] - 292s 3s/step - loss: 1.7611 - acc: 0.3590 - val_loss: 1.7605 - val_acc: 0.3475\n",
      "Epoch 32/50\n",
      "100/100 [==============================] - 290s 3s/step - loss: 1.7302 - acc: 0.3625 - val_loss: 1.9777 - val_acc: 0.2235\n",
      "Epoch 33/50\n",
      "100/100 [==============================] - 294s 3s/step - loss: 1.6996 - acc: 0.3725 - val_loss: 1.6964 - val_acc: 0.3666\n",
      "Epoch 34/50\n",
      "100/100 [==============================] - 291s 3s/step - loss: 1.7246 - acc: 0.3630 - val_loss: 1.6962 - val_acc: 0.3882\n",
      "Epoch 35/50\n",
      "100/100 [==============================] - 292s 3s/step - loss: 1.7314 - acc: 0.3720 - val_loss: 1.7226 - val_acc: 0.3601\n",
      "Epoch 36/50\n",
      "100/100 [==============================] - 292s 3s/step - loss: 1.6870 - acc: 0.3680 - val_loss: 1.7252 - val_acc: 0.3451\n",
      "Epoch 37/50\n",
      "100/100 [==============================] - 294s 3s/step - loss: 1.6961 - acc: 0.3720 - val_loss: 1.7539 - val_acc: 0.3626\n",
      "Epoch 38/50\n",
      "100/100 [==============================] - 292s 3s/step - loss: 1.7105 - acc: 0.3650 - val_loss: 1.6980 - val_acc: 0.3636\n",
      "Epoch 39/50\n",
      "100/100 [==============================] - 293s 3s/step - loss: 1.6900 - acc: 0.3635 - val_loss: 1.7525 - val_acc: 0.3716\n",
      "Epoch 40/50\n",
      "100/100 [==============================] - 293s 3s/step - loss: 1.7053 - acc: 0.3835 - val_loss: 1.6996 - val_acc: 0.3702\n",
      "Epoch 41/50\n",
      "100/100 [==============================] - 293s 3s/step - loss: 1.6966 - acc: 0.3755 - val_loss: 1.6942 - val_acc: 0.3651\n",
      "Epoch 42/50\n",
      "100/100 [==============================] - 294s 3s/step - loss: 1.6786 - acc: 0.3810 - val_loss: 1.7280 - val_acc: 0.3767\n",
      "Epoch 43/50\n",
      "100/100 [==============================] - 295s 3s/step - loss: 1.6839 - acc: 0.3780 - val_loss: 1.7135 - val_acc: 0.3811\n",
      "Epoch 44/50\n",
      "100/100 [==============================] - 292s 3s/step - loss: 1.6781 - acc: 0.3755 - val_loss: 1.6945 - val_acc: 0.3682\n",
      "Epoch 45/50\n",
      "100/100 [==============================] - 296s 3s/step - loss: 1.6722 - acc: 0.3740 - val_loss: 1.7228 - val_acc: 0.3771\n",
      "Epoch 46/50\n",
      "100/100 [==============================] - 287s 3s/step - loss: 1.6650 - acc: 0.3880 - val_loss: 1.7510 - val_acc: 0.3526\n",
      "Epoch 47/50\n",
      "100/100 [==============================] - 290s 3s/step - loss: 1.6653 - acc: 0.3855 - val_loss: 1.7293 - val_acc: 0.3686\n",
      "Epoch 48/50\n",
      "100/100 [==============================] - 294s 3s/step - loss: 1.6426 - acc: 0.4135 - val_loss: 1.8053 - val_acc: 0.3320\n",
      "Epoch 49/50\n",
      "100/100 [==============================] - 296s 3s/step - loss: 1.6619 - acc: 0.3850 - val_loss: 1.7714 - val_acc: 0.3601\n",
      "Epoch 50/50\n",
      "100/100 [==============================] - 289s 3s/step - loss: 1.6853 - acc: 0.3780 - val_loss: 1.8196 - val_acc: 0.3159\n"
     ]
    }
   ],
   "source": [
    "history2 = model.fit_generator(train_generator, steps_per_epoch=100,\n",
    "                epochs=50, \n",
    "                validation_data=validation_generator,validation_steps=100)"
   ]
  },
  {
   "cell_type": "code",
   "execution_count": null,
   "metadata": {},
   "outputs": [],
   "source": [
    "model2 =  keras.models.Sequential()\n",
    "\n",
    "model2.add(layers.Conv2D(filters=64, kernel_size=3,activation='relu', padding=\"same\",\n",
    "                    kernel_initializer='he_normal', input_shape=[150, 150, 3]))\n",
    "model2.add(layers.BatchNormalization())\n",
    "model2.add(layers.Conv2D(32,kernel_size=(3, 3), activation='relu'))\n",
    "model2.add(layers.BatchNormalization())\n",
    "model2.add(layers.Conv2D(32,kernel_size=5,strides=2,padding='same',activation='relu'))\n",
    "model2.add(layers.MaxPooling2D((2, 2)))\n",
    "model2.add(layers.BatchNormalization())\n",
    "            # Add dropouts to the model\n",
    "model2.add(layers.Dropout(0.4))\n",
    "model2.add(layers.Conv2D(64, kernel_size=(3, 3), strides=2,padding='same', activation='relu'))\n",
    "model2.add(layers.MaxPooling2D(pool_size=(2, 2)))\n",
    "model2.add(layers.BatchNormalization())\n",
    "model2.add(layers.Conv2D(128, kernel_size=(3, 3), strides=2,padding='same', activation='relu'))\n",
    "model.add(layers.Dropout(0.4))\n",
    "model2.add(layers.Flatten())\n",
    "model2.add(layers.Dense(units=512, activation='relu'))\n",
    "model2.add(layers.Dropout(0.4))\n",
    "model2.add(layers.Dense(units=8, activation='softmax'))\n",
    "\n",
    "model2.compile(\n",
    "        loss='categorical_crossentropy', \n",
    "        optimizer=\"RMSProp\", \n",
    "        metrics=[\"accuracy\"]\n",
    "    )"
   ]
  },
  {
   "cell_type": "code",
   "execution_count": null,
   "metadata": {},
   "outputs": [],
   "source": [
    "history4 = model2.fit_generator(train_generator, steps_per_epoch=100,\n",
    "                epochs=20, \n",
    "                validation_data=validation_generator,validation_steps=100)"
   ]
  },
  {
   "cell_type": "code",
   "execution_count": null,
   "metadata": {},
   "outputs": [],
   "source": []
  },
  {
   "cell_type": "code",
   "execution_count": null,
   "metadata": {},
   "outputs": [],
   "source": [
    "def normalize_image_data(img_array, mean=128, std=128):\n",
    "    '''Return a normalize scaling of images (on all pixels in each channel)\n",
    "    '''\n",
    "    return (img_array-mean)/std\n",
    "    "
   ]
  },
  {
   "cell_type": "code",
   "execution_count": 13,
   "metadata": {},
   "outputs": [
    {
     "name": "stdout",
     "output_type": "stream",
     "text": [
      "Epoch 1/30\n"
     ]
    },
    {
     "ename": "ValueError",
     "evalue": "Error when checking input: expected dropout_3_input to have shape (25, 256, 3) but got array with shape (256, 256, 3)",
     "output_type": "error",
     "traceback": [
      "\u001b[0;31m---------------------------------------------------------------------------\u001b[0m",
      "\u001b[0;31mValueError\u001b[0m                                Traceback (most recent call last)",
      "\u001b[0;32m<ipython-input-13-0f4c1da1f76a>\u001b[0m in \u001b[0;36m<module>\u001b[0;34m\u001b[0m\n\u001b[1;32m     21\u001b[0m                               \u001b[0mepochs\u001b[0m\u001b[0;34m=\u001b[0m\u001b[0;36m30\u001b[0m\u001b[0;34m,\u001b[0m\u001b[0;34m\u001b[0m\u001b[0;34m\u001b[0m\u001b[0m\n\u001b[1;32m     22\u001b[0m                               \u001b[0mvalidation_data\u001b[0m\u001b[0;34m=\u001b[0m\u001b[0mvalidation_generator\u001b[0m\u001b[0;34m,\u001b[0m\u001b[0;34m\u001b[0m\u001b[0;34m\u001b[0m\u001b[0m\n\u001b[0;32m---> 23\u001b[0;31m                               validation_steps=50)\n\u001b[0m",
      "\u001b[0;32m/opt/anaconda3/envs/learn-env/lib/python3.6/site-packages/keras/legacy/interfaces.py\u001b[0m in \u001b[0;36mwrapper\u001b[0;34m(*args, **kwargs)\u001b[0m\n\u001b[1;32m     89\u001b[0m                 warnings.warn('Update your `' + object_name + '` call to the ' +\n\u001b[1;32m     90\u001b[0m                               'Keras 2 API: ' + signature, stacklevel=2)\n\u001b[0;32m---> 91\u001b[0;31m             \u001b[0;32mreturn\u001b[0m \u001b[0mfunc\u001b[0m\u001b[0;34m(\u001b[0m\u001b[0;34m*\u001b[0m\u001b[0margs\u001b[0m\u001b[0;34m,\u001b[0m \u001b[0;34m**\u001b[0m\u001b[0mkwargs\u001b[0m\u001b[0;34m)\u001b[0m\u001b[0;34m\u001b[0m\u001b[0;34m\u001b[0m\u001b[0m\n\u001b[0m\u001b[1;32m     92\u001b[0m         \u001b[0mwrapper\u001b[0m\u001b[0;34m.\u001b[0m\u001b[0m_original_function\u001b[0m \u001b[0;34m=\u001b[0m \u001b[0mfunc\u001b[0m\u001b[0;34m\u001b[0m\u001b[0;34m\u001b[0m\u001b[0m\n\u001b[1;32m     93\u001b[0m         \u001b[0;32mreturn\u001b[0m \u001b[0mwrapper\u001b[0m\u001b[0;34m\u001b[0m\u001b[0;34m\u001b[0m\u001b[0m\n",
      "\u001b[0;32m/opt/anaconda3/envs/learn-env/lib/python3.6/site-packages/keras/engine/training.py\u001b[0m in \u001b[0;36mfit_generator\u001b[0;34m(self, generator, steps_per_epoch, epochs, verbose, callbacks, validation_data, validation_steps, class_weight, max_queue_size, workers, use_multiprocessing, shuffle, initial_epoch)\u001b[0m\n\u001b[1;32m   1416\u001b[0m             \u001b[0muse_multiprocessing\u001b[0m\u001b[0;34m=\u001b[0m\u001b[0muse_multiprocessing\u001b[0m\u001b[0;34m,\u001b[0m\u001b[0;34m\u001b[0m\u001b[0;34m\u001b[0m\u001b[0m\n\u001b[1;32m   1417\u001b[0m             \u001b[0mshuffle\u001b[0m\u001b[0;34m=\u001b[0m\u001b[0mshuffle\u001b[0m\u001b[0;34m,\u001b[0m\u001b[0;34m\u001b[0m\u001b[0;34m\u001b[0m\u001b[0m\n\u001b[0;32m-> 1418\u001b[0;31m             initial_epoch=initial_epoch)\n\u001b[0m\u001b[1;32m   1419\u001b[0m \u001b[0;34m\u001b[0m\u001b[0m\n\u001b[1;32m   1420\u001b[0m     \u001b[0;34m@\u001b[0m\u001b[0minterfaces\u001b[0m\u001b[0;34m.\u001b[0m\u001b[0mlegacy_generator_methods_support\u001b[0m\u001b[0;34m\u001b[0m\u001b[0;34m\u001b[0m\u001b[0m\n",
      "\u001b[0;32m/opt/anaconda3/envs/learn-env/lib/python3.6/site-packages/keras/engine/training_generator.py\u001b[0m in \u001b[0;36mfit_generator\u001b[0;34m(model, generator, steps_per_epoch, epochs, verbose, callbacks, validation_data, validation_steps, class_weight, max_queue_size, workers, use_multiprocessing, shuffle, initial_epoch)\u001b[0m\n\u001b[1;32m    215\u001b[0m                 outs = model.train_on_batch(x, y,\n\u001b[1;32m    216\u001b[0m                                             \u001b[0msample_weight\u001b[0m\u001b[0;34m=\u001b[0m\u001b[0msample_weight\u001b[0m\u001b[0;34m,\u001b[0m\u001b[0;34m\u001b[0m\u001b[0;34m\u001b[0m\u001b[0m\n\u001b[0;32m--> 217\u001b[0;31m                                             class_weight=class_weight)\n\u001b[0m\u001b[1;32m    218\u001b[0m \u001b[0;34m\u001b[0m\u001b[0m\n\u001b[1;32m    219\u001b[0m                 \u001b[0mouts\u001b[0m \u001b[0;34m=\u001b[0m \u001b[0mto_list\u001b[0m\u001b[0;34m(\u001b[0m\u001b[0mouts\u001b[0m\u001b[0;34m)\u001b[0m\u001b[0;34m\u001b[0m\u001b[0;34m\u001b[0m\u001b[0m\n",
      "\u001b[0;32m/opt/anaconda3/envs/learn-env/lib/python3.6/site-packages/keras/engine/training.py\u001b[0m in \u001b[0;36mtrain_on_batch\u001b[0;34m(self, x, y, sample_weight, class_weight)\u001b[0m\n\u001b[1;32m   1209\u001b[0m             \u001b[0mx\u001b[0m\u001b[0;34m,\u001b[0m \u001b[0my\u001b[0m\u001b[0;34m,\u001b[0m\u001b[0;34m\u001b[0m\u001b[0;34m\u001b[0m\u001b[0m\n\u001b[1;32m   1210\u001b[0m             \u001b[0msample_weight\u001b[0m\u001b[0;34m=\u001b[0m\u001b[0msample_weight\u001b[0m\u001b[0;34m,\u001b[0m\u001b[0;34m\u001b[0m\u001b[0;34m\u001b[0m\u001b[0m\n\u001b[0;32m-> 1211\u001b[0;31m             class_weight=class_weight)\n\u001b[0m\u001b[1;32m   1212\u001b[0m         \u001b[0;32mif\u001b[0m \u001b[0mself\u001b[0m\u001b[0;34m.\u001b[0m\u001b[0m_uses_dynamic_learning_phase\u001b[0m\u001b[0;34m(\u001b[0m\u001b[0;34m)\u001b[0m\u001b[0;34m:\u001b[0m\u001b[0;34m\u001b[0m\u001b[0;34m\u001b[0m\u001b[0m\n\u001b[1;32m   1213\u001b[0m             \u001b[0mins\u001b[0m \u001b[0;34m=\u001b[0m \u001b[0mx\u001b[0m \u001b[0;34m+\u001b[0m \u001b[0my\u001b[0m \u001b[0;34m+\u001b[0m \u001b[0msample_weights\u001b[0m \u001b[0;34m+\u001b[0m \u001b[0;34m[\u001b[0m\u001b[0;36m1.\u001b[0m\u001b[0;34m]\u001b[0m\u001b[0;34m\u001b[0m\u001b[0;34m\u001b[0m\u001b[0m\n",
      "\u001b[0;32m/opt/anaconda3/envs/learn-env/lib/python3.6/site-packages/keras/engine/training.py\u001b[0m in \u001b[0;36m_standardize_user_data\u001b[0;34m(self, x, y, sample_weight, class_weight, check_array_lengths, batch_size)\u001b[0m\n\u001b[1;32m    749\u001b[0m             \u001b[0mfeed_input_shapes\u001b[0m\u001b[0;34m,\u001b[0m\u001b[0;34m\u001b[0m\u001b[0;34m\u001b[0m\u001b[0m\n\u001b[1;32m    750\u001b[0m             \u001b[0mcheck_batch_axis\u001b[0m\u001b[0;34m=\u001b[0m\u001b[0;32mFalse\u001b[0m\u001b[0;34m,\u001b[0m  \u001b[0;31m# Don't enforce the batch size.\u001b[0m\u001b[0;34m\u001b[0m\u001b[0;34m\u001b[0m\u001b[0m\n\u001b[0;32m--> 751\u001b[0;31m             exception_prefix='input')\n\u001b[0m\u001b[1;32m    752\u001b[0m \u001b[0;34m\u001b[0m\u001b[0m\n\u001b[1;32m    753\u001b[0m         \u001b[0;32mif\u001b[0m \u001b[0my\u001b[0m \u001b[0;32mis\u001b[0m \u001b[0;32mnot\u001b[0m \u001b[0;32mNone\u001b[0m\u001b[0;34m:\u001b[0m\u001b[0;34m\u001b[0m\u001b[0;34m\u001b[0m\u001b[0m\n",
      "\u001b[0;32m/opt/anaconda3/envs/learn-env/lib/python3.6/site-packages/keras/engine/training_utils.py\u001b[0m in \u001b[0;36mstandardize_input_data\u001b[0;34m(data, names, shapes, check_batch_axis, exception_prefix)\u001b[0m\n\u001b[1;32m    136\u001b[0m                             \u001b[0;34m': expected '\u001b[0m \u001b[0;34m+\u001b[0m \u001b[0mnames\u001b[0m\u001b[0;34m[\u001b[0m\u001b[0mi\u001b[0m\u001b[0;34m]\u001b[0m \u001b[0;34m+\u001b[0m \u001b[0;34m' to have shape '\u001b[0m \u001b[0;34m+\u001b[0m\u001b[0;34m\u001b[0m\u001b[0;34m\u001b[0m\u001b[0m\n\u001b[1;32m    137\u001b[0m                             \u001b[0mstr\u001b[0m\u001b[0;34m(\u001b[0m\u001b[0mshape\u001b[0m\u001b[0;34m)\u001b[0m \u001b[0;34m+\u001b[0m \u001b[0;34m' but got array with shape '\u001b[0m \u001b[0;34m+\u001b[0m\u001b[0;34m\u001b[0m\u001b[0;34m\u001b[0m\u001b[0m\n\u001b[0;32m--> 138\u001b[0;31m                             str(data_shape))\n\u001b[0m\u001b[1;32m    139\u001b[0m     \u001b[0;32mreturn\u001b[0m \u001b[0mdata\u001b[0m\u001b[0;34m\u001b[0m\u001b[0;34m\u001b[0m\u001b[0m\n\u001b[1;32m    140\u001b[0m \u001b[0;34m\u001b[0m\u001b[0m\n",
      "\u001b[0;31mValueError\u001b[0m: Error when checking input: expected dropout_3_input to have shape (25, 256, 3) but got array with shape (256, 256, 3)"
     ]
    }
   ],
   "source": [
    "from keras import layers \n",
    "from keras import models\n",
    "from keras import optimizers\n",
    "\n",
    "model2 = models.Sequential()\n",
    "model2.add(layers.Dropout(0.4,input_shape=(256, 256, 3)))\n",
    "model2.add(layers.Conv2D(32, (3, 3), activation='relu'))\n",
    "model2.add(layers.MaxPooling2D((2, 2)))\n",
    "model2.add(layers.Conv2D(64, (3, 3), activation='relu'))\n",
    "model2.add(layers.MaxPooling2D((2, 2)))\n",
    "model2.add(layers.Flatten())\n",
    "model2.add(layers.Dense(128, activation='relu'))\n",
    "model2.add(layers.Dropout(0.4))\n",
    "model2.add(layers.Dense(8, activation='softmax'))\n",
    "model2.compile(loss='categorical_crossentropy',\n",
    "              optimizer='RMSprop',\n",
    "              metrics=['accuracy'])\n",
    "\n",
    "# ⏰ This cell may take several minutes to run\n",
    "history2 = model2.fit_generator(train_generator,steps_per_epoch=100, \n",
    "                              epochs=30,\n",
    "                              validation_data=validation_generator, \n",
    "                              validation_steps=50)"
   ]
  },
  {
   "cell_type": "code",
   "execution_count": 32,
   "metadata": {},
   "outputs": [
    {
     "name": "stdout",
     "output_type": "stream",
     "text": [
      "Epoch 1/30\n",
      "100/100 [==============================] - 127s 1s/step - loss: 2.8520 - acc: 0.1510 - val_loss: 2.0551 - val_acc: 0.2026\n",
      "Epoch 2/30\n",
      "100/100 [==============================] - 126s 1s/step - loss: 2.0749 - acc: 0.1790 - val_loss: 2.0149 - val_acc: 0.1625\n",
      "Epoch 3/30\n",
      "100/100 [==============================] - 129s 1s/step - loss: 2.0157 - acc: 0.2100 - val_loss: 1.9463 - val_acc: 0.2548\n",
      "Epoch 4/30\n",
      "100/100 [==============================] - 129s 1s/step - loss: 1.9612 - acc: 0.2445 - val_loss: 1.9043 - val_acc: 0.2716\n",
      "Epoch 5/30\n",
      "100/100 [==============================] - 131s 1s/step - loss: 1.9228 - acc: 0.2650 - val_loss: 1.9526 - val_acc: 0.2347\n",
      "Epoch 6/30\n",
      "100/100 [==============================] - 131s 1s/step - loss: 1.8989 - acc: 0.2720 - val_loss: 1.8050 - val_acc: 0.3139\n",
      "Epoch 7/30\n",
      "100/100 [==============================] - 130s 1s/step - loss: 1.8459 - acc: 0.3090 - val_loss: 1.7654 - val_acc: 0.3280\n",
      "Epoch 8/30\n",
      "100/100 [==============================] - 129s 1s/step - loss: 1.8444 - acc: 0.3095 - val_loss: 1.8220 - val_acc: 0.2978\n",
      "Epoch 9/30\n",
      "100/100 [==============================] - 133s 1s/step - loss: 1.7798 - acc: 0.3525 - val_loss: 1.7249 - val_acc: 0.3681\n",
      "Epoch 10/30\n",
      "100/100 [==============================] - 130s 1s/step - loss: 1.7618 - acc: 0.3410 - val_loss: 1.7409 - val_acc: 0.3842\n",
      "Epoch 11/30\n",
      "100/100 [==============================] - 129s 1s/step - loss: 1.7084 - acc: 0.3785 - val_loss: 1.7188 - val_acc: 0.3601\n",
      "Epoch 12/30\n",
      "100/100 [==============================] - 129s 1s/step - loss: 1.7470 - acc: 0.3570 - val_loss: 1.8474 - val_acc: 0.3189\n",
      "Epoch 13/30\n",
      "100/100 [==============================] - 130s 1s/step - loss: 1.7042 - acc: 0.3730 - val_loss: 1.7338 - val_acc: 0.3400\n",
      "Epoch 14/30\n",
      "100/100 [==============================] - 128s 1s/step - loss: 1.6308 - acc: 0.4165 - val_loss: 1.7482 - val_acc: 0.3611\n",
      "Epoch 15/30\n",
      "100/100 [==============================] - 129s 1s/step - loss: 1.6480 - acc: 0.3940 - val_loss: 1.6815 - val_acc: 0.3882\n",
      "Epoch 16/30\n",
      "100/100 [==============================] - 129s 1s/step - loss: 1.6172 - acc: 0.4225 - val_loss: 1.7169 - val_acc: 0.3632\n",
      "Epoch 17/30\n",
      "100/100 [==============================] - 129s 1s/step - loss: 1.5091 - acc: 0.4680 - val_loss: 1.6488 - val_acc: 0.3902\n",
      "Epoch 18/30\n",
      "100/100 [==============================] - 129s 1s/step - loss: 1.5324 - acc: 0.4590 - val_loss: 1.7088 - val_acc: 0.3791\n",
      "Epoch 19/30\n",
      "100/100 [==============================] - 131s 1s/step - loss: 1.5660 - acc: 0.4360 - val_loss: 2.2031 - val_acc: 0.2778\n",
      "Epoch 20/30\n",
      "100/100 [==============================] - 129s 1s/step - loss: 1.4088 - acc: 0.4980 - val_loss: 1.7255 - val_acc: 0.3903\n",
      "Epoch 21/30\n",
      "100/100 [==============================] - 133s 1s/step - loss: 1.3847 - acc: 0.5165 - val_loss: 1.7644 - val_acc: 0.4092\n",
      "Epoch 22/30\n",
      "100/100 [==============================] - 129s 1s/step - loss: 1.4644 - acc: 0.4840 - val_loss: 1.6715 - val_acc: 0.3982\n",
      "Epoch 23/30\n",
      "100/100 [==============================] - 128s 1s/step - loss: 1.3352 - acc: 0.5285 - val_loss: 1.7462 - val_acc: 0.3751\n",
      "Epoch 24/30\n",
      "100/100 [==============================] - 129s 1s/step - loss: 1.2470 - acc: 0.5615 - val_loss: 1.8208 - val_acc: 0.3803\n",
      "Epoch 25/30\n",
      "100/100 [==============================] - 129s 1s/step - loss: 1.3011 - acc: 0.5415 - val_loss: 1.7551 - val_acc: 0.3691\n",
      "Epoch 26/30\n",
      "100/100 [==============================] - 129s 1s/step - loss: 1.1827 - acc: 0.5825 - val_loss: 1.8040 - val_acc: 0.3842\n",
      "Epoch 27/30\n",
      "100/100 [==============================] - 138s 1s/step - loss: 1.1477 - acc: 0.6115 - val_loss: 1.9060 - val_acc: 0.3862\n",
      "Epoch 28/30\n",
      "100/100 [==============================] - 138s 1s/step - loss: 1.0967 - acc: 0.6205 - val_loss: 1.8039 - val_acc: 0.4135\n",
      "Epoch 29/30\n",
      "100/100 [==============================] - 135s 1s/step - loss: 1.0733 - acc: 0.6200 - val_loss: 1.9152 - val_acc: 0.3982\n",
      "Epoch 30/30\n",
      "100/100 [==============================] - 137s 1s/step - loss: 0.9536 - acc: 0.6520 - val_loss: 1.9259 - val_acc: 0.3791\n"
     ]
    }
   ],
   "source": [
    "from keras import layers \n",
    "from keras import models\n",
    "from keras import optimizers\n",
    "\n",
    "model3 = models.Sequential()\n",
    "model3.add(layers.Conv2D(32, (3, 3), activation='relu',\n",
    "                        input_shape=(256, 256, 3)))\n",
    "model3.add(layers.MaxPooling2D((2, 2)))\n",
    "model3.add(layers.Conv2D(64, (3, 3), activation='relu'))\n",
    "model3.add(layers.MaxPooling2D((2, 2)))\n",
    "model3.add(layers.Flatten())\n",
    "model3.add(layers.Dense(128, activation='relu'))\n",
    "model3.add(layers.Dropout(0.4))\n",
    "model3.add(layers.Dense(8, activation='softmax'))\n",
    "model3.compile(loss='categorical_crossentropy',\n",
    "              optimizer='RMSprop',\n",
    "              metrics=['accuracy'])\n",
    "\n",
    "# ⏰ This cell may take several minutes to run\n",
    "history3 = model3.fit_generator(train_generator,steps_per_epoch=100, \n",
    "                              epochs=30, \n",
    "                              validation_data=validation_generator, \n",
    "                              validation_steps=50)"
   ]
  },
  {
   "cell_type": "code",
   "execution_count": 33,
   "metadata": {},
   "outputs": [
    {
     "data": {
      "image/png": "[encoded data removed]",
      "text/plain": [
       "<Figure size 432x288 with 1 Axes>"
      ]
     },
     "metadata": {
      "needs_background": "light"
     },
     "output_type": "display_data"
    },
    {
     "data": {
      "image/png": "[encoded data removed]",
      "text/plain": [
       "<Figure size 432x288 with 1 Axes>"
      ]
     },
     "metadata": {
      "needs_background": "light"
     },
     "output_type": "display_data"
    }
   ],
   "source": [
    "import matplotlib.pyplot as plt\n",
    "%matplotlib inline \n",
    "\n",
    "acc = history3.history['acc']\n",
    "val_acc = history3.history['val_acc']\n",
    "loss = history3.history['loss']\n",
    "val_loss = history3.history['val_loss']\n",
    "epochs = range(len(acc))\n",
    "plt.plot(epochs, acc, 'bo', label='Training acc')\n",
    "plt.plot(epochs, val_acc, 'b', label='Validation acc')\n",
    "plt.title('Training and validation accuracy')\n",
    "plt.legend()\n",
    "plt.figure()\n",
    "plt.plot(epochs, loss, 'bo', label='Training loss')\n",
    "plt.plot(epochs, val_loss, 'b', label='Validation loss')\n",
    "plt.title('Training and validation loss')\n",
    "plt.legend()\n",
    "plt.show()"
   ]
  },
  {
   "cell_type": "code",
   "execution_count": 34,
   "metadata": {},
   "outputs": [
    {
     "name": "stdout",
     "output_type": "stream",
     "text": [
      "Found 800 images belonging to 8 classes.\n",
      "test acc: 0.40125\n"
     ]
    }
   ],
   "source": [
    "test_generator = test_datagen.flow_from_directory(test_dir, \n",
    "                                                  target_size=(256, 256), \n",
    "                                                   \n",
    "                                                  class_mode='categorical')\n",
    "test_loss, test_acc = model3.evaluate_generator(test_generator)\n",
    "print('test acc:', test_acc)\n",
    "\n"
   ]
  },
  {
   "cell_type": "code",
   "execution_count": 29,
   "metadata": {},
   "outputs": [
    {
     "name": "stdout",
     "output_type": "stream",
     "text": [
      "Epoch 1/30\n",
      " 12/320 [>.............................] - ETA: 6:57 - loss: 14.1985 - acc: 0.1333"
     ]
    },
    {
     "ename": "KeyboardInterrupt",
     "evalue": "",
     "output_type": "error",
     "traceback": [
      "\u001b[0;31m---------------------------------------------------------------------------\u001b[0m",
      "\u001b[0;31mKeyboardInterrupt\u001b[0m                         Traceback (most recent call last)",
      "\u001b[0;32m<ipython-input-29-907b02191ead>\u001b[0m in \u001b[0;36m<module>\u001b[0;34m\u001b[0m\n\u001b[1;32m     16\u001b[0m history4 = model4.fit_generator(train_generator,  \n\u001b[1;32m     17\u001b[0m                               \u001b[0mepochs\u001b[0m\u001b[0;34m=\u001b[0m\u001b[0;36m30\u001b[0m\u001b[0;34m,\u001b[0m\u001b[0;34m\u001b[0m\u001b[0;34m\u001b[0m\u001b[0m\n\u001b[0;32m---> 18\u001b[0;31m                               validation_data=validation_generator)\n\u001b[0m",
      "\u001b[0;32m/opt/anaconda3/envs/learn-env/lib/python3.6/site-packages/keras/legacy/interfaces.py\u001b[0m in \u001b[0;36mwrapper\u001b[0;34m(*args, **kwargs)\u001b[0m\n\u001b[1;32m     89\u001b[0m                 warnings.warn('Update your `' + object_name + '` call to the ' +\n\u001b[1;32m     90\u001b[0m                               'Keras 2 API: ' + signature, stacklevel=2)\n\u001b[0;32m---> 91\u001b[0;31m             \u001b[0;32mreturn\u001b[0m \u001b[0mfunc\u001b[0m\u001b[0;34m(\u001b[0m\u001b[0;34m*\u001b[0m\u001b[0margs\u001b[0m\u001b[0;34m,\u001b[0m \u001b[0;34m**\u001b[0m\u001b[0mkwargs\u001b[0m\u001b[0;34m)\u001b[0m\u001b[0;34m\u001b[0m\u001b[0;34m\u001b[0m\u001b[0m\n\u001b[0m\u001b[1;32m     92\u001b[0m         \u001b[0mwrapper\u001b[0m\u001b[0;34m.\u001b[0m\u001b[0m_original_function\u001b[0m \u001b[0;34m=\u001b[0m \u001b[0mfunc\u001b[0m\u001b[0;34m\u001b[0m\u001b[0;34m\u001b[0m\u001b[0m\n\u001b[1;32m     93\u001b[0m         \u001b[0;32mreturn\u001b[0m \u001b[0mwrapper\u001b[0m\u001b[0;34m\u001b[0m\u001b[0;34m\u001b[0m\u001b[0m\n",
      "\u001b[0;32m/opt/anaconda3/envs/learn-env/lib/python3.6/site-packages/keras/engine/training.py\u001b[0m in \u001b[0;36mfit_generator\u001b[0;34m(self, generator, steps_per_epoch, epochs, verbose, callbacks, validation_data, validation_steps, class_weight, max_queue_size, workers, use_multiprocessing, shuffle, initial_epoch)\u001b[0m\n\u001b[1;32m   1416\u001b[0m             \u001b[0muse_multiprocessing\u001b[0m\u001b[0;34m=\u001b[0m\u001b[0muse_multiprocessing\u001b[0m\u001b[0;34m,\u001b[0m\u001b[0;34m\u001b[0m\u001b[0;34m\u001b[0m\u001b[0m\n\u001b[1;32m   1417\u001b[0m             \u001b[0mshuffle\u001b[0m\u001b[0;34m=\u001b[0m\u001b[0mshuffle\u001b[0m\u001b[0;34m,\u001b[0m\u001b[0;34m\u001b[0m\u001b[0;34m\u001b[0m\u001b[0m\n\u001b[0;32m-> 1418\u001b[0;31m             initial_epoch=initial_epoch)\n\u001b[0m\u001b[1;32m   1419\u001b[0m \u001b[0;34m\u001b[0m\u001b[0m\n\u001b[1;32m   1420\u001b[0m     \u001b[0;34m@\u001b[0m\u001b[0minterfaces\u001b[0m\u001b[0;34m.\u001b[0m\u001b[0mlegacy_generator_methods_support\u001b[0m\u001b[0;34m\u001b[0m\u001b[0;34m\u001b[0m\u001b[0m\n",
      "\u001b[0;32m/opt/anaconda3/envs/learn-env/lib/python3.6/site-packages/keras/engine/training_generator.py\u001b[0m in \u001b[0;36mfit_generator\u001b[0;34m(model, generator, steps_per_epoch, epochs, verbose, callbacks, validation_data, validation_steps, class_weight, max_queue_size, workers, use_multiprocessing, shuffle, initial_epoch)\u001b[0m\n\u001b[1;32m    215\u001b[0m                 outs = model.train_on_batch(x, y,\n\u001b[1;32m    216\u001b[0m                                             \u001b[0msample_weight\u001b[0m\u001b[0;34m=\u001b[0m\u001b[0msample_weight\u001b[0m\u001b[0;34m,\u001b[0m\u001b[0;34m\u001b[0m\u001b[0;34m\u001b[0m\u001b[0m\n\u001b[0;32m--> 217\u001b[0;31m                                             class_weight=class_weight)\n\u001b[0m\u001b[1;32m    218\u001b[0m \u001b[0;34m\u001b[0m\u001b[0m\n\u001b[1;32m    219\u001b[0m                 \u001b[0mouts\u001b[0m \u001b[0;34m=\u001b[0m \u001b[0mto_list\u001b[0m\u001b[0;34m(\u001b[0m\u001b[0mouts\u001b[0m\u001b[0;34m)\u001b[0m\u001b[0;34m\u001b[0m\u001b[0;34m\u001b[0m\u001b[0m\n",
      "\u001b[0;32m/opt/anaconda3/envs/learn-env/lib/python3.6/site-packages/keras/engine/training.py\u001b[0m in \u001b[0;36mtrain_on_batch\u001b[0;34m(self, x, y, sample_weight, class_weight)\u001b[0m\n\u001b[1;32m   1215\u001b[0m             \u001b[0mins\u001b[0m \u001b[0;34m=\u001b[0m \u001b[0mx\u001b[0m \u001b[0;34m+\u001b[0m \u001b[0my\u001b[0m \u001b[0;34m+\u001b[0m \u001b[0msample_weights\u001b[0m\u001b[0;34m\u001b[0m\u001b[0;34m\u001b[0m\u001b[0m\n\u001b[1;32m   1216\u001b[0m         \u001b[0mself\u001b[0m\u001b[0;34m.\u001b[0m\u001b[0m_make_train_function\u001b[0m\u001b[0;34m(\u001b[0m\u001b[0;34m)\u001b[0m\u001b[0;34m\u001b[0m\u001b[0;34m\u001b[0m\u001b[0m\n\u001b[0;32m-> 1217\u001b[0;31m         \u001b[0moutputs\u001b[0m \u001b[0;34m=\u001b[0m \u001b[0mself\u001b[0m\u001b[0;34m.\u001b[0m\u001b[0mtrain_function\u001b[0m\u001b[0;34m(\u001b[0m\u001b[0mins\u001b[0m\u001b[0;34m)\u001b[0m\u001b[0;34m\u001b[0m\u001b[0;34m\u001b[0m\u001b[0m\n\u001b[0m\u001b[1;32m   1218\u001b[0m         \u001b[0;32mreturn\u001b[0m \u001b[0munpack_singleton\u001b[0m\u001b[0;34m(\u001b[0m\u001b[0moutputs\u001b[0m\u001b[0;34m)\u001b[0m\u001b[0;34m\u001b[0m\u001b[0;34m\u001b[0m\u001b[0m\n\u001b[1;32m   1219\u001b[0m \u001b[0;34m\u001b[0m\u001b[0m\n",
      "\u001b[0;32m/opt/anaconda3/envs/learn-env/lib/python3.6/site-packages/keras/backend/tensorflow_backend.py\u001b[0m in \u001b[0;36m__call__\u001b[0;34m(self, inputs)\u001b[0m\n\u001b[1;32m   2719\u001b[0m                     \u001b[0;34m'In order to feed symbolic tensors to a Keras model '\u001b[0m\u001b[0;34m\u001b[0m\u001b[0;34m\u001b[0m\u001b[0m\n\u001b[1;32m   2720\u001b[0m                     'in TensorFlow, you need tensorflow 1.8 or higher.')\n\u001b[0;32m-> 2721\u001b[0;31m             \u001b[0;32mreturn\u001b[0m \u001b[0mself\u001b[0m\u001b[0;34m.\u001b[0m\u001b[0m_legacy_call\u001b[0m\u001b[0;34m(\u001b[0m\u001b[0minputs\u001b[0m\u001b[0;34m)\u001b[0m\u001b[0;34m\u001b[0m\u001b[0;34m\u001b[0m\u001b[0m\n\u001b[0m\u001b[1;32m   2722\u001b[0m \u001b[0;34m\u001b[0m\u001b[0m\n\u001b[1;32m   2723\u001b[0m \u001b[0;34m\u001b[0m\u001b[0m\n",
      "\u001b[0;32m/opt/anaconda3/envs/learn-env/lib/python3.6/site-packages/keras/backend/tensorflow_backend.py\u001b[0m in \u001b[0;36m_legacy_call\u001b[0;34m(self, inputs)\u001b[0m\n\u001b[1;32m   2691\u001b[0m         \u001b[0msession\u001b[0m \u001b[0;34m=\u001b[0m \u001b[0mget_session\u001b[0m\u001b[0;34m(\u001b[0m\u001b[0;34m)\u001b[0m\u001b[0;34m\u001b[0m\u001b[0;34m\u001b[0m\u001b[0m\n\u001b[1;32m   2692\u001b[0m         updated = session.run(fetches=fetches, feed_dict=feed_dict,\n\u001b[0;32m-> 2693\u001b[0;31m                               **self.session_kwargs)\n\u001b[0m\u001b[1;32m   2694\u001b[0m         \u001b[0;32mreturn\u001b[0m \u001b[0mupdated\u001b[0m\u001b[0;34m[\u001b[0m\u001b[0;34m:\u001b[0m\u001b[0mlen\u001b[0m\u001b[0;34m(\u001b[0m\u001b[0mself\u001b[0m\u001b[0;34m.\u001b[0m\u001b[0moutputs\u001b[0m\u001b[0;34m)\u001b[0m\u001b[0;34m]\u001b[0m\u001b[0;34m\u001b[0m\u001b[0;34m\u001b[0m\u001b[0m\n\u001b[1;32m   2695\u001b[0m \u001b[0;34m\u001b[0m\u001b[0m\n",
      "\u001b[0;32m/opt/anaconda3/envs/learn-env/lib/python3.6/site-packages/tensorflow/python/client/session.py\u001b[0m in \u001b[0;36mrun\u001b[0;34m(self, fetches, feed_dict, options, run_metadata)\u001b[0m\n\u001b[1;32m    903\u001b[0m     \u001b[0;32mtry\u001b[0m\u001b[0;34m:\u001b[0m\u001b[0;34m\u001b[0m\u001b[0;34m\u001b[0m\u001b[0m\n\u001b[1;32m    904\u001b[0m       result = self._run(None, fetches, feed_dict, options_ptr,\n\u001b[0;32m--> 905\u001b[0;31m                          run_metadata_ptr)\n\u001b[0m\u001b[1;32m    906\u001b[0m       \u001b[0;32mif\u001b[0m \u001b[0mrun_metadata\u001b[0m\u001b[0;34m:\u001b[0m\u001b[0;34m\u001b[0m\u001b[0;34m\u001b[0m\u001b[0m\n\u001b[1;32m    907\u001b[0m         \u001b[0mproto_data\u001b[0m \u001b[0;34m=\u001b[0m \u001b[0mtf_session\u001b[0m\u001b[0;34m.\u001b[0m\u001b[0mTF_GetBuffer\u001b[0m\u001b[0;34m(\u001b[0m\u001b[0mrun_metadata_ptr\u001b[0m\u001b[0;34m)\u001b[0m\u001b[0;34m\u001b[0m\u001b[0;34m\u001b[0m\u001b[0m\n",
      "\u001b[0;32m/opt/anaconda3/envs/learn-env/lib/python3.6/site-packages/tensorflow/python/client/session.py\u001b[0m in \u001b[0;36m_run\u001b[0;34m(self, handle, fetches, feed_dict, options, run_metadata)\u001b[0m\n\u001b[1;32m   1135\u001b[0m     \u001b[0;32mif\u001b[0m \u001b[0mfinal_fetches\u001b[0m \u001b[0;32mor\u001b[0m \u001b[0mfinal_targets\u001b[0m \u001b[0;32mor\u001b[0m \u001b[0;34m(\u001b[0m\u001b[0mhandle\u001b[0m \u001b[0;32mand\u001b[0m \u001b[0mfeed_dict_tensor\u001b[0m\u001b[0;34m)\u001b[0m\u001b[0;34m:\u001b[0m\u001b[0;34m\u001b[0m\u001b[0;34m\u001b[0m\u001b[0m\n\u001b[1;32m   1136\u001b[0m       results = self._do_run(handle, final_targets, final_fetches,\n\u001b[0;32m-> 1137\u001b[0;31m                              feed_dict_tensor, options, run_metadata)\n\u001b[0m\u001b[1;32m   1138\u001b[0m     \u001b[0;32melse\u001b[0m\u001b[0;34m:\u001b[0m\u001b[0;34m\u001b[0m\u001b[0;34m\u001b[0m\u001b[0m\n\u001b[1;32m   1139\u001b[0m       \u001b[0mresults\u001b[0m \u001b[0;34m=\u001b[0m \u001b[0;34m[\u001b[0m\u001b[0;34m]\u001b[0m\u001b[0;34m\u001b[0m\u001b[0;34m\u001b[0m\u001b[0m\n",
      "\u001b[0;32m/opt/anaconda3/envs/learn-env/lib/python3.6/site-packages/tensorflow/python/client/session.py\u001b[0m in \u001b[0;36m_do_run\u001b[0;34m(self, handle, target_list, fetch_list, feed_dict, options, run_metadata)\u001b[0m\n\u001b[1;32m   1353\u001b[0m     \u001b[0;32mif\u001b[0m \u001b[0mhandle\u001b[0m \u001b[0;32mis\u001b[0m \u001b[0;32mNone\u001b[0m\u001b[0;34m:\u001b[0m\u001b[0;34m\u001b[0m\u001b[0;34m\u001b[0m\u001b[0m\n\u001b[1;32m   1354\u001b[0m       return self._do_call(_run_fn, self._session, feeds, fetches, targets,\n\u001b[0;32m-> 1355\u001b[0;31m                            options, run_metadata)\n\u001b[0m\u001b[1;32m   1356\u001b[0m     \u001b[0;32melse\u001b[0m\u001b[0;34m:\u001b[0m\u001b[0;34m\u001b[0m\u001b[0;34m\u001b[0m\u001b[0m\n\u001b[1;32m   1357\u001b[0m       \u001b[0;32mreturn\u001b[0m \u001b[0mself\u001b[0m\u001b[0;34m.\u001b[0m\u001b[0m_do_call\u001b[0m\u001b[0;34m(\u001b[0m\u001b[0m_prun_fn\u001b[0m\u001b[0;34m,\u001b[0m \u001b[0mself\u001b[0m\u001b[0;34m.\u001b[0m\u001b[0m_session\u001b[0m\u001b[0;34m,\u001b[0m \u001b[0mhandle\u001b[0m\u001b[0;34m,\u001b[0m \u001b[0mfeeds\u001b[0m\u001b[0;34m,\u001b[0m \u001b[0mfetches\u001b[0m\u001b[0;34m)\u001b[0m\u001b[0;34m\u001b[0m\u001b[0;34m\u001b[0m\u001b[0m\n",
      "\u001b[0;32m/opt/anaconda3/envs/learn-env/lib/python3.6/site-packages/tensorflow/python/client/session.py\u001b[0m in \u001b[0;36m_do_call\u001b[0;34m(self, fn, *args)\u001b[0m\n\u001b[1;32m   1359\u001b[0m   \u001b[0;32mdef\u001b[0m \u001b[0m_do_call\u001b[0m\u001b[0;34m(\u001b[0m\u001b[0mself\u001b[0m\u001b[0;34m,\u001b[0m \u001b[0mfn\u001b[0m\u001b[0;34m,\u001b[0m \u001b[0;34m*\u001b[0m\u001b[0margs\u001b[0m\u001b[0;34m)\u001b[0m\u001b[0;34m:\u001b[0m\u001b[0;34m\u001b[0m\u001b[0;34m\u001b[0m\u001b[0m\n\u001b[1;32m   1360\u001b[0m     \u001b[0;32mtry\u001b[0m\u001b[0;34m:\u001b[0m\u001b[0;34m\u001b[0m\u001b[0;34m\u001b[0m\u001b[0m\n\u001b[0;32m-> 1361\u001b[0;31m       \u001b[0;32mreturn\u001b[0m \u001b[0mfn\u001b[0m\u001b[0;34m(\u001b[0m\u001b[0;34m*\u001b[0m\u001b[0margs\u001b[0m\u001b[0;34m)\u001b[0m\u001b[0;34m\u001b[0m\u001b[0;34m\u001b[0m\u001b[0m\n\u001b[0m\u001b[1;32m   1362\u001b[0m     \u001b[0;32mexcept\u001b[0m \u001b[0merrors\u001b[0m\u001b[0;34m.\u001b[0m\u001b[0mOpError\u001b[0m \u001b[0;32mas\u001b[0m \u001b[0me\u001b[0m\u001b[0;34m:\u001b[0m\u001b[0;34m\u001b[0m\u001b[0;34m\u001b[0m\u001b[0m\n\u001b[1;32m   1363\u001b[0m       \u001b[0mmessage\u001b[0m \u001b[0;34m=\u001b[0m \u001b[0mcompat\u001b[0m\u001b[0;34m.\u001b[0m\u001b[0mas_text\u001b[0m\u001b[0;34m(\u001b[0m\u001b[0me\u001b[0m\u001b[0;34m.\u001b[0m\u001b[0mmessage\u001b[0m\u001b[0;34m)\u001b[0m\u001b[0;34m\u001b[0m\u001b[0;34m\u001b[0m\u001b[0m\n",
      "\u001b[0;32m/opt/anaconda3/envs/learn-env/lib/python3.6/site-packages/tensorflow/python/client/session.py\u001b[0m in \u001b[0;36m_run_fn\u001b[0;34m(session, feed_dict, fetch_list, target_list, options, run_metadata)\u001b[0m\n\u001b[1;32m   1338\u001b[0m         \u001b[0;32melse\u001b[0m\u001b[0;34m:\u001b[0m\u001b[0;34m\u001b[0m\u001b[0;34m\u001b[0m\u001b[0m\n\u001b[1;32m   1339\u001b[0m           return tf_session.TF_Run(session, options, feed_dict, fetch_list,\n\u001b[0;32m-> 1340\u001b[0;31m                                    target_list, status, run_metadata)\n\u001b[0m\u001b[1;32m   1341\u001b[0m \u001b[0;34m\u001b[0m\u001b[0m\n\u001b[1;32m   1342\u001b[0m     \u001b[0;32mdef\u001b[0m \u001b[0m_prun_fn\u001b[0m\u001b[0;34m(\u001b[0m\u001b[0msession\u001b[0m\u001b[0;34m,\u001b[0m \u001b[0mhandle\u001b[0m\u001b[0;34m,\u001b[0m \u001b[0mfeed_dict\u001b[0m\u001b[0;34m,\u001b[0m \u001b[0mfetch_list\u001b[0m\u001b[0;34m)\u001b[0m\u001b[0;34m:\u001b[0m\u001b[0;34m\u001b[0m\u001b[0;34m\u001b[0m\u001b[0m\n",
      "\u001b[0;31mKeyboardInterrupt\u001b[0m: "
     ]
    }
   ],
   "source": [
    "\n",
    "model4 = models.Sequential()\n",
    "model4.add(layers.Dropout(0.4,input_shape=(256, 256, 3)))\n",
    "model4.add(layers.Conv2D(32, (3, 3), activation='relu'))\n",
    "model4.add(layers.MaxPooling2D((2, 2)))\n",
    "model4.add(layers.Conv2D(64, (3, 3), activation='relu'))\n",
    "model4.add(layers.MaxPooling2D((2, 2)))\n",
    "model4.add(layers.Flatten())\n",
    "model4.add(layers.Dense(128,kernel_regularizer=regularizers.l2(0.005), activation='relu'))\n",
    "model4.add(layers.Dropout(0.3))\n",
    "model4.add(layers.Dense(8, activation='softmax'))\n",
    "model4.compile(loss='categorical_crossentropy',\n",
    "              optimizer='RMSprop',\n",
    "              metrics=['accuracy'])\n",
    "\n",
    "# ⏰ This cell may take several minutes to run\n",
    "history4 = model4.fit_generator(train_generator,  \n",
    "                              epochs=30, \n",
    "                              validation_data=validation_generator)"
   ]
  },
  {
   "cell_type": "code",
   "execution_count": 25,
   "metadata": {},
   "outputs": [
    {
     "ename": "SyntaxError",
     "evalue": "invalid syntax (<ipython-input-25-9d01ccb457b2>, line 4)",
     "output_type": "error",
     "traceback": [
      "\u001b[0;36m  File \u001b[0;32m\"<ipython-input-25-9d01ccb457b2>\"\u001b[0;36m, line \u001b[0;32m4\u001b[0m\n\u001b[0;31m    model4.add(layers.MaxPooling2D((2, 2)))\u001b[0m\n\u001b[0m         ^\u001b[0m\n\u001b[0;31mSyntaxError\u001b[0m\u001b[0;31m:\u001b[0m invalid syntax\n"
     ]
    }
   ],
   "source": []
  },
  {
   "cell_type": "code",
   "execution_count": null,
   "metadata": {},
   "outputs": [],
   "source": []
  },
  {
   "cell_type": "code",
   "execution_count": 24,
   "metadata": {},
   "outputs": [
    {
     "name": "stdout",
     "output_type": "stream",
     "text": [
      "Found 800 images belonging to 8 classes.\n",
      "test acc: 0.3300000035762787\n"
     ]
    }
   ],
   "source": [
    "test_generator = test_datagen.flow_from_directory(test_dir, \n",
    "                                                  target_size=(256, 256), \n",
    "                                                  batch_size=20, \n",
    "                                                  class_mode='categorical')\n",
    "test_loss, test_acc = model4.evaluate_generator(test_generator, steps=50)\n",
    "print('test acc:', test_acc)"
   ]
  },
  {
   "cell_type": "code",
   "execution_count": null,
   "metadata": {},
   "outputs": [],
   "source": []
  }
 ],
 "metadata": {
  "kernelspec": {
   "display_name": "Python [conda env:learn-env] *",
   "language": "python",
   "name": "conda-env-learn-env-py"
  },
  "language_info": {
   "codemirror_mode": {
    "name": "ipython",
    "version": 3
   },
   "file_extension": ".py",
   "mimetype": "text/x-python",
   "name": "python",
   "nbconvert_exporter": "python",
   "pygments_lexer": "ipython3",
   "version": "3.6.9"
  }
 },
 "nbformat": 4,
 "nbformat_minor": 2
}
