{
 "cells": [
  {
   "cell_type": "code",
   "execution_count": 12,
   "metadata": {
    "scrolled": true
   },
   "outputs": [],
   "source": [
    "import time\n",
    "import matplotlib.pyplot as plt\n",
    "import scipy\n",
    "import numpy as np\n",
    "from PIL import Image\n",
    "from scipy import ndimage\n",
    "from keras.preprocessing.image import ImageDataGenerator, array_to_img, img_to_array, load_img\n",
    "\n",
    "np.random.seed(123)"
   ]
  },
  {
   "cell_type": "code",
   "execution_count": 13,
   "metadata": {},
   "outputs": [],
   "source": [
    "from keras.preprocessing.image import ImageDataGenerator\n",
    "import datetime\n",
    "\n",
    "original_start = datetime.datetime.now()\n",
    "start = datetime.datetime.now()"
   ]
  },
  {
   "cell_type": "code",
   "execution_count": null,
   "metadata": {},
   "outputs": [],
   "source": []
  },
  {
   "cell_type": "code",
   "execution_count": 14,
   "metadata": {},
   "outputs": [
    {
     "name": "stdout",
     "output_type": "stream",
     "text": [
      "Found 6400 images belonging to 8 classes.\n",
      "Found 797 images belonging to 8 classes.\n"
     ]
    }
   ],
   "source": [
    "train_dir = 'data/genres_mel_spec/CNN_folders/train'\n",
    "validation_dir = 'data/genres_mel_spec/CNN_folders/val/'\n",
    "test_dir = 'data/genres_mel_spec/CNN_folders/test/'\n",
    "\n",
    "# All images will be rescaled by 1./255\n",
    "train_datagen = ImageDataGenerator(rescale=1./255)\n",
    "test_datagen = ImageDataGenerator(rescale=1./255)\n",
    "\n",
    "train_generator = train_datagen.flow_from_directory(\n",
    "        train_dir,\n",
    "        target_size=(256, 256),\n",
    "        batch_size=20,\n",
    "        class_mode='categorical')\n",
    "\n",
    "validation_generator = test_datagen.flow_from_directory(validation_dir,\n",
    "                                                        target_size=(256, 256),\n",
    "                                                        batch_size=20,\n",
    "                                                        class_mode='categorical')\n"
   ]
  },
  {
   "cell_type": "code",
   "execution_count": 15,
   "metadata": {},
   "outputs": [],
   "source": [
    "from keras.optimizers import RMSprop"
   ]
  },
  {
   "cell_type": "code",
   "execution_count": 18,
   "metadata": {},
   "outputs": [],
   "source": [
    "from keras import layers\n",
    "from keras import models\n",
    "from keras import optimizers\n",
    "\n",
    "\n",
    "model = models.Sequential()\n",
    "model.add(layers.Conv2D(32, (3, 3), activation='relu',\n",
    "                        input_shape=(256, 256, 3)))\n",
    "model.add(layers.MaxPooling2D((2, 2)))\n",
    "model.add(layers.Conv2D(64, (3, 3), activation='relu'))\n",
    "model.add(layers.MaxPooling2D((2, 2)))\n",
    "model.add(layers.Conv2D(128, (3, 3), activation='relu'))\n",
    "model.add(layers.MaxPooling2D((2, 2)))\n",
    "model.add(layers.Conv2D(128, (3, 3), activation='relu'))\n",
    "model.add(layers.MaxPooling2D((2, 2)))\n",
    "model.add(layers.Flatten())\n",
    "model.add(layers.Dense(512, activation='relu'))\n",
    "model.add(layers.Dense(8, activation='softmax'))\n",
    "\n",
    "model.compile(loss='categorical_crossentropy',\n",
    "              optimizer='RMSprop',\n",
    "              metrics=['accuracy'])"
   ]
  },
  {
   "cell_type": "code",
   "execution_count": 19,
   "metadata": {},
   "outputs": [
    {
     "name": "stdout",
     "output_type": "stream",
     "text": [
      "Epoch 1/25\n",
      "100/100 [==============================] - 143s 1s/step - loss: 2.1756 - acc: 0.1855 - val_loss: 1.8110 - val_acc: 0.3290\n",
      "Epoch 2/25\n",
      "100/100 [==============================] - 140s 1s/step - loss: 1.7758 - acc: 0.3460 - val_loss: 1.6771 - val_acc: 0.3541\n",
      "Epoch 3/25\n",
      "100/100 [==============================] - 140s 1s/step - loss: 1.6558 - acc: 0.3985 - val_loss: 1.6781 - val_acc: 0.4243\n",
      "Epoch 4/25\n",
      "100/100 [==============================] - 141s 1s/step - loss: 1.5340 - acc: 0.4510 - val_loss: 1.6044 - val_acc: 0.4296\n",
      "Epoch 5/25\n",
      "100/100 [==============================] - 140s 1s/step - loss: 1.5387 - acc: 0.4480 - val_loss: 1.5589 - val_acc: 0.4493\n",
      "Epoch 6/25\n",
      "100/100 [==============================] - 141s 1s/step - loss: 1.4796 - acc: 0.4735 - val_loss: 1.4974 - val_acc: 0.4845\n",
      "Epoch 7/25\n",
      "100/100 [==============================] - 141s 1s/step - loss: 1.4164 - acc: 0.4945 - val_loss: 1.4626 - val_acc: 0.4855\n",
      "Epoch 8/25\n",
      "100/100 [==============================] - 141s 1s/step - loss: 1.3678 - acc: 0.5085 - val_loss: 1.4780 - val_acc: 0.4799\n",
      "Epoch 9/25\n",
      "100/100 [==============================] - 151s 2s/step - loss: 1.3392 - acc: 0.5235 - val_loss: 1.4651 - val_acc: 0.4704\n",
      "Epoch 10/25\n",
      "100/100 [==============================] - 152s 2s/step - loss: 1.3285 - acc: 0.5355 - val_loss: 1.4393 - val_acc: 0.4814\n",
      "Epoch 11/25\n",
      "100/100 [==============================] - 155s 2s/step - loss: 1.2147 - acc: 0.5815 - val_loss: 1.4936 - val_acc: 0.4955\n",
      "Epoch 12/25\n",
      "100/100 [==============================] - 141s 1s/step - loss: 1.2134 - acc: 0.5700 - val_loss: 1.5146 - val_acc: 0.4920\n",
      "Epoch 13/25\n",
      "100/100 [==============================] - 138s 1s/step - loss: 1.2001 - acc: 0.5780 - val_loss: 1.6271 - val_acc: 0.4915\n",
      "Epoch 14/25\n",
      "100/100 [==============================] - 141s 1s/step - loss: 1.0823 - acc: 0.6205 - val_loss: 1.4342 - val_acc: 0.5005\n",
      "Epoch 15/25\n",
      "100/100 [==============================] - 142s 1s/step - loss: 0.9615 - acc: 0.6680 - val_loss: 1.7136 - val_acc: 0.4835\n",
      "Epoch 16/25\n",
      "100/100 [==============================] - 143s 1s/step - loss: 1.0348 - acc: 0.6355 - val_loss: 1.5298 - val_acc: 0.4809\n",
      "Epoch 17/25\n",
      "100/100 [==============================] - 143s 1s/step - loss: 0.7415 - acc: 0.7480 - val_loss: 1.8260 - val_acc: 0.4634\n",
      "Epoch 18/25\n",
      "100/100 [==============================] - 143s 1s/step - loss: 0.7804 - acc: 0.7355 - val_loss: 1.7080 - val_acc: 0.4674\n",
      "Epoch 19/25\n",
      "100/100 [==============================] - 144s 1s/step - loss: 0.7907 - acc: 0.7220 - val_loss: 1.9159 - val_acc: 0.4082\n",
      "Epoch 20/25\n",
      "100/100 [==============================] - 143s 1s/step - loss: 0.5440 - acc: 0.8135 - val_loss: 2.2450 - val_acc: 0.4698\n",
      "Epoch 21/25\n",
      "100/100 [==============================] - 143s 1s/step - loss: 0.4841 - acc: 0.8395 - val_loss: 2.2514 - val_acc: 0.4654\n",
      "Epoch 22/25\n",
      "100/100 [==============================] - 143s 1s/step - loss: 0.5310 - acc: 0.8210 - val_loss: 2.5219 - val_acc: 0.4664\n",
      "Epoch 23/25\n",
      "100/100 [==============================] - 146s 1s/step - loss: 0.3802 - acc: 0.8785 - val_loss: 3.0237 - val_acc: 0.4132\n",
      "Epoch 24/25\n",
      "100/100 [==============================] - 147s 1s/step - loss: 0.3074 - acc: 0.9055 - val_loss: 2.6925 - val_acc: 0.4517\n",
      "Epoch 25/25\n",
      "100/100 [==============================] - 145s 1s/step - loss: 0.2978 - acc: 0.9070 - val_loss: 3.2076 - val_acc: 0.4684\n"
     ]
    }
   ],
   "source": [
    "# ⏰ This cell may take several minutes to run\n",
    "history = model.fit_generator(train_generator, \n",
    "                              steps_per_epoch=100, \n",
    "                              epochs=25, \n",
    "                              validation_data=\n",
    "                              validation_generator, \n",
    "                              validation_steps=50)"
   ]
  },
  {
   "cell_type": "code",
   "execution_count": 20,
   "metadata": {},
   "outputs": [
    {
     "data": {
      "image/png": "[encoded data removed]",
      "text/plain": [
       "<Figure size 432x288 with 1 Axes>"
      ]
     },
     "metadata": {
      "needs_background": "light"
     },
     "output_type": "display_data"
    },
    {
     "data": {
      "image/png": "[encoded data removed]",
      "text/plain": [
       "<Figure size 432x288 with 1 Axes>"
      ]
     },
     "metadata": {
      "needs_background": "light"
     },
     "output_type": "display_data"
    }
   ],
   "source": [
    "import matplotlib.pyplot as plt\n",
    "%matplotlib inline \n",
    "\n",
    "acc = history.history['acc']\n",
    "val_acc = history.history['val_acc']\n",
    "loss = history.history['loss']\n",
    "val_loss = history.history['val_loss']\n",
    "epochs = range(len(acc))\n",
    "plt.plot(epochs, acc, 'bo', label='Training acc')\n",
    "plt.plot(epochs, val_acc, 'b', label='Validation acc')\n",
    "plt.title('Training and validation accuracy')\n",
    "plt.legend()\n",
    "plt.figure()\n",
    "plt.plot(epochs, loss, 'bo', label='Training loss')\n",
    "plt.plot(epochs, val_loss, 'b', label='Validation loss')\n",
    "plt.title('Training and validation loss')\n",
    "plt.legend()\n",
    "plt.show()"
   ]
  },
  {
   "cell_type": "code",
   "execution_count": 22,
   "metadata": {},
   "outputs": [
    {
     "name": "stdout",
     "output_type": "stream",
     "text": [
      "Found 800 images belonging to 8 classes.\n",
      "test acc: 0.453000001013279\n"
     ]
    }
   ],
   "source": [
    "test_generator = test_datagen.flow_from_directory(test_dir, \n",
    "                                                  target_size=(256, 256), \n",
    "                                                  batch_size=20, \n",
    "                                                  class_mode='categorical')\n",
    "test_loss, test_acc = model.evaluate_generator(test_generator, steps=50)\n",
    "print('test acc:', test_acc)"
   ]
  },
  {
   "cell_type": "code",
   "execution_count": 26,
   "metadata": {},
   "outputs": [],
   "source": [
    "import keras.layers import Cython"
   ]
  },
  {
   "cell_type": "code",
   "execution_count": 36,
   "metadata": {},
   "outputs": [],
   "source": [
    "model2 = keras.models.Sequential()\n",
    "model2.add(layers.Conv2D(filters=64, kernel_size=3,activation='relu', padding=\"same\",\n",
    "                    kernel_initializer='he_normal', input_shape=[256, 256, 3]))\n",
    "model2.add(layers.BatchNormalization())\n",
    "model2.add(layers.Conv2D(32,kernel_size=(3, 3), activation='relu'))\n",
    "model2.add(layers.BatchNormalization())\n",
    "model2.add(layers.Conv2D(32,kernel_size=5,strides=2,padding='same',activation='relu'))\n",
    "model2.add(layers.MaxPooling2D((2, 2)))\n",
    "model2.add(layers.BatchNormalization())\n",
    "            # Add dropouts to the model\n",
    "model2.add(layers.Dropout(0.4))\n",
    "model2.add(layers.Conv2D(64, kernel_size=(3, 3), strides=2,padding='same', activation='relu'))\n",
    "model2.add(layers.MaxPooling2D(pool_size=(2, 2)))\n",
    "model2.add(layers.BatchNormalization())\n",
    "model2.add(layers.Conv2D(64, kernel_size=(3, 3), strides=2,padding='same', activation='relu'))\n",
    "            # Add dropouts to the model\n",
    "model2.add(layers.Dropout(0.4))\n",
    "model2.add(layers.Flatten())\n",
    "model2.add(layers.Dense(units=128, activation='relu'))\n",
    "model2.add(layers.Dropout(0.4))\n",
    "model2.add(layers.Dense(units=64, activation='relu'))\n",
    "model2.add(layers.Dropout(0.4))\n",
    "model2.add(layers.Dense(units=8, activation='softmax'))"
   ]
  },
  {
   "cell_type": "code",
   "execution_count": 37,
   "metadata": {},
   "outputs": [],
   "source": [
    "model2.compile(loss='categorical_crossentropy',\n",
    "              optimizer='RMSprop',\n",
    "              metrics=['accuracy'])"
   ]
  },
  {
   "cell_type": "code",
   "execution_count": 38,
   "metadata": {},
   "outputs": [
    {
     "name": "stdout",
     "output_type": "stream",
     "text": [
      "Epoch 1/10\n",
      "100/100 [==============================] - 725s 7s/step - loss: 2.2287 - acc: 0.1310 - val_loss: 1.9918 - val_acc: 0.2277\n",
      "Epoch 2/10\n",
      "100/100 [==============================] - 726s 7s/step - loss: 2.0274 - acc: 0.2010 - val_loss: 1.9400 - val_acc: 0.2768\n",
      "Epoch 3/10\n",
      "100/100 [==============================] - 724s 7s/step - loss: 1.9449 - acc: 0.2460 - val_loss: 1.7605 - val_acc: 0.3551\n",
      "Epoch 4/10\n",
      "100/100 [==============================] - 723s 7s/step - loss: 1.8695 - acc: 0.2700 - val_loss: 1.7460 - val_acc: 0.3280\n",
      "Epoch 5/10\n",
      "100/100 [==============================] - 720s 7s/step - loss: 1.8463 - acc: 0.3025 - val_loss: 1.6790 - val_acc: 0.3761\n",
      "Epoch 6/10\n",
      "100/100 [==============================] - 723s 7s/step - loss: 1.8496 - acc: 0.2870 - val_loss: 1.6744 - val_acc: 0.3771\n",
      "Epoch 7/10\n",
      "100/100 [==============================] - 715s 7s/step - loss: 1.8097 - acc: 0.3070 - val_loss: 1.5760 - val_acc: 0.4614\n",
      "Epoch 8/10\n",
      "100/100 [==============================] - 712s 7s/step - loss: 1.7835 - acc: 0.3390 - val_loss: 1.5914 - val_acc: 0.4125\n",
      "Epoch 9/10\n",
      "100/100 [==============================] - 715s 7s/step - loss: 1.6876 - acc: 0.3710 - val_loss: 1.6561 - val_acc: 0.3912\n",
      "Epoch 10/10\n",
      "100/100 [==============================] - 714s 7s/step - loss: 1.7291 - acc: 0.3525 - val_loss: 1.5846 - val_acc: 0.4183\n"
     ]
    }
   ],
   "source": [
    "# ⏰ This cell may take several minutes to run\n",
    "history2 = model2.fit_generator(train_generator, \n",
    "                              steps_per_epoch=100, \n",
    "                              epochs=10, \n",
    "                              validation_data=\n",
    "                              validation_generator, \n",
    "                              validation_steps=50)"
   ]
  },
  {
   "cell_type": "code",
   "execution_count": 39,
   "metadata": {},
   "outputs": [
    {
     "data": {
      "image/png": "[encoded data removed]",
      "text/plain": [
       "<Figure size 432x288 with 1 Axes>"
      ]
     },
     "metadata": {
      "needs_background": "light"
     },
     "output_type": "display_data"
    },
    {
     "data": {
      "image/png": "[encoded data removed]",
      "text/plain": [
       "<Figure size 432x288 with 1 Axes>"
      ]
     },
     "metadata": {
      "needs_background": "light"
     },
     "output_type": "display_data"
    }
   ],
   "source": [
    "import matplotlib.pyplot as plt\n",
    "%matplotlib inline \n",
    "\n",
    "acc = history2.history['acc']\n",
    "val_acc = history2.history['val_acc']\n",
    "loss = history2.history['loss']\n",
    "val_loss = history2.history['val_loss']\n",
    "epochs = range(len(acc))\n",
    "plt.plot(epochs, acc, 'bo', label='Training acc')\n",
    "plt.plot(epochs, val_acc, 'b', label='Validation acc')\n",
    "plt.title('Training and validation accuracy')\n",
    "plt.legend()\n",
    "plt.figure()\n",
    "plt.plot(epochs, loss, 'bo', label='Training loss')\n",
    "plt.plot(epochs, val_loss, 'b', label='Validation loss')\n",
    "plt.title('Training and validation loss')\n",
    "plt.legend()\n",
    "plt.show()"
   ]
  },
  {
   "cell_type": "code",
   "execution_count": 41,
   "metadata": {},
   "outputs": [
    {
     "name": "stdout",
     "output_type": "stream",
     "text": [
      "Found 800 images belonging to 8 classes.\n",
      "test acc: 0.4130000001192093\n"
     ]
    }
   ],
   "source": [
    "test_generator = test_datagen.flow_from_directory(test_dir, \n",
    "                                                  target_size=(256, 256), \n",
    "                                                  batch_size=20, \n",
    "                                                  class_mode='categorical')\n",
    "test_loss, test_acc = model2.evaluate_generator(test_generator, steps=50)\n",
    "print('test acc:', test_acc)"
   ]
  },
  {
   "cell_type": "code",
   "execution_count": 42,
   "metadata": {},
   "outputs": [
    {
     "name": "stdout",
     "output_type": "stream",
     "text": [
      "train acc: 0.4000000014901161\n"
     ]
    }
   ],
   "source": [
    "train_loss, train_acc = model2.evaluate_generator(train_generator, steps=50)\n",
    "print('train acc:', train_acc)"
   ]
  },
  {
   "cell_type": "code",
   "execution_count": 43,
   "metadata": {},
   "outputs": [
    {
     "name": "stdout",
     "output_type": "stream",
     "text": [
      "Epoch 1/10\n",
      "50/50 [==============================] - 397s 8s/step - loss: 1.7076 - acc: 0.4040 - val_loss: 1.5537 - val_acc: 0.4393\n",
      "Epoch 2/10\n",
      "50/50 [==============================] - 405s 8s/step - loss: 1.6847 - acc: 0.3810 - val_loss: 1.5988 - val_acc: 0.4403\n",
      "Epoch 3/10\n",
      "50/50 [==============================] - 400s 8s/step - loss: 1.7259 - acc: 0.3670 - val_loss: 1.6299 - val_acc: 0.3831\n",
      "Epoch 4/10\n",
      "50/50 [==============================] - 398s 8s/step - loss: 1.7732 - acc: 0.3740 - val_loss: 1.5490 - val_acc: 0.4547\n",
      "Epoch 5/10\n",
      "50/50 [==============================] - 406s 8s/step - loss: 1.6404 - acc: 0.4110 - val_loss: 1.6066 - val_acc: 0.4373\n",
      "Epoch 6/10\n",
      "50/50 [==============================] - 408s 8s/step - loss: 1.6483 - acc: 0.3900 - val_loss: 1.6321 - val_acc: 0.4483\n",
      "Epoch 7/10\n",
      "50/50 [==============================] - 409s 8s/step - loss: 1.6486 - acc: 0.4040 - val_loss: 1.5686 - val_acc: 0.4142\n",
      "Epoch 8/10\n",
      "50/50 [==============================] - 423s 8s/step - loss: 1.6076 - acc: 0.4120 - val_loss: 1.5830 - val_acc: 0.4396\n",
      "Epoch 9/10\n",
      "50/50 [==============================] - 472s 9s/step - loss: 1.6776 - acc: 0.3930 - val_loss: 1.5741 - val_acc: 0.4333\n",
      "Epoch 10/10\n",
      "50/50 [==============================] - 458s 9s/step - loss: 1.6833 - acc: 0.3770 - val_loss: 1.5171 - val_acc: 0.4403\n"
     ]
    }
   ],
   "source": [
    "# ⏰ This cell may take several minutes to run\n",
    "history3 = model2.fit_generator(train_generator, \n",
    "                              steps_per_epoch=50, \n",
    "                              epochs=10, \n",
    "                              validation_data=\n",
    "                              validation_generator, \n",
    "                              validation_steps=50)"
   ]
  },
  {
   "cell_type": "code",
   "execution_count": 44,
   "metadata": {},
   "outputs": [
    {
     "data": {
      "image/png": "[encoded data removed]",
      "text/plain": [
       "<Figure size 432x288 with 1 Axes>"
      ]
     },
     "metadata": {
      "needs_background": "light"
     },
     "output_type": "display_data"
    },
    {
     "data": {
      "image/png": "[encoded data removed]",
      "text/plain": [
       "<Figure size 432x288 with 1 Axes>"
      ]
     },
     "metadata": {
      "needs_background": "light"
     },
     "output_type": "display_data"
    }
   ],
   "source": [
    "import matplotlib.pyplot as plt\n",
    "%matplotlib inline \n",
    "\n",
    "acc = history3.history['acc']\n",
    "val_acc = history3.history['val_acc']\n",
    "loss = history3.history['loss']\n",
    "val_loss = history3.history['val_loss']\n",
    "epochs = range(len(acc))\n",
    "plt.plot(epochs, acc, 'bo', label='Training acc')\n",
    "plt.plot(epochs, val_acc, 'b', label='Validation acc')\n",
    "plt.title('Training and validation accuracy')\n",
    "plt.legend()\n",
    "plt.figure()\n",
    "plt.plot(epochs, loss, 'bo', label='Training loss')\n",
    "plt.plot(epochs, val_loss, 'b', label='Validation loss')\n",
    "plt.title('Training and validation loss')\n",
    "plt.legend()\n",
    "plt.show()"
   ]
  },
  {
   "cell_type": "code",
   "execution_count": 45,
   "metadata": {},
   "outputs": [
    {
     "name": "stdout",
     "output_type": "stream",
     "text": [
      "test acc: 0.45700000107288363\n"
     ]
    }
   ],
   "source": [
    "test_loss, test_acc = model2.evaluate_generator(test_generator, steps=50)\n",
    "print('test acc:', test_acc)"
   ]
  },
  {
   "cell_type": "code",
   "execution_count": 46,
   "metadata": {},
   "outputs": [
    {
     "name": "stdout",
     "output_type": "stream",
     "text": [
      "train acc: 0.48800000190734866\n"
     ]
    }
   ],
   "source": [
    "train_loss, train_acc = model2.evaluate_generator(train_generator, steps=50)\n",
    "print('train acc:', train_acc)"
   ]
  },
  {
   "cell_type": "code",
   "execution_count": null,
   "metadata": {},
   "outputs": [],
   "source": []
  },
  {
   "cell_type": "code",
   "execution_count": null,
   "metadata": {},
   "outputs": [],
   "source": [
    "# ⏰ This cell may take several minutes to run\n",
    "history4 = model2.fit_generator(train_generator, \n",
    "                              steps_per_epoch=100, \n",
    "                              epochs=10, \n",
    "                              validation_data=\n",
    "                              validation_generator, \n",
    "                              validation_steps=50)"
   ]
  },
  {
   "cell_type": "code",
   "execution_count": null,
   "metadata": {},
   "outputs": [],
   "source": []
  },
  {
   "cell_type": "code",
   "execution_count": null,
   "metadata": {},
   "outputs": [],
   "source": []
  },
  {
   "cell_type": "code",
   "execution_count": null,
   "metadata": {},
   "outputs": [],
   "source": []
  },
  {
   "cell_type": "code",
   "execution_count": null,
   "metadata": {},
   "outputs": [],
   "source": []
  }
 ],
 "metadata": {
  "kernelspec": {
   "display_name": "Python [conda env:learn-env] *",
   "language": "python",
   "name": "conda-env-learn-env-py"
  },
  "language_info": {
   "codemirror_mode": {
    "name": "ipython",
    "version": 3
   },
   "file_extension": ".py",
   "mimetype": "text/x-python",
   "name": "python",
   "nbconvert_exporter": "python",
   "pygments_lexer": "ipython3",
   "version": "3.6.9"
  }
 },
 "nbformat": 4,
 "nbformat_minor": 2
}
