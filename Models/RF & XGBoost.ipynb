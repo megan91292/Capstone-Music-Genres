{
 "cells": [
  {
   "cell_type": "code",
   "execution_count": 50,
   "metadata": {},
   "outputs": [],
   "source": [
    "%matplotlib inline\n",
    "\n",
    "import warnings\n",
    "warnings.filterwarnings('ignore')\n",
    "\n",
    "import os\n",
    "\n",
    "import IPython.display as ipd\n",
    "\n",
    "import numpy as np\n",
    "import pandas as pd\n",
    "import seaborn as sns\n",
    "import matplotlib.pyplot as plt\n",
    "\n",
    "from sklearn.metrics import roc_curve, auc\n",
    "from sklearn.preprocessing import StandardScaler,LabelEncoder\n",
    "from sklearn.model_selection import train_test_split, GridSearchCV\n",
    "from sklearn.ensemble import RandomForestClassifier\n",
    "from sklearn.pipeline import Pipeline\n",
    "\n",
    "from sklearn.metrics import confusion_matrix,accuracy_score,precision_score,recall_score,precision_recall_curve\n",
    "from sklearn.metrics import precision_recall_fscore_support,f1_score,fbeta_score\n",
    "from sklearn.metrics import make_scorer\n",
    "from sklearn.metrics import classification_report\n",
    "from sklearn.svm import SVC, NuSVC, LinearSVC\n",
    "from sklearn.utils import shuffle\n",
    "\n",
    "from sklearn.model_selection import train_test_split\n",
    "from sklearn.preprocessing import StandardScaler\n",
    "from sklearn.ensemble import RandomForestClassifier\n",
    "from sklearn.metrics import confusion_matrix\n",
    "\n",
    "import librosa\n",
    "import librosa.display\n",
    "import ast\n",
    "\n",
    "import keras\n",
    "plt.rcParams['figure.figsize'] = (17, 5)\n",
    "\n"
   ]
  },
  {
   "cell_type": "code",
   "execution_count": 51,
   "metadata": {},
   "outputs": [],
   "source": [
    "df = pd.read_csv('data.csv')"
   ]
  },
  {
   "cell_type": "code",
   "execution_count": 52,
   "metadata": {},
   "outputs": [
    {
     "data": {
      "text/html": [
       "<div>\n",
       "<style scoped>\n",
       "    .dataframe tbody tr th:only-of-type {\n",
       "        vertical-align: middle;\n",
       "    }\n",
       "\n",
       "    .dataframe tbody tr th {\n",
       "        vertical-align: top;\n",
       "    }\n",
       "\n",
       "    .dataframe thead th {\n",
       "        text-align: right;\n",
       "    }\n",
       "</style>\n",
       "<table border=\"1\" class=\"dataframe\">\n",
       "  <thead>\n",
       "    <tr style=\"text-align: right;\">\n",
       "      <th></th>\n",
       "      <th>filename</th>\n",
       "      <th>chroma_cqt</th>\n",
       "      <th>chroma_cens</th>\n",
       "      <th>chroma_stft</th>\n",
       "      <th>spectral_centroid</th>\n",
       "      <th>spectral_bandwidth</th>\n",
       "      <th>spectral_contrast</th>\n",
       "      <th>rolloff</th>\n",
       "      <th>zero_crossing_rate</th>\n",
       "      <th>tonnetz</th>\n",
       "      <th>...</th>\n",
       "      <th>mfcc11</th>\n",
       "      <th>mfcc12</th>\n",
       "      <th>mfcc13</th>\n",
       "      <th>mfcc14</th>\n",
       "      <th>mfcc15</th>\n",
       "      <th>mfcc16</th>\n",
       "      <th>mfcc17</th>\n",
       "      <th>mfcc18</th>\n",
       "      <th>mfcc19</th>\n",
       "      <th>mfcc20</th>\n",
       "    </tr>\n",
       "  </thead>\n",
       "  <tbody>\n",
       "    <tr>\n",
       "      <th>0</th>\n",
       "      <td>126014</td>\n",
       "      <td>0.267008</td>\n",
       "      <td>0.171130</td>\n",
       "      <td>0.237383</td>\n",
       "      <td>699.229710</td>\n",
       "      <td>785.999971</td>\n",
       "      <td>25.676751</td>\n",
       "      <td>1183.751175</td>\n",
       "      <td>0.041712</td>\n",
       "      <td>0.092841</td>\n",
       "      <td>...</td>\n",
       "      <td>-27.326481</td>\n",
       "      <td>-20.607473</td>\n",
       "      <td>-12.659972</td>\n",
       "      <td>-13.275584</td>\n",
       "      <td>-12.988043</td>\n",
       "      <td>-15.687397</td>\n",
       "      <td>-12.339302</td>\n",
       "      <td>2.211766</td>\n",
       "      <td>2.147864</td>\n",
       "      <td>-5.011512</td>\n",
       "    </tr>\n",
       "    <tr>\n",
       "      <th>1</th>\n",
       "      <td>54496</td>\n",
       "      <td>0.274600</td>\n",
       "      <td>0.207362</td>\n",
       "      <td>0.277710</td>\n",
       "      <td>1833.074733</td>\n",
       "      <td>2091.124342</td>\n",
       "      <td>25.274995</td>\n",
       "      <td>3818.560243</td>\n",
       "      <td>0.093890</td>\n",
       "      <td>0.044640</td>\n",
       "      <td>...</td>\n",
       "      <td>-5.424025</td>\n",
       "      <td>6.843907</td>\n",
       "      <td>-6.247772</td>\n",
       "      <td>3.441898</td>\n",
       "      <td>-0.244973</td>\n",
       "      <td>4.090439</td>\n",
       "      <td>-1.278771</td>\n",
       "      <td>9.071951</td>\n",
       "      <td>-0.169724</td>\n",
       "      <td>0.161876</td>\n",
       "    </tr>\n",
       "    <tr>\n",
       "      <th>2</th>\n",
       "      <td>65893</td>\n",
       "      <td>0.458305</td>\n",
       "      <td>0.253559</td>\n",
       "      <td>0.412075</td>\n",
       "      <td>2767.487106</td>\n",
       "      <td>2741.112704</td>\n",
       "      <td>20.450162</td>\n",
       "      <td>5889.689386</td>\n",
       "      <td>0.111506</td>\n",
       "      <td>0.013648</td>\n",
       "      <td>...</td>\n",
       "      <td>-8.586940</td>\n",
       "      <td>6.649025</td>\n",
       "      <td>-2.908488</td>\n",
       "      <td>3.085722</td>\n",
       "      <td>-3.682684</td>\n",
       "      <td>2.957125</td>\n",
       "      <td>-2.243021</td>\n",
       "      <td>1.578797</td>\n",
       "      <td>-4.537785</td>\n",
       "      <td>1.052801</td>\n",
       "    </tr>\n",
       "    <tr>\n",
       "      <th>3</th>\n",
       "      <td>71158</td>\n",
       "      <td>0.531325</td>\n",
       "      <td>0.258276</td>\n",
       "      <td>0.424391</td>\n",
       "      <td>1444.225428</td>\n",
       "      <td>2060.084462</td>\n",
       "      <td>19.861984</td>\n",
       "      <td>3089.631317</td>\n",
       "      <td>0.046734</td>\n",
       "      <td>0.000029</td>\n",
       "      <td>...</td>\n",
       "      <td>5.303405</td>\n",
       "      <td>-0.030636</td>\n",
       "      <td>-1.089045</td>\n",
       "      <td>2.822888</td>\n",
       "      <td>-2.630777</td>\n",
       "      <td>1.943587</td>\n",
       "      <td>-7.131413</td>\n",
       "      <td>1.516889</td>\n",
       "      <td>-0.094114</td>\n",
       "      <td>-0.776687</td>\n",
       "    </tr>\n",
       "    <tr>\n",
       "      <th>4</th>\n",
       "      <td>57821</td>\n",
       "      <td>0.412456</td>\n",
       "      <td>0.239312</td>\n",
       "      <td>0.335196</td>\n",
       "      <td>2253.305912</td>\n",
       "      <td>2412.719760</td>\n",
       "      <td>22.327731</td>\n",
       "      <td>4858.028957</td>\n",
       "      <td>0.099870</td>\n",
       "      <td>0.024816</td>\n",
       "      <td>...</td>\n",
       "      <td>-8.056653</td>\n",
       "      <td>-5.495337</td>\n",
       "      <td>-8.891809</td>\n",
       "      <td>-2.783748</td>\n",
       "      <td>-6.777088</td>\n",
       "      <td>-3.736772</td>\n",
       "      <td>-11.871335</td>\n",
       "      <td>-0.826213</td>\n",
       "      <td>-2.934075</td>\n",
       "      <td>6.011378</td>\n",
       "    </tr>\n",
       "  </tbody>\n",
       "</table>\n",
       "<p>5 rows × 30 columns</p>\n",
       "</div>"
      ],
      "text/plain": [
       "   filename  chroma_cqt  chroma_cens  chroma_stft  spectral_centroid  \\\n",
       "0    126014    0.267008     0.171130     0.237383         699.229710   \n",
       "1     54496    0.274600     0.207362     0.277710        1833.074733   \n",
       "2     65893    0.458305     0.253559     0.412075        2767.487106   \n",
       "3     71158    0.531325     0.258276     0.424391        1444.225428   \n",
       "4     57821    0.412456     0.239312     0.335196        2253.305912   \n",
       "\n",
       "   spectral_bandwidth  spectral_contrast      rolloff  zero_crossing_rate  \\\n",
       "0          785.999971          25.676751  1183.751175            0.041712   \n",
       "1         2091.124342          25.274995  3818.560243            0.093890   \n",
       "2         2741.112704          20.450162  5889.689386            0.111506   \n",
       "3         2060.084462          19.861984  3089.631317            0.046734   \n",
       "4         2412.719760          22.327731  4858.028957            0.099870   \n",
       "\n",
       "    tonnetz  ...     mfcc11     mfcc12     mfcc13     mfcc14     mfcc15  \\\n",
       "0  0.092841  ... -27.326481 -20.607473 -12.659972 -13.275584 -12.988043   \n",
       "1  0.044640  ...  -5.424025   6.843907  -6.247772   3.441898  -0.244973   \n",
       "2  0.013648  ...  -8.586940   6.649025  -2.908488   3.085722  -3.682684   \n",
       "3  0.000029  ...   5.303405  -0.030636  -1.089045   2.822888  -2.630777   \n",
       "4  0.024816  ...  -8.056653  -5.495337  -8.891809  -2.783748  -6.777088   \n",
       "\n",
       "      mfcc16     mfcc17    mfcc18    mfcc19    mfcc20  \n",
       "0 -15.687397 -12.339302  2.211766  2.147864 -5.011512  \n",
       "1   4.090439  -1.278771  9.071951 -0.169724  0.161876  \n",
       "2   2.957125  -2.243021  1.578797 -4.537785  1.052801  \n",
       "3   1.943587  -7.131413  1.516889 -0.094114 -0.776687  \n",
       "4  -3.736772 -11.871335 -0.826213 -2.934075  6.011378  \n",
       "\n",
       "[5 rows x 30 columns]"
      ]
     },
     "execution_count": 52,
     "metadata": {},
     "output_type": "execute_result"
    }
   ],
   "source": [
    "df.head()"
   ]
  },
  {
   "cell_type": "code",
   "execution_count": 53,
   "metadata": {},
   "outputs": [
    {
     "data": {
      "text/plain": [
       "(7997, 30)"
      ]
     },
     "execution_count": 53,
     "metadata": {},
     "output_type": "execute_result"
    }
   ],
   "source": [
    "df.shape"
   ]
  },
  {
   "cell_type": "code",
   "execution_count": 54,
   "metadata": {},
   "outputs": [],
   "source": [
    "genres = pd.read_csv('data/fma_metadata/genrelist.csv')"
   ]
  },
  {
   "cell_type": "code",
   "execution_count": 55,
   "metadata": {},
   "outputs": [
    {
     "data": {
      "text/html": [
       "<div>\n",
       "<style scoped>\n",
       "    .dataframe tbody tr th:only-of-type {\n",
       "        vertical-align: middle;\n",
       "    }\n",
       "\n",
       "    .dataframe tbody tr th {\n",
       "        vertical-align: top;\n",
       "    }\n",
       "\n",
       "    .dataframe thead th {\n",
       "        text-align: right;\n",
       "    }\n",
       "</style>\n",
       "<table border=\"1\" class=\"dataframe\">\n",
       "  <thead>\n",
       "    <tr style=\"text-align: right;\">\n",
       "      <th></th>\n",
       "      <th>Unnamed: 0</th>\n",
       "      <th>genre</th>\n",
       "      <th>testtrainval</th>\n",
       "    </tr>\n",
       "  </thead>\n",
       "  <tbody>\n",
       "    <tr>\n",
       "      <th>0</th>\n",
       "      <td>NaN</td>\n",
       "      <td>NaN</td>\n",
       "      <td>NaN</td>\n",
       "    </tr>\n",
       "    <tr>\n",
       "      <th>1</th>\n",
       "      <td>track_id</td>\n",
       "      <td>NaN</td>\n",
       "      <td>NaN</td>\n",
       "    </tr>\n",
       "    <tr>\n",
       "      <th>2</th>\n",
       "      <td>2</td>\n",
       "      <td>Hip-Hop</td>\n",
       "      <td>training</td>\n",
       "    </tr>\n",
       "    <tr>\n",
       "      <th>3</th>\n",
       "      <td>5</td>\n",
       "      <td>Hip-Hop</td>\n",
       "      <td>training</td>\n",
       "    </tr>\n",
       "    <tr>\n",
       "      <th>4</th>\n",
       "      <td>10</td>\n",
       "      <td>Pop</td>\n",
       "      <td>training</td>\n",
       "    </tr>\n",
       "    <tr>\n",
       "      <th>...</th>\n",
       "      <td>...</td>\n",
       "      <td>...</td>\n",
       "      <td>...</td>\n",
       "    </tr>\n",
       "    <tr>\n",
       "      <th>7997</th>\n",
       "      <td>154308</td>\n",
       "      <td>Hip-Hop</td>\n",
       "      <td>test</td>\n",
       "    </tr>\n",
       "    <tr>\n",
       "      <th>7998</th>\n",
       "      <td>154309</td>\n",
       "      <td>Hip-Hop</td>\n",
       "      <td>test</td>\n",
       "    </tr>\n",
       "    <tr>\n",
       "      <th>7999</th>\n",
       "      <td>154413</td>\n",
       "      <td>Pop</td>\n",
       "      <td>training</td>\n",
       "    </tr>\n",
       "    <tr>\n",
       "      <th>8000</th>\n",
       "      <td>154414</td>\n",
       "      <td>Pop</td>\n",
       "      <td>training</td>\n",
       "    </tr>\n",
       "    <tr>\n",
       "      <th>8001</th>\n",
       "      <td>155066</td>\n",
       "      <td>Hip-Hop</td>\n",
       "      <td>training</td>\n",
       "    </tr>\n",
       "  </tbody>\n",
       "</table>\n",
       "<p>8002 rows × 3 columns</p>\n",
       "</div>"
      ],
      "text/plain": [
       "     Unnamed: 0    genre testtrainval\n",
       "0           NaN      NaN          NaN\n",
       "1      track_id      NaN          NaN\n",
       "2             2  Hip-Hop     training\n",
       "3             5  Hip-Hop     training\n",
       "4            10      Pop     training\n",
       "...         ...      ...          ...\n",
       "7997     154308  Hip-Hop         test\n",
       "7998     154309  Hip-Hop         test\n",
       "7999     154413      Pop     training\n",
       "8000     154414      Pop     training\n",
       "8001     155066  Hip-Hop     training\n",
       "\n",
       "[8002 rows x 3 columns]"
      ]
     },
     "execution_count": 55,
     "metadata": {},
     "output_type": "execute_result"
    }
   ],
   "source": [
    "genres"
   ]
  },
  {
   "cell_type": "code",
   "execution_count": 56,
   "metadata": {},
   "outputs": [],
   "source": [
    "genres.rename({'Unnamed: 0':'track_id'},axis=1,inplace=True)"
   ]
  },
  {
   "cell_type": "code",
   "execution_count": 57,
   "metadata": {},
   "outputs": [],
   "source": [
    "genres = genres.drop(index=[0,1])"
   ]
  },
  {
   "cell_type": "code",
   "execution_count": 58,
   "metadata": {},
   "outputs": [
    {
     "data": {
      "text/html": [
       "<div>\n",
       "<style scoped>\n",
       "    .dataframe tbody tr th:only-of-type {\n",
       "        vertical-align: middle;\n",
       "    }\n",
       "\n",
       "    .dataframe tbody tr th {\n",
       "        vertical-align: top;\n",
       "    }\n",
       "\n",
       "    .dataframe thead th {\n",
       "        text-align: right;\n",
       "    }\n",
       "</style>\n",
       "<table border=\"1\" class=\"dataframe\">\n",
       "  <thead>\n",
       "    <tr style=\"text-align: right;\">\n",
       "      <th></th>\n",
       "      <th>track_id</th>\n",
       "      <th>genre</th>\n",
       "      <th>testtrainval</th>\n",
       "    </tr>\n",
       "  </thead>\n",
       "  <tbody>\n",
       "    <tr>\n",
       "      <th>2</th>\n",
       "      <td>2</td>\n",
       "      <td>Hip-Hop</td>\n",
       "      <td>training</td>\n",
       "    </tr>\n",
       "    <tr>\n",
       "      <th>3</th>\n",
       "      <td>5</td>\n",
       "      <td>Hip-Hop</td>\n",
       "      <td>training</td>\n",
       "    </tr>\n",
       "    <tr>\n",
       "      <th>4</th>\n",
       "      <td>10</td>\n",
       "      <td>Pop</td>\n",
       "      <td>training</td>\n",
       "    </tr>\n",
       "    <tr>\n",
       "      <th>5</th>\n",
       "      <td>140</td>\n",
       "      <td>Folk</td>\n",
       "      <td>training</td>\n",
       "    </tr>\n",
       "    <tr>\n",
       "      <th>6</th>\n",
       "      <td>141</td>\n",
       "      <td>Folk</td>\n",
       "      <td>training</td>\n",
       "    </tr>\n",
       "  </tbody>\n",
       "</table>\n",
       "</div>"
      ],
      "text/plain": [
       "  track_id    genre testtrainval\n",
       "2        2  Hip-Hop     training\n",
       "3        5  Hip-Hop     training\n",
       "4       10      Pop     training\n",
       "5      140     Folk     training\n",
       "6      141     Folk     training"
      ]
     },
     "execution_count": 58,
     "metadata": {},
     "output_type": "execute_result"
    }
   ],
   "source": [
    "genres.head()"
   ]
  },
  {
   "cell_type": "code",
   "execution_count": 59,
   "metadata": {},
   "outputs": [],
   "source": [
    "genres['track_id'] = genres['track_id'].astype('int64')"
   ]
  },
  {
   "cell_type": "code",
   "execution_count": 60,
   "metadata": {},
   "outputs": [],
   "source": [
    "df.rename({'filename':'track_id'},axis=1,inplace=True)"
   ]
  },
  {
   "cell_type": "code",
   "execution_count": 61,
   "metadata": {},
   "outputs": [
    {
     "data": {
      "text/plain": [
       "0       126014\n",
       "1        54496\n",
       "2        65893\n",
       "3        71158\n",
       "4        57821\n",
       "         ...  \n",
       "7992     43695\n",
       "7993     68410\n",
       "7994     51291\n",
       "7995     96902\n",
       "7996     75441\n",
       "Name: track_id, Length: 7997, dtype: int64"
      ]
     },
     "execution_count": 61,
     "metadata": {},
     "output_type": "execute_result"
    }
   ],
   "source": [
    "df['track_id']"
   ]
  },
  {
   "cell_type": "code",
   "execution_count": 62,
   "metadata": {},
   "outputs": [],
   "source": [
    "data=pd.merge(df,genres,on='track_id')"
   ]
  },
  {
   "cell_type": "code",
   "execution_count": 63,
   "metadata": {},
   "outputs": [
    {
     "data": {
      "text/plain": [
       "0        Instrumental\n",
       "1        Experimental\n",
       "2                Folk\n",
       "3             Hip-Hop\n",
       "4             Hip-Hop\n",
       "            ...      \n",
       "7992    International\n",
       "7993     Experimental\n",
       "7994              Pop\n",
       "7995     Experimental\n",
       "7996     Instrumental\n",
       "Name: genre, Length: 7997, dtype: object"
      ]
     },
     "execution_count": 63,
     "metadata": {},
     "output_type": "execute_result"
    }
   ],
   "source": [
    "data['genre']"
   ]
  },
  {
   "cell_type": "code",
   "execution_count": 64,
   "metadata": {},
   "outputs": [],
   "source": [
    "data.set_index('track_id',inplace=True)"
   ]
  },
  {
   "cell_type": "code",
   "execution_count": 65,
   "metadata": {},
   "outputs": [
    {
     "data": {
      "text/html": [
       "<div>\n",
       "<style scoped>\n",
       "    .dataframe tbody tr th:only-of-type {\n",
       "        vertical-align: middle;\n",
       "    }\n",
       "\n",
       "    .dataframe tbody tr th {\n",
       "        vertical-align: top;\n",
       "    }\n",
       "\n",
       "    .dataframe thead th {\n",
       "        text-align: right;\n",
       "    }\n",
       "</style>\n",
       "<table border=\"1\" class=\"dataframe\">\n",
       "  <thead>\n",
       "    <tr style=\"text-align: right;\">\n",
       "      <th></th>\n",
       "      <th>chroma_cqt</th>\n",
       "      <th>chroma_cens</th>\n",
       "      <th>chroma_stft</th>\n",
       "      <th>spectral_centroid</th>\n",
       "      <th>spectral_bandwidth</th>\n",
       "      <th>spectral_contrast</th>\n",
       "      <th>rolloff</th>\n",
       "      <th>zero_crossing_rate</th>\n",
       "      <th>tonnetz</th>\n",
       "      <th>mfcc1</th>\n",
       "      <th>...</th>\n",
       "      <th>mfcc13</th>\n",
       "      <th>mfcc14</th>\n",
       "      <th>mfcc15</th>\n",
       "      <th>mfcc16</th>\n",
       "      <th>mfcc17</th>\n",
       "      <th>mfcc18</th>\n",
       "      <th>mfcc19</th>\n",
       "      <th>mfcc20</th>\n",
       "      <th>genre</th>\n",
       "      <th>testtrainval</th>\n",
       "    </tr>\n",
       "    <tr>\n",
       "      <th>track_id</th>\n",
       "      <th></th>\n",
       "      <th></th>\n",
       "      <th></th>\n",
       "      <th></th>\n",
       "      <th></th>\n",
       "      <th></th>\n",
       "      <th></th>\n",
       "      <th></th>\n",
       "      <th></th>\n",
       "      <th></th>\n",
       "      <th></th>\n",
       "      <th></th>\n",
       "      <th></th>\n",
       "      <th></th>\n",
       "      <th></th>\n",
       "      <th></th>\n",
       "      <th></th>\n",
       "      <th></th>\n",
       "      <th></th>\n",
       "      <th></th>\n",
       "      <th></th>\n",
       "    </tr>\n",
       "  </thead>\n",
       "  <tbody>\n",
       "    <tr>\n",
       "      <th>126014</th>\n",
       "      <td>0.267008</td>\n",
       "      <td>0.171130</td>\n",
       "      <td>0.237383</td>\n",
       "      <td>699.229710</td>\n",
       "      <td>785.999971</td>\n",
       "      <td>25.676751</td>\n",
       "      <td>1183.751175</td>\n",
       "      <td>0.041712</td>\n",
       "      <td>0.092841</td>\n",
       "      <td>-352.161438</td>\n",
       "      <td>...</td>\n",
       "      <td>-12.659972</td>\n",
       "      <td>-13.275584</td>\n",
       "      <td>-12.988043</td>\n",
       "      <td>-15.687397</td>\n",
       "      <td>-12.339302</td>\n",
       "      <td>2.211766</td>\n",
       "      <td>2.147864</td>\n",
       "      <td>-5.011512</td>\n",
       "      <td>Instrumental</td>\n",
       "      <td>training</td>\n",
       "    </tr>\n",
       "    <tr>\n",
       "      <th>54496</th>\n",
       "      <td>0.274600</td>\n",
       "      <td>0.207362</td>\n",
       "      <td>0.277710</td>\n",
       "      <td>1833.074733</td>\n",
       "      <td>2091.124342</td>\n",
       "      <td>25.274995</td>\n",
       "      <td>3818.560243</td>\n",
       "      <td>0.093890</td>\n",
       "      <td>0.044640</td>\n",
       "      <td>-290.169464</td>\n",
       "      <td>...</td>\n",
       "      <td>-6.247772</td>\n",
       "      <td>3.441898</td>\n",
       "      <td>-0.244973</td>\n",
       "      <td>4.090439</td>\n",
       "      <td>-1.278771</td>\n",
       "      <td>9.071951</td>\n",
       "      <td>-0.169724</td>\n",
       "      <td>0.161876</td>\n",
       "      <td>Experimental</td>\n",
       "      <td>training</td>\n",
       "    </tr>\n",
       "    <tr>\n",
       "      <th>65893</th>\n",
       "      <td>0.458305</td>\n",
       "      <td>0.253559</td>\n",
       "      <td>0.412075</td>\n",
       "      <td>2767.487106</td>\n",
       "      <td>2741.112704</td>\n",
       "      <td>20.450162</td>\n",
       "      <td>5889.689386</td>\n",
       "      <td>0.111506</td>\n",
       "      <td>0.013648</td>\n",
       "      <td>-80.027184</td>\n",
       "      <td>...</td>\n",
       "      <td>-2.908488</td>\n",
       "      <td>3.085722</td>\n",
       "      <td>-3.682684</td>\n",
       "      <td>2.957125</td>\n",
       "      <td>-2.243021</td>\n",
       "      <td>1.578797</td>\n",
       "      <td>-4.537785</td>\n",
       "      <td>1.052801</td>\n",
       "      <td>Folk</td>\n",
       "      <td>training</td>\n",
       "    </tr>\n",
       "    <tr>\n",
       "      <th>71158</th>\n",
       "      <td>0.531325</td>\n",
       "      <td>0.258276</td>\n",
       "      <td>0.424391</td>\n",
       "      <td>1444.225428</td>\n",
       "      <td>2060.084462</td>\n",
       "      <td>19.861984</td>\n",
       "      <td>3089.631317</td>\n",
       "      <td>0.046734</td>\n",
       "      <td>0.000029</td>\n",
       "      <td>-123.564980</td>\n",
       "      <td>...</td>\n",
       "      <td>-1.089045</td>\n",
       "      <td>2.822888</td>\n",
       "      <td>-2.630777</td>\n",
       "      <td>1.943587</td>\n",
       "      <td>-7.131413</td>\n",
       "      <td>1.516889</td>\n",
       "      <td>-0.094114</td>\n",
       "      <td>-0.776687</td>\n",
       "      <td>Hip-Hop</td>\n",
       "      <td>training</td>\n",
       "    </tr>\n",
       "    <tr>\n",
       "      <th>57821</th>\n",
       "      <td>0.412456</td>\n",
       "      <td>0.239312</td>\n",
       "      <td>0.335196</td>\n",
       "      <td>2253.305912</td>\n",
       "      <td>2412.719760</td>\n",
       "      <td>22.327731</td>\n",
       "      <td>4858.028957</td>\n",
       "      <td>0.099870</td>\n",
       "      <td>0.024816</td>\n",
       "      <td>-71.340874</td>\n",
       "      <td>...</td>\n",
       "      <td>-8.891809</td>\n",
       "      <td>-2.783748</td>\n",
       "      <td>-6.777088</td>\n",
       "      <td>-3.736772</td>\n",
       "      <td>-11.871335</td>\n",
       "      <td>-0.826213</td>\n",
       "      <td>-2.934075</td>\n",
       "      <td>6.011378</td>\n",
       "      <td>Hip-Hop</td>\n",
       "      <td>training</td>\n",
       "    </tr>\n",
       "  </tbody>\n",
       "</table>\n",
       "<p>5 rows × 31 columns</p>\n",
       "</div>"
      ],
      "text/plain": [
       "          chroma_cqt  chroma_cens  chroma_stft  spectral_centroid  \\\n",
       "track_id                                                            \n",
       "126014      0.267008     0.171130     0.237383         699.229710   \n",
       "54496       0.274600     0.207362     0.277710        1833.074733   \n",
       "65893       0.458305     0.253559     0.412075        2767.487106   \n",
       "71158       0.531325     0.258276     0.424391        1444.225428   \n",
       "57821       0.412456     0.239312     0.335196        2253.305912   \n",
       "\n",
       "          spectral_bandwidth  spectral_contrast      rolloff  \\\n",
       "track_id                                                       \n",
       "126014            785.999971          25.676751  1183.751175   \n",
       "54496            2091.124342          25.274995  3818.560243   \n",
       "65893            2741.112704          20.450162  5889.689386   \n",
       "71158            2060.084462          19.861984  3089.631317   \n",
       "57821            2412.719760          22.327731  4858.028957   \n",
       "\n",
       "          zero_crossing_rate   tonnetz       mfcc1  ...     mfcc13     mfcc14  \\\n",
       "track_id                                            ...                         \n",
       "126014              0.041712  0.092841 -352.161438  ... -12.659972 -13.275584   \n",
       "54496               0.093890  0.044640 -290.169464  ...  -6.247772   3.441898   \n",
       "65893               0.111506  0.013648  -80.027184  ...  -2.908488   3.085722   \n",
       "71158               0.046734  0.000029 -123.564980  ...  -1.089045   2.822888   \n",
       "57821               0.099870  0.024816  -71.340874  ...  -8.891809  -2.783748   \n",
       "\n",
       "             mfcc15     mfcc16     mfcc17    mfcc18    mfcc19    mfcc20  \\\n",
       "track_id                                                                  \n",
       "126014   -12.988043 -15.687397 -12.339302  2.211766  2.147864 -5.011512   \n",
       "54496     -0.244973   4.090439  -1.278771  9.071951 -0.169724  0.161876   \n",
       "65893     -3.682684   2.957125  -2.243021  1.578797 -4.537785  1.052801   \n",
       "71158     -2.630777   1.943587  -7.131413  1.516889 -0.094114 -0.776687   \n",
       "57821     -6.777088  -3.736772 -11.871335 -0.826213 -2.934075  6.011378   \n",
       "\n",
       "                 genre  testtrainval  \n",
       "track_id                              \n",
       "126014    Instrumental      training  \n",
       "54496     Experimental      training  \n",
       "65893             Folk      training  \n",
       "71158          Hip-Hop      training  \n",
       "57821          Hip-Hop      training  \n",
       "\n",
       "[5 rows x 31 columns]"
      ]
     },
     "execution_count": 65,
     "metadata": {},
     "output_type": "execute_result"
    }
   ],
   "source": [
    "data.head()"
   ]
  },
  {
   "cell_type": "code",
   "execution_count": 66,
   "metadata": {},
   "outputs": [
    {
     "data": {
      "text/plain": [
       "training      6397\n",
       "validation     800\n",
       "test           800\n",
       "Name: testtrainval, dtype: int64"
      ]
     },
     "execution_count": 66,
     "metadata": {},
     "output_type": "execute_result"
    }
   ],
   "source": [
    "data['testtrainval'].value_counts()"
   ]
  },
  {
   "cell_type": "code",
   "execution_count": 67,
   "metadata": {},
   "outputs": [],
   "source": [
    "y = data[['genre','testtrainval']]"
   ]
  },
  {
   "cell_type": "code",
   "execution_count": 68,
   "metadata": {},
   "outputs": [],
   "source": [
    "y.drop('testtrainval',axis=1,inplace=True)"
   ]
  },
  {
   "cell_type": "code",
   "execution_count": 69,
   "metadata": {},
   "outputs": [],
   "source": [
    "X = data.drop(['genre','testtrainval'],axis=1)"
   ]
  },
  {
   "cell_type": "code",
   "execution_count": 70,
   "metadata": {},
   "outputs": [],
   "source": [
    "X_train, X_test, y_train , y_test = train_test_split(X,y,stratify=y,test_size=0.15)"
   ]
  },
  {
   "cell_type": "code",
   "execution_count": 71,
   "metadata": {},
   "outputs": [
    {
     "data": {
      "text/plain": [
       "((6797, 29), (1200, 29))"
      ]
     },
     "execution_count": 71,
     "metadata": {},
     "output_type": "execute_result"
    }
   ],
   "source": [
    "X_train.shape,X_test.shape"
   ]
  },
  {
   "cell_type": "code",
   "execution_count": 72,
   "metadata": {},
   "outputs": [
    {
     "data": {
      "text/html": [
       "<div>\n",
       "<style scoped>\n",
       "    .dataframe tbody tr th:only-of-type {\n",
       "        vertical-align: middle;\n",
       "    }\n",
       "\n",
       "    .dataframe tbody tr th {\n",
       "        vertical-align: top;\n",
       "    }\n",
       "\n",
       "    .dataframe thead th {\n",
       "        text-align: right;\n",
       "    }\n",
       "</style>\n",
       "<table border=\"1\" class=\"dataframe\">\n",
       "  <thead>\n",
       "    <tr style=\"text-align: right;\">\n",
       "      <th></th>\n",
       "      <th>chroma_cqt</th>\n",
       "      <th>chroma_cens</th>\n",
       "      <th>chroma_stft</th>\n",
       "      <th>spectral_centroid</th>\n",
       "      <th>spectral_bandwidth</th>\n",
       "      <th>spectral_contrast</th>\n",
       "      <th>rolloff</th>\n",
       "      <th>zero_crossing_rate</th>\n",
       "      <th>tonnetz</th>\n",
       "      <th>mfcc1</th>\n",
       "      <th>...</th>\n",
       "      <th>mfcc11</th>\n",
       "      <th>mfcc12</th>\n",
       "      <th>mfcc13</th>\n",
       "      <th>mfcc14</th>\n",
       "      <th>mfcc15</th>\n",
       "      <th>mfcc16</th>\n",
       "      <th>mfcc17</th>\n",
       "      <th>mfcc18</th>\n",
       "      <th>mfcc19</th>\n",
       "      <th>mfcc20</th>\n",
       "    </tr>\n",
       "    <tr>\n",
       "      <th>track_id</th>\n",
       "      <th></th>\n",
       "      <th></th>\n",
       "      <th></th>\n",
       "      <th></th>\n",
       "      <th></th>\n",
       "      <th></th>\n",
       "      <th></th>\n",
       "      <th></th>\n",
       "      <th></th>\n",
       "      <th></th>\n",
       "      <th></th>\n",
       "      <th></th>\n",
       "      <th></th>\n",
       "      <th></th>\n",
       "      <th></th>\n",
       "      <th></th>\n",
       "      <th></th>\n",
       "      <th></th>\n",
       "      <th></th>\n",
       "      <th></th>\n",
       "      <th></th>\n",
       "    </tr>\n",
       "  </thead>\n",
       "  <tbody>\n",
       "    <tr>\n",
       "      <th>134586</th>\n",
       "      <td>0.279802</td>\n",
       "      <td>0.174576</td>\n",
       "      <td>0.219053</td>\n",
       "      <td>711.612335</td>\n",
       "      <td>791.486536</td>\n",
       "      <td>23.956059</td>\n",
       "      <td>1079.110141</td>\n",
       "      <td>0.042508</td>\n",
       "      <td>0.062160</td>\n",
       "      <td>-265.221985</td>\n",
       "      <td>...</td>\n",
       "      <td>-31.777815</td>\n",
       "      <td>-28.431187</td>\n",
       "      <td>-14.370870</td>\n",
       "      <td>0.836271</td>\n",
       "      <td>2.875372</td>\n",
       "      <td>1.080896</td>\n",
       "      <td>3.977772</td>\n",
       "      <td>-0.804846</td>\n",
       "      <td>-8.402043</td>\n",
       "      <td>-1.118009</td>\n",
       "    </tr>\n",
       "    <tr>\n",
       "      <th>45516</th>\n",
       "      <td>0.477362</td>\n",
       "      <td>0.242334</td>\n",
       "      <td>0.373809</td>\n",
       "      <td>2223.311713</td>\n",
       "      <td>2807.772344</td>\n",
       "      <td>22.889447</td>\n",
       "      <td>5472.575241</td>\n",
       "      <td>0.100494</td>\n",
       "      <td>0.016019</td>\n",
       "      <td>-149.956024</td>\n",
       "      <td>...</td>\n",
       "      <td>-15.779222</td>\n",
       "      <td>-2.650319</td>\n",
       "      <td>-16.850363</td>\n",
       "      <td>2.082205</td>\n",
       "      <td>-15.376483</td>\n",
       "      <td>0.549566</td>\n",
       "      <td>-14.019407</td>\n",
       "      <td>-0.612120</td>\n",
       "      <td>-13.714358</td>\n",
       "      <td>0.204706</td>\n",
       "    </tr>\n",
       "    <tr>\n",
       "      <th>11268</th>\n",
       "      <td>0.573520</td>\n",
       "      <td>0.267717</td>\n",
       "      <td>0.323504</td>\n",
       "      <td>2549.524378</td>\n",
       "      <td>2440.293622</td>\n",
       "      <td>20.126391</td>\n",
       "      <td>5139.960586</td>\n",
       "      <td>0.125582</td>\n",
       "      <td>-0.001616</td>\n",
       "      <td>-102.165115</td>\n",
       "      <td>...</td>\n",
       "      <td>-1.847047</td>\n",
       "      <td>-0.525816</td>\n",
       "      <td>-1.025268</td>\n",
       "      <td>8.194746</td>\n",
       "      <td>-3.367933</td>\n",
       "      <td>-2.454880</td>\n",
       "      <td>-1.489127</td>\n",
       "      <td>6.383095</td>\n",
       "      <td>-2.280081</td>\n",
       "      <td>-2.442429</td>\n",
       "    </tr>\n",
       "    <tr>\n",
       "      <th>74376</th>\n",
       "      <td>0.293708</td>\n",
       "      <td>0.192713</td>\n",
       "      <td>0.265614</td>\n",
       "      <td>1519.317371</td>\n",
       "      <td>1961.931147</td>\n",
       "      <td>24.684805</td>\n",
       "      <td>2827.999566</td>\n",
       "      <td>0.064981</td>\n",
       "      <td>0.081155</td>\n",
       "      <td>-192.114380</td>\n",
       "      <td>...</td>\n",
       "      <td>-19.275587</td>\n",
       "      <td>-5.527548</td>\n",
       "      <td>-15.367741</td>\n",
       "      <td>-0.516155</td>\n",
       "      <td>-12.131804</td>\n",
       "      <td>1.925415</td>\n",
       "      <td>-2.049032</td>\n",
       "      <td>0.596097</td>\n",
       "      <td>-9.524216</td>\n",
       "      <td>0.308405</td>\n",
       "    </tr>\n",
       "    <tr>\n",
       "      <th>10485</th>\n",
       "      <td>0.342175</td>\n",
       "      <td>0.210889</td>\n",
       "      <td>0.353428</td>\n",
       "      <td>1887.438042</td>\n",
       "      <td>1798.760659</td>\n",
       "      <td>23.088791</td>\n",
       "      <td>3511.087102</td>\n",
       "      <td>0.114982</td>\n",
       "      <td>0.114209</td>\n",
       "      <td>-47.722286</td>\n",
       "      <td>...</td>\n",
       "      <td>-11.142817</td>\n",
       "      <td>4.868912</td>\n",
       "      <td>-9.212234</td>\n",
       "      <td>0.176968</td>\n",
       "      <td>-6.321789</td>\n",
       "      <td>3.152178</td>\n",
       "      <td>-2.849862</td>\n",
       "      <td>0.250349</td>\n",
       "      <td>-1.814833</td>\n",
       "      <td>6.190097</td>\n",
       "    </tr>\n",
       "    <tr>\n",
       "      <th>...</th>\n",
       "      <td>...</td>\n",
       "      <td>...</td>\n",
       "      <td>...</td>\n",
       "      <td>...</td>\n",
       "      <td>...</td>\n",
       "      <td>...</td>\n",
       "      <td>...</td>\n",
       "      <td>...</td>\n",
       "      <td>...</td>\n",
       "      <td>...</td>\n",
       "      <td>...</td>\n",
       "      <td>...</td>\n",
       "      <td>...</td>\n",
       "      <td>...</td>\n",
       "      <td>...</td>\n",
       "      <td>...</td>\n",
       "      <td>...</td>\n",
       "      <td>...</td>\n",
       "      <td>...</td>\n",
       "      <td>...</td>\n",
       "      <td>...</td>\n",
       "    </tr>\n",
       "    <tr>\n",
       "      <th>9721</th>\n",
       "      <td>0.651030</td>\n",
       "      <td>0.280872</td>\n",
       "      <td>0.594901</td>\n",
       "      <td>3462.814895</td>\n",
       "      <td>3001.608354</td>\n",
       "      <td>16.892738</td>\n",
       "      <td>7394.130289</td>\n",
       "      <td>0.220129</td>\n",
       "      <td>0.009573</td>\n",
       "      <td>151.637939</td>\n",
       "      <td>...</td>\n",
       "      <td>-0.625359</td>\n",
       "      <td>7.165051</td>\n",
       "      <td>-0.883904</td>\n",
       "      <td>5.781523</td>\n",
       "      <td>-5.066007</td>\n",
       "      <td>-0.335541</td>\n",
       "      <td>-4.615020</td>\n",
       "      <td>3.041496</td>\n",
       "      <td>-2.312097</td>\n",
       "      <td>2.986805</td>\n",
       "    </tr>\n",
       "    <tr>\n",
       "      <th>111335</th>\n",
       "      <td>0.492070</td>\n",
       "      <td>0.260241</td>\n",
       "      <td>0.482968</td>\n",
       "      <td>2253.127572</td>\n",
       "      <td>2381.882074</td>\n",
       "      <td>19.343523</td>\n",
       "      <td>4716.129816</td>\n",
       "      <td>0.102382</td>\n",
       "      <td>0.029615</td>\n",
       "      <td>-4.581572</td>\n",
       "      <td>...</td>\n",
       "      <td>-10.746713</td>\n",
       "      <td>4.242385</td>\n",
       "      <td>-4.828452</td>\n",
       "      <td>0.010337</td>\n",
       "      <td>-8.050809</td>\n",
       "      <td>-6.034163</td>\n",
       "      <td>-6.484439</td>\n",
       "      <td>1.615790</td>\n",
       "      <td>-4.528823</td>\n",
       "      <td>2.320088</td>\n",
       "    </tr>\n",
       "    <tr>\n",
       "      <th>107388</th>\n",
       "      <td>0.297959</td>\n",
       "      <td>0.210212</td>\n",
       "      <td>0.333333</td>\n",
       "      <td>2112.496666</td>\n",
       "      <td>2128.618986</td>\n",
       "      <td>23.013093</td>\n",
       "      <td>4101.141868</td>\n",
       "      <td>0.104937</td>\n",
       "      <td>0.116035</td>\n",
       "      <td>-55.743534</td>\n",
       "      <td>...</td>\n",
       "      <td>-7.271213</td>\n",
       "      <td>0.162537</td>\n",
       "      <td>-6.247407</td>\n",
       "      <td>-8.029799</td>\n",
       "      <td>-10.766673</td>\n",
       "      <td>-2.460017</td>\n",
       "      <td>-10.205006</td>\n",
       "      <td>-6.645385</td>\n",
       "      <td>-3.391064</td>\n",
       "      <td>1.799339</td>\n",
       "    </tr>\n",
       "    <tr>\n",
       "      <th>145708</th>\n",
       "      <td>0.528693</td>\n",
       "      <td>0.263136</td>\n",
       "      <td>0.520930</td>\n",
       "      <td>1799.720047</td>\n",
       "      <td>2043.824675</td>\n",
       "      <td>20.617905</td>\n",
       "      <td>3818.685242</td>\n",
       "      <td>0.059865</td>\n",
       "      <td>0.004343</td>\n",
       "      <td>-111.769951</td>\n",
       "      <td>...</td>\n",
       "      <td>-2.959190</td>\n",
       "      <td>7.186153</td>\n",
       "      <td>4.720315</td>\n",
       "      <td>6.037533</td>\n",
       "      <td>-0.826612</td>\n",
       "      <td>5.747079</td>\n",
       "      <td>1.030119</td>\n",
       "      <td>6.657252</td>\n",
       "      <td>1.021465</td>\n",
       "      <td>3.754922</td>\n",
       "    </tr>\n",
       "    <tr>\n",
       "      <th>11262</th>\n",
       "      <td>0.448681</td>\n",
       "      <td>0.241780</td>\n",
       "      <td>0.370607</td>\n",
       "      <td>1937.110536</td>\n",
       "      <td>2212.048524</td>\n",
       "      <td>22.504021</td>\n",
       "      <td>4088.150280</td>\n",
       "      <td>0.076099</td>\n",
       "      <td>0.034124</td>\n",
       "      <td>-113.764244</td>\n",
       "      <td>...</td>\n",
       "      <td>-5.911473</td>\n",
       "      <td>-0.052089</td>\n",
       "      <td>-2.368005</td>\n",
       "      <td>4.753530</td>\n",
       "      <td>3.684241</td>\n",
       "      <td>7.882014</td>\n",
       "      <td>2.711248</td>\n",
       "      <td>-0.018570</td>\n",
       "      <td>-0.189345</td>\n",
       "      <td>6.471203</td>\n",
       "    </tr>\n",
       "  </tbody>\n",
       "</table>\n",
       "<p>6797 rows × 29 columns</p>\n",
       "</div>"
      ],
      "text/plain": [
       "          chroma_cqt  chroma_cens  chroma_stft  spectral_centroid  \\\n",
       "track_id                                                            \n",
       "134586      0.279802     0.174576     0.219053         711.612335   \n",
       "45516       0.477362     0.242334     0.373809        2223.311713   \n",
       "11268       0.573520     0.267717     0.323504        2549.524378   \n",
       "74376       0.293708     0.192713     0.265614        1519.317371   \n",
       "10485       0.342175     0.210889     0.353428        1887.438042   \n",
       "...              ...          ...          ...                ...   \n",
       "9721        0.651030     0.280872     0.594901        3462.814895   \n",
       "111335      0.492070     0.260241     0.482968        2253.127572   \n",
       "107388      0.297959     0.210212     0.333333        2112.496666   \n",
       "145708      0.528693     0.263136     0.520930        1799.720047   \n",
       "11262       0.448681     0.241780     0.370607        1937.110536   \n",
       "\n",
       "          spectral_bandwidth  spectral_contrast      rolloff  \\\n",
       "track_id                                                       \n",
       "134586            791.486536          23.956059  1079.110141   \n",
       "45516            2807.772344          22.889447  5472.575241   \n",
       "11268            2440.293622          20.126391  5139.960586   \n",
       "74376            1961.931147          24.684805  2827.999566   \n",
       "10485            1798.760659          23.088791  3511.087102   \n",
       "...                      ...                ...          ...   \n",
       "9721             3001.608354          16.892738  7394.130289   \n",
       "111335           2381.882074          19.343523  4716.129816   \n",
       "107388           2128.618986          23.013093  4101.141868   \n",
       "145708           2043.824675          20.617905  3818.685242   \n",
       "11262            2212.048524          22.504021  4088.150280   \n",
       "\n",
       "          zero_crossing_rate   tonnetz       mfcc1  ...     mfcc11     mfcc12  \\\n",
       "track_id                                            ...                         \n",
       "134586              0.042508  0.062160 -265.221985  ... -31.777815 -28.431187   \n",
       "45516               0.100494  0.016019 -149.956024  ... -15.779222  -2.650319   \n",
       "11268               0.125582 -0.001616 -102.165115  ...  -1.847047  -0.525816   \n",
       "74376               0.064981  0.081155 -192.114380  ... -19.275587  -5.527548   \n",
       "10485               0.114982  0.114209  -47.722286  ... -11.142817   4.868912   \n",
       "...                      ...       ...         ...  ...        ...        ...   \n",
       "9721                0.220129  0.009573  151.637939  ...  -0.625359   7.165051   \n",
       "111335              0.102382  0.029615   -4.581572  ... -10.746713   4.242385   \n",
       "107388              0.104937  0.116035  -55.743534  ...  -7.271213   0.162537   \n",
       "145708              0.059865  0.004343 -111.769951  ...  -2.959190   7.186153   \n",
       "11262               0.076099  0.034124 -113.764244  ...  -5.911473  -0.052089   \n",
       "\n",
       "             mfcc13    mfcc14     mfcc15    mfcc16     mfcc17    mfcc18  \\\n",
       "track_id                                                                  \n",
       "134586   -14.370870  0.836271   2.875372  1.080896   3.977772 -0.804846   \n",
       "45516    -16.850363  2.082205 -15.376483  0.549566 -14.019407 -0.612120   \n",
       "11268     -1.025268  8.194746  -3.367933 -2.454880  -1.489127  6.383095   \n",
       "74376    -15.367741 -0.516155 -12.131804  1.925415  -2.049032  0.596097   \n",
       "10485     -9.212234  0.176968  -6.321789  3.152178  -2.849862  0.250349   \n",
       "...             ...       ...        ...       ...        ...       ...   \n",
       "9721      -0.883904  5.781523  -5.066007 -0.335541  -4.615020  3.041496   \n",
       "111335    -4.828452  0.010337  -8.050809 -6.034163  -6.484439  1.615790   \n",
       "107388    -6.247407 -8.029799 -10.766673 -2.460017 -10.205006 -6.645385   \n",
       "145708     4.720315  6.037533  -0.826612  5.747079   1.030119  6.657252   \n",
       "11262     -2.368005  4.753530   3.684241  7.882014   2.711248 -0.018570   \n",
       "\n",
       "             mfcc19    mfcc20  \n",
       "track_id                       \n",
       "134586    -8.402043 -1.118009  \n",
       "45516    -13.714358  0.204706  \n",
       "11268     -2.280081 -2.442429  \n",
       "74376     -9.524216  0.308405  \n",
       "10485     -1.814833  6.190097  \n",
       "...             ...       ...  \n",
       "9721      -2.312097  2.986805  \n",
       "111335    -4.528823  2.320088  \n",
       "107388    -3.391064  1.799339  \n",
       "145708     1.021465  3.754922  \n",
       "11262     -0.189345  6.471203  \n",
       "\n",
       "[6797 rows x 29 columns]"
      ]
     },
     "execution_count": 72,
     "metadata": {},
     "output_type": "execute_result"
    }
   ],
   "source": [
    "X_train"
   ]
  },
  {
   "cell_type": "code",
   "execution_count": 73,
   "metadata": {},
   "outputs": [
    {
     "data": {
      "text/plain": [
       "0.18758793184305142"
      ]
     },
     "execution_count": 73,
     "metadata": {},
     "output_type": "execute_result"
    }
   ],
   "source": [
    "1200/6397"
   ]
  },
  {
   "cell_type": "code",
   "execution_count": 74,
   "metadata": {},
   "outputs": [],
   "source": [
    "encoder = LabelEncoder()"
   ]
  },
  {
   "cell_type": "code",
   "execution_count": 75,
   "metadata": {},
   "outputs": [],
   "source": [
    "y_train = encoder.fit_transform(y_train)\n",
    "y_test = encoder.transform(y_test)\n"
   ]
  },
  {
   "cell_type": "code",
   "execution_count": 76,
   "metadata": {},
   "outputs": [
    {
     "data": {
      "text/plain": [
       "RandomForestClassifier(criterion='entropy', n_estimators=10, random_state=42)"
      ]
     },
     "execution_count": 76,
     "metadata": {},
     "output_type": "execute_result"
    }
   ],
   "source": [
    "classifier = RandomForestClassifier(n_estimators = 10, criterion = 'entropy', random_state = 42)\n",
    "classifier.fit(X_train, y_train)"
   ]
  },
  {
   "cell_type": "code",
   "execution_count": 77,
   "metadata": {},
   "outputs": [
    {
     "data": {
      "text/plain": [
       "0.9879358540532588"
      ]
     },
     "execution_count": 77,
     "metadata": {},
     "output_type": "execute_result"
    }
   ],
   "source": [
    "classifier.score(X_train,y_train)"
   ]
  },
  {
   "cell_type": "code",
   "execution_count": 78,
   "metadata": {},
   "outputs": [
    {
     "data": {
      "text/plain": [
       "0.425"
      ]
     },
     "execution_count": 78,
     "metadata": {},
     "output_type": "execute_result"
    }
   ],
   "source": [
    "classifier.score(X_test,y_test)"
   ]
  },
  {
   "cell_type": "code",
   "execution_count": 79,
   "metadata": {},
   "outputs": [],
   "source": [
    "rf_pipeline = Pipeline([('ss', StandardScaler()),('RF',RandomForestClassifier())])"
   ]
  },
  {
   "cell_type": "code",
   "execution_count": 80,
   "metadata": {},
   "outputs": [
    {
     "data": {
      "text/plain": [
       "Pipeline(steps=[('ss', StandardScaler()), ('RF', RandomForestClassifier())])"
      ]
     },
     "execution_count": 80,
     "metadata": {},
     "output_type": "execute_result"
    }
   ],
   "source": [
    "rf_pipeline.fit(X_train,y_train)"
   ]
  },
  {
   "cell_type": "code",
   "execution_count": 83,
   "metadata": {},
   "outputs": [
    {
     "data": {
      "text/plain": [
       "0.9998528762689421"
      ]
     },
     "execution_count": 83,
     "metadata": {},
     "output_type": "execute_result"
    }
   ],
   "source": [
    "rf_pipeline.score(X_train,y_train)"
   ]
  },
  {
   "cell_type": "code",
   "execution_count": 51,
   "metadata": {},
   "outputs": [],
   "source": [
    "params = [{'RF__max_depth': [4, 5, 6], 'RF__criterion':['gini','entropy'],\n",
    "           'RF__max_features' :['auto', 'sqrt'],\n",
    "         'RF__min_samples_split': [2, 5, 10], \n",
    "           'RF__n_estimators':[5,10,50,100,250,500],\n",
    "         'RF__min_samples_leaf': [1, 2, 4]}]"
   ]
  },
  {
   "cell_type": "code",
   "execution_count": 52,
   "metadata": {},
   "outputs": [],
   "source": [
    "rf_cv = GridSearchCV(estimator=rf_pipeline,param_grid=params,cv=5)"
   ]
  },
  {
   "cell_type": "code",
   "execution_count": 53,
   "metadata": {},
   "outputs": [
    {
     "data": {
      "text/plain": [
       "GridSearchCV(cv=5,\n",
       "             estimator=Pipeline(steps=[('ss', StandardScaler()),\n",
       "                                       ('RF', RandomForestClassifier())]),\n",
       "             param_grid=[{'RF__criterion': ['gini', 'entropy'],\n",
       "                          'RF__max_depth': [4, 5, 6],\n",
       "                          'RF__max_features': ['auto', 'sqrt'],\n",
       "                          'RF__min_samples_leaf': [1, 2, 4],\n",
       "                          'RF__min_samples_split': [2, 5, 10],\n",
       "                          'RF__n_estimators': [5, 10, 50, 100, 250, 500]}])"
      ]
     },
     "execution_count": 53,
     "metadata": {},
     "output_type": "execute_result"
    }
   ],
   "source": [
    "rf_cv.fit(X_train,y_train)"
   ]
  },
  {
   "cell_type": "code",
   "execution_count": 54,
   "metadata": {},
   "outputs": [
    {
     "data": {
      "text/plain": [
       "{'RF__criterion': 'gini',\n",
       " 'RF__max_depth': 6,\n",
       " 'RF__max_features': 'auto',\n",
       " 'RF__min_samples_leaf': 4,\n",
       " 'RF__min_samples_split': 5,\n",
       " 'RF__n_estimators': 250}"
      ]
     },
     "execution_count": 54,
     "metadata": {},
     "output_type": "execute_result"
    }
   ],
   "source": [
    "rf_best = rf_cv.best_estimator_\n",
    "rf_cv.best_params_"
   ]
  },
  {
   "cell_type": "code",
   "execution_count": 55,
   "metadata": {},
   "outputs": [
    {
     "data": {
      "text/plain": [
       "(0.5099587295890903, 0.3975)"
      ]
     },
     "execution_count": 55,
     "metadata": {},
     "output_type": "execute_result"
    }
   ],
   "source": [
    "rf_best.score(X_train,y_train),rf_best.score(X_test,y_test)"
   ]
  },
  {
   "cell_type": "code",
   "execution_count": 56,
   "metadata": {},
   "outputs": [
    {
     "data": {
      "text/plain": [
       "0.41748366013071897"
      ]
     },
     "execution_count": 56,
     "metadata": {},
     "output_type": "execute_result"
    }
   ],
   "source": [
    "rf_best.score(X_val,y_val)"
   ]
  },
  {
   "cell_type": "code",
   "execution_count": 33,
   "metadata": {},
   "outputs": [],
   "source": [
    "import xgboost as xgb\n"
   ]
  },
  {
   "cell_type": "code",
   "execution_count": 37,
   "metadata": {},
   "outputs": [],
   "source": [
    "import numpy as np\n",
    "import pandas as pd\n",
    "import seaborn as sns\n",
    "import matplotlib.pyplot as plt\n",
    "\n",
    "import xgboost as xgb\n",
    "\n",
    "from sklearn.preprocessing import StandardScaler\n",
    "from sklearn.neighbors import KNeighborsClassifier\n",
    "from sklearn.model_selection import train_test_split, GridSearchCV\n",
    "from sklearn.ensemble import RandomForestClassifier\n",
    "from sklearn.pipeline import Pipeline\n",
    "from sklearn.metrics import confusion_matrix,accuracy_score,precision_score,recall_score,f1_score\n",
    "\n",
    "from sklearn.metrics import make_scorer\n",
    "from sklearn.linear_model import LogisticRegression \n",
    "\n",
    "\n",
    "def plot_confusion_matrix(y_test,y_test_preds,data='test'):\n",
    "    cm_test = confusion_matrix(y_test,y_test_preds)\n",
    "    print(f\"{cm_test[1][0]/cm_test.sum()*100} of False Negatives\")\n",
    "    sns.heatmap(cm_test,cmap=sns.color_palette('Blues'),fmt ='.1f',annot=True)\n",
    "    plt.ylim([2,0])\n",
    "    plt.title(f\"Confusion Matrix\\n{data} Data\")\n",
    "    plt.xlabel(\"Predicted\")\n",
    "    plt.ylabel(\"Actual\")\n",
    "    plt.show()\n",
    "    \n",
    "    \n",
    "def print_metrics(labels, preds):\n",
    "    print(\"Precision Score: {}\".format(precision_score(labels, preds)))\n",
    "    print(\"Recall Score: {}\".format(recall_score(labels, preds)))\n",
    "    print(\"Accuracy Score: {}\".format(accuracy_score(labels, preds)))\n",
    "    print(\"F1 Score: {}\".format(f1_score(labels, preds)))\n",
    "    \n",
    "\n",
    "def plot_feature_importances(model):\n",
    "    n_features = X_train.shape[1]\n",
    "    plt.figure(figsize=(8,8))\n",
    "    plt.barh(range(n_features), model.feature_importances_, align='center') \n",
    "    plt.yticks(np.arange(n_features), X_train.columns.values) \n",
    "    plt.xlabel('Feature importance')\n",
    "    plt.ylabel('Feature')\n",
    "\n"
   ]
  },
  {
   "cell_type": "code",
   "execution_count": 35,
   "metadata": {},
   "outputs": [],
   "source": [
    "\n",
    "def plot_cm(y_true, y_pred, figsize=(10,10)):\n",
    "    cm = confusion_matrix(y_true, y_pred, labels=np.unique(y_train).astype(int))\n",
    "    cm_sum = np.sum(cm, axis=1, keepdims=True)\n",
    "    cm_perc = cm / cm_sum.astype(float) * 100\n",
    "    annot = np.empty_like(cm).astype(str)\n",
    "    nrows, ncols = cm.shape\n",
    "    for i in range(nrows):\n",
    "        for j in range(ncols):\n",
    "            c = cm[i, j]\n",
    "            p = cm_perc[i, j]\n",
    "            if i == j:\n",
    "                s = cm_sum[i]\n",
    "                annot[i, j] = f'{p:.1f}'#'%.1f%%\\n%d/%d' % (p, c, s)\n",
    "            elif p < 10.:\n",
    "                annot[i, j] = ''\n",
    "            else:\n",
    "                annot[i, j] = f'{p:.1f}'#'%.1f%%\\n%d' % (p, c)\n",
    "    cm = pd.DataFrame(cm, index=np.unique(y_train).astype(int), columns=np.unique(y_train))\n",
    "    cm.index.name = 'Actual'\n",
    "    cm.columns.name = 'Predicted'\n",
    "    fig, ax = plt.subplots(figsize=figsize)\n",
    "    sns.heatmap(cm, cmap= \"Blues\", annot=annot, fmt='', ax=ax)\n",
    "    plt.ylim([8,0])\n",
    "\n"
   ]
  },
  {
   "cell_type": "code",
   "execution_count": 36,
   "metadata": {},
   "outputs": [
    {
     "ename": "NameError",
     "evalue": "name 'xgb_best' is not defined",
     "output_type": "error",
     "traceback": [
      "\u001b[0;31m---------------------------------------------------------------------------\u001b[0m",
      "\u001b[0;31mNameError\u001b[0m                                 Traceback (most recent call last)",
      "\u001b[0;32m<ipython-input-36-77b325bcebd7>\u001b[0m in \u001b[0;36m<module>\u001b[0;34m\u001b[0m\n\u001b[0;32m----> 1\u001b[0;31m \u001b[0mplot_cm\u001b[0m\u001b[0;34m(\u001b[0m\u001b[0my_train\u001b[0m\u001b[0;34m,\u001b[0m\u001b[0mxgb_best\u001b[0m\u001b[0;34m.\u001b[0m\u001b[0mpredict\u001b[0m\u001b[0;34m(\u001b[0m\u001b[0mX_train\u001b[0m\u001b[0;34m)\u001b[0m\u001b[0;34m)\u001b[0m\u001b[0;34m\u001b[0m\u001b[0;34m\u001b[0m\u001b[0m\n\u001b[0m",
      "\u001b[0;31mNameError\u001b[0m: name 'xgb_best' is not defined"
     ]
    }
   ],
   "source": [
    "plot_cm(y_train,xgb_best.predict(X_train))"
   ]
  },
  {
   "cell_type": "code",
   "execution_count": 74,
   "metadata": {
    "scrolled": false
   },
   "outputs": [
    {
     "data": {
      "image/png": "[encoded data removed]",
      "text/plain": [
       "<Figure size 720x720 with 2 Axes>"
      ]
     },
     "metadata": {
      "needs_background": "light"
     },
     "output_type": "display_data"
    }
   ],
   "source": [
    "plot_cm(y_test,xgb_best.predict(X_test))"
   ]
  },
  {
   "cell_type": "code",
   "execution_count": 76,
   "metadata": {},
   "outputs": [],
   "source": [
    "d = pd.DataFrame(xgb_best.predict(X_test))"
   ]
  },
  {
   "cell_type": "code",
   "execution_count": 78,
   "metadata": {},
   "outputs": [],
   "source": [
    "d['act'] = y_test"
   ]
  },
  {
   "cell_type": "code",
   "execution_count": 79,
   "metadata": {},
   "outputs": [
    {
     "data": {
      "text/html": [
       "<div>\n",
       "<style scoped>\n",
       "    .dataframe tbody tr th:only-of-type {\n",
       "        vertical-align: middle;\n",
       "    }\n",
       "\n",
       "    .dataframe tbody tr th {\n",
       "        vertical-align: top;\n",
       "    }\n",
       "\n",
       "    .dataframe thead th {\n",
       "        text-align: right;\n",
       "    }\n",
       "</style>\n",
       "<table border=\"1\" class=\"dataframe\">\n",
       "  <thead>\n",
       "    <tr style=\"text-align: right;\">\n",
       "      <th></th>\n",
       "      <th>0</th>\n",
       "      <th>act</th>\n",
       "    </tr>\n",
       "  </thead>\n",
       "  <tbody>\n",
       "    <tr>\n",
       "      <th>0</th>\n",
       "      <td>4</td>\n",
       "      <td>4</td>\n",
       "    </tr>\n",
       "    <tr>\n",
       "      <th>1</th>\n",
       "      <td>6</td>\n",
       "      <td>0</td>\n",
       "    </tr>\n",
       "    <tr>\n",
       "      <th>2</th>\n",
       "      <td>7</td>\n",
       "      <td>3</td>\n",
       "    </tr>\n",
       "    <tr>\n",
       "      <th>3</th>\n",
       "      <td>6</td>\n",
       "      <td>6</td>\n",
       "    </tr>\n",
       "    <tr>\n",
       "      <th>4</th>\n",
       "      <td>3</td>\n",
       "      <td>0</td>\n",
       "    </tr>\n",
       "  </tbody>\n",
       "</table>\n",
       "</div>"
      ],
      "text/plain": [
       "   0  act\n",
       "0  4    4\n",
       "1  6    0\n",
       "2  7    3\n",
       "3  6    6\n",
       "4  3    0"
      ]
     },
     "execution_count": 79,
     "metadata": {},
     "output_type": "execute_result"
    }
   ],
   "source": [
    "d.head()"
   ]
  },
  {
   "cell_type": "code",
   "execution_count": null,
   "metadata": {},
   "outputs": [],
   "source": []
  },
  {
   "cell_type": "code",
   "execution_count": 82,
   "metadata": {},
   "outputs": [
    {
     "data": {
      "image/png": "[encoded data removed]",
      "text/plain": [
       "<Figure size 576x576 with 1 Axes>"
      ]
     },
     "metadata": {
      "needs_background": "light"
     },
     "output_type": "display_data"
    }
   ],
   "source": [
    "plot_feature_importances(xgb_best[1])"
   ]
  },
  {
   "cell_type": "code",
   "execution_count": 84,
   "metadata": {},
   "outputs": [
    {
     "data": {
      "text/plain": [
       "XGBClassifier(objective='multi:softprob')"
      ]
     },
     "execution_count": 84,
     "metadata": {},
     "output_type": "execute_result"
    }
   ],
   "source": [
    "classifier = xgb.XGBClassifier()\n",
    "classifier.fit(X_train, y_train)"
   ]
  },
  {
   "cell_type": "code",
   "execution_count": 85,
   "metadata": {},
   "outputs": [
    {
     "data": {
      "text/plain": [
       "(0.5809916139473297, 0.4708333333333333)"
      ]
     },
     "execution_count": 85,
     "metadata": {},
     "output_type": "execute_result"
    }
   ],
   "source": [
    "classifier.score(X_train,y_train),classifier.score(X_test,y_test)"
   ]
  },
  {
   "cell_type": "code",
   "execution_count": 40,
   "metadata": {},
   "outputs": [],
   "source": [
    "preds = classifier.predict(X_test)"
   ]
  },
  {
   "cell_type": "code",
   "execution_count": 41,
   "metadata": {},
   "outputs": [
    {
     "data": {
      "text/plain": [
       "array([3, 1, 4, ..., 7, 5, 7])"
      ]
     },
     "execution_count": 41,
     "metadata": {},
     "output_type": "execute_result"
    }
   ],
   "source": [
    "preds"
   ]
  },
  {
   "cell_type": "code",
   "execution_count": 43,
   "metadata": {},
   "outputs": [
    {
     "data": {
      "text/plain": [
       "array([0, 0, 7, ..., 4, 6, 7])"
      ]
     },
     "execution_count": 43,
     "metadata": {},
     "output_type": "execute_result"
    }
   ],
   "source": [
    "y_test"
   ]
  },
  {
   "cell_type": "code",
   "execution_count": 86,
   "metadata": {},
   "outputs": [],
   "source": [
    "xgb_pipeline = Pipeline([('ss',StandardScaler()),('xgb',xgb.XGBClassifier())])\n"
   ]
  },
  {
   "cell_type": "code",
   "execution_count": 87,
   "metadata": {},
   "outputs": [
    {
     "data": {
      "text/plain": [
       "Pipeline(steps=[('ss', StandardScaler()),\n",
       "                ('xgb', XGBClassifier(objective='multi:softprob'))])"
      ]
     },
     "execution_count": 87,
     "metadata": {},
     "output_type": "execute_result"
    }
   ],
   "source": [
    "xgb_pipeline.fit(X_train,y_train)"
   ]
  },
  {
   "cell_type": "code",
   "execution_count": 89,
   "metadata": {},
   "outputs": [
    {
     "data": {
      "text/plain": [
       "0.5809916139473297"
      ]
     },
     "execution_count": 89,
     "metadata": {},
     "output_type": "execute_result"
    }
   ],
   "source": [
    "xgb_pipeline.score(X_train,y_train)"
   ]
  },
  {
   "cell_type": "code",
   "execution_count": 90,
   "metadata": {},
   "outputs": [
    {
     "data": {
      "text/plain": [
       "0.4708333333333333"
      ]
     },
     "execution_count": 90,
     "metadata": {},
     "output_type": "execute_result"
    }
   ],
   "source": [
    "xgb_pipeline.score(X_test,y_test)"
   ]
  },
  {
   "cell_type": "code",
   "execution_count": 42,
   "metadata": {},
   "outputs": [],
   "source": [
    "params = {\n",
    "    \"xgb__learning_rate\": [0.001,0.05,0.01,0.1,0.5],\n",
    "    'xgb__max_depth': [3,5,7],\n",
    "    'xgb__subsample': [1],\n",
    "    'xgb__n_estimators': [5, 50, 100, 250,500,750],\n",
    "}"
   ]
  },
  {
   "cell_type": "code",
   "execution_count": 43,
   "metadata": {},
   "outputs": [],
   "source": [
    "xgb_cv = GridSearchCV(estimator =xgb_pipeline,param_grid=params,n_jobs=-1,cv=5)"
   ]
  },
  {
   "cell_type": "code",
   "execution_count": 44,
   "metadata": {},
   "outputs": [
    {
     "data": {
      "text/plain": [
       "GridSearchCV(cv=5,\n",
       "             estimator=Pipeline(steps=[('ss', StandardScaler()),\n",
       "                                       ('xgb',\n",
       "                                        XGBClassifier(num_class=8,\n",
       "                                                      objective='multi:softprob'))]),\n",
       "             n_jobs=-1,\n",
       "             param_grid={'xgb__learning_rate': [0.001, 0.05, 0.01, 0.1, 0.5],\n",
       "                         'xgb__max_depth': [3, 5, 7],\n",
       "                         'xgb__n_estimators': [5, 50, 100, 250, 500, 750],\n",
       "                         'xgb__subsample': [1]})"
      ]
     },
     "execution_count": 44,
     "metadata": {},
     "output_type": "execute_result"
    }
   ],
   "source": [
    "xgb_cv.fit(X_train,y_train)\n"
   ]
  },
  {
   "cell_type": "code",
   "execution_count": 45,
   "metadata": {},
   "outputs": [
    {
     "data": {
      "text/plain": [
       "{'xgb__learning_rate': 0.1,\n",
       " 'xgb__max_depth': 7,\n",
       " 'xgb__n_estimators': 750,\n",
       " 'xgb__subsample': 1}"
      ]
     },
     "execution_count": 45,
     "metadata": {},
     "output_type": "execute_result"
    }
   ],
   "source": [
    "xgb_best = xgb_cv.best_estimator_\n",
    "xgb_cv.best_params_"
   ]
  },
  {
   "cell_type": "code",
   "execution_count": 46,
   "metadata": {},
   "outputs": [
    {
     "data": {
      "text/plain": [
       "0.9998205634308271"
      ]
     },
     "execution_count": 46,
     "metadata": {},
     "output_type": "execute_result"
    }
   ],
   "source": [
    "xgb_best.score(X_train,y_train)"
   ]
  },
  {
   "cell_type": "code",
   "execution_count": 47,
   "metadata": {},
   "outputs": [
    {
     "data": {
      "text/plain": [
       "0.44666666666666666"
      ]
     },
     "execution_count": 47,
     "metadata": {},
     "output_type": "execute_result"
    }
   ],
   "source": [
    "xgb_best.score(X_test,y_test)"
   ]
  },
  {
   "cell_type": "code",
   "execution_count": 48,
   "metadata": {},
   "outputs": [
    {
     "data": {
      "text/plain": [
       "0.49264705882352944"
      ]
     },
     "execution_count": 48,
     "metadata": {},
     "output_type": "execute_result"
    }
   ],
   "source": [
    "xgb_best.score(X_val,y_val)"
   ]
  },
  {
   "cell_type": "code",
   "execution_count": 59,
   "metadata": {},
   "outputs": [],
   "source": [
    "xgb_preds = xgb_best.predict(X_test)"
   ]
  },
  {
   "cell_type": "code",
   "execution_count": 62,
   "metadata": {
    "scrolled": false
   },
   "outputs": [
    {
     "name": "stdout",
     "output_type": "stream",
     "text": [
      "0.0 of False Negatives\n"
     ]
    },
    {
     "data": {
      "image/png": "[encoded data removed]",
      "text/plain": [
       "<Figure size 1224x360 with 2 Axes>"
      ]
     },
     "metadata": {
      "needs_background": "light"
     },
     "output_type": "display_data"
    },
    {
     "ename": "ValueError",
     "evalue": "Target is multiclass but average='binary'. Please choose another average setting, one of [None, 'micro', 'macro', 'weighted'].",
     "output_type": "error",
     "traceback": [
      "\u001b[0;31m---------------------------------------------------------------------------\u001b[0m",
      "\u001b[0;31mValueError\u001b[0m                                Traceback (most recent call last)",
      "\u001b[0;32m<ipython-input-62-8f049ec7c5c0>\u001b[0m in \u001b[0;36m<module>\u001b[0;34m\u001b[0m\n\u001b[1;32m      1\u001b[0m \u001b[0mplot_confusion_matrix\u001b[0m\u001b[0;34m(\u001b[0m\u001b[0my_train\u001b[0m\u001b[0;34m,\u001b[0m\u001b[0mxgb_best\u001b[0m\u001b[0;34m.\u001b[0m\u001b[0mpredict\u001b[0m\u001b[0;34m(\u001b[0m\u001b[0mX_train\u001b[0m\u001b[0;34m)\u001b[0m\u001b[0;34m,\u001b[0m\u001b[0mdata\u001b[0m\u001b[0;34m=\u001b[0m\u001b[0;34m'Train'\u001b[0m\u001b[0;34m)\u001b[0m\u001b[0;34m\u001b[0m\u001b[0;34m\u001b[0m\u001b[0m\n\u001b[0;32m----> 2\u001b[0;31m \u001b[0mprint_metrics\u001b[0m\u001b[0;34m(\u001b[0m\u001b[0my_train\u001b[0m\u001b[0;34m,\u001b[0m\u001b[0mxgb_best\u001b[0m\u001b[0;34m.\u001b[0m\u001b[0mpredict\u001b[0m\u001b[0;34m(\u001b[0m\u001b[0mX_train\u001b[0m\u001b[0;34m)\u001b[0m\u001b[0;34m)\u001b[0m\u001b[0;34m\u001b[0m\u001b[0;34m\u001b[0m\u001b[0m\n\u001b[0m",
      "\u001b[0;32m<ipython-input-58-372c20755597>\u001b[0m in \u001b[0;36mprint_metrics\u001b[0;34m(labels, preds)\u001b[0m\n\u001b[1;32m     29\u001b[0m \u001b[0;34m\u001b[0m\u001b[0m\n\u001b[1;32m     30\u001b[0m \u001b[0;32mdef\u001b[0m \u001b[0mprint_metrics\u001b[0m\u001b[0;34m(\u001b[0m\u001b[0mlabels\u001b[0m\u001b[0;34m,\u001b[0m \u001b[0mpreds\u001b[0m\u001b[0;34m)\u001b[0m\u001b[0;34m:\u001b[0m\u001b[0;34m\u001b[0m\u001b[0;34m\u001b[0m\u001b[0m\n\u001b[0;32m---> 31\u001b[0;31m     \u001b[0mprint\u001b[0m\u001b[0;34m(\u001b[0m\u001b[0;34m\"Precision Score: {}\"\u001b[0m\u001b[0;34m.\u001b[0m\u001b[0mformat\u001b[0m\u001b[0;34m(\u001b[0m\u001b[0mprecision_score\u001b[0m\u001b[0;34m(\u001b[0m\u001b[0mlabels\u001b[0m\u001b[0;34m,\u001b[0m \u001b[0mpreds\u001b[0m\u001b[0;34m)\u001b[0m\u001b[0;34m)\u001b[0m\u001b[0;34m)\u001b[0m\u001b[0;34m\u001b[0m\u001b[0;34m\u001b[0m\u001b[0m\n\u001b[0m\u001b[1;32m     32\u001b[0m     \u001b[0mprint\u001b[0m\u001b[0;34m(\u001b[0m\u001b[0;34m\"Recall Score: {}\"\u001b[0m\u001b[0;34m.\u001b[0m\u001b[0mformat\u001b[0m\u001b[0;34m(\u001b[0m\u001b[0mrecall_score\u001b[0m\u001b[0;34m(\u001b[0m\u001b[0mlabels\u001b[0m\u001b[0;34m,\u001b[0m \u001b[0mpreds\u001b[0m\u001b[0;34m)\u001b[0m\u001b[0;34m)\u001b[0m\u001b[0;34m)\u001b[0m\u001b[0;34m\u001b[0m\u001b[0;34m\u001b[0m\u001b[0m\n\u001b[1;32m     33\u001b[0m     \u001b[0mprint\u001b[0m\u001b[0;34m(\u001b[0m\u001b[0;34m\"Accuracy Score: {}\"\u001b[0m\u001b[0;34m.\u001b[0m\u001b[0mformat\u001b[0m\u001b[0;34m(\u001b[0m\u001b[0maccuracy_score\u001b[0m\u001b[0;34m(\u001b[0m\u001b[0mlabels\u001b[0m\u001b[0;34m,\u001b[0m \u001b[0mpreds\u001b[0m\u001b[0;34m)\u001b[0m\u001b[0;34m)\u001b[0m\u001b[0;34m)\u001b[0m\u001b[0;34m\u001b[0m\u001b[0;34m\u001b[0m\u001b[0m\n",
      "\u001b[0;32m/opt/anaconda3/envs/learn-env/lib/python3.6/site-packages/sklearn/utils/validation.py\u001b[0m in \u001b[0;36minner_f\u001b[0;34m(*args, **kwargs)\u001b[0m\n\u001b[1;32m     71\u001b[0m                           FutureWarning)\n\u001b[1;32m     72\u001b[0m         \u001b[0mkwargs\u001b[0m\u001b[0;34m.\u001b[0m\u001b[0mupdate\u001b[0m\u001b[0;34m(\u001b[0m\u001b[0;34m{\u001b[0m\u001b[0mk\u001b[0m\u001b[0;34m:\u001b[0m \u001b[0marg\u001b[0m \u001b[0;32mfor\u001b[0m \u001b[0mk\u001b[0m\u001b[0;34m,\u001b[0m \u001b[0marg\u001b[0m \u001b[0;32min\u001b[0m \u001b[0mzip\u001b[0m\u001b[0;34m(\u001b[0m\u001b[0msig\u001b[0m\u001b[0;34m.\u001b[0m\u001b[0mparameters\u001b[0m\u001b[0;34m,\u001b[0m \u001b[0margs\u001b[0m\u001b[0;34m)\u001b[0m\u001b[0;34m}\u001b[0m\u001b[0;34m)\u001b[0m\u001b[0;34m\u001b[0m\u001b[0;34m\u001b[0m\u001b[0m\n\u001b[0;32m---> 73\u001b[0;31m         \u001b[0;32mreturn\u001b[0m \u001b[0mf\u001b[0m\u001b[0;34m(\u001b[0m\u001b[0;34m**\u001b[0m\u001b[0mkwargs\u001b[0m\u001b[0;34m)\u001b[0m\u001b[0;34m\u001b[0m\u001b[0;34m\u001b[0m\u001b[0m\n\u001b[0m\u001b[1;32m     74\u001b[0m     \u001b[0;32mreturn\u001b[0m \u001b[0minner_f\u001b[0m\u001b[0;34m\u001b[0m\u001b[0;34m\u001b[0m\u001b[0m\n\u001b[1;32m     75\u001b[0m \u001b[0;34m\u001b[0m\u001b[0m\n",
      "\u001b[0;32m/opt/anaconda3/envs/learn-env/lib/python3.6/site-packages/sklearn/metrics/_classification.py\u001b[0m in \u001b[0;36mprecision_score\u001b[0;34m(y_true, y_pred, labels, pos_label, average, sample_weight, zero_division)\u001b[0m\n\u001b[1;32m   1621\u001b[0m                                                  \u001b[0mwarn_for\u001b[0m\u001b[0;34m=\u001b[0m\u001b[0;34m(\u001b[0m\u001b[0;34m'precision'\u001b[0m\u001b[0;34m,\u001b[0m\u001b[0;34m)\u001b[0m\u001b[0;34m,\u001b[0m\u001b[0;34m\u001b[0m\u001b[0;34m\u001b[0m\u001b[0m\n\u001b[1;32m   1622\u001b[0m                                                  \u001b[0msample_weight\u001b[0m\u001b[0;34m=\u001b[0m\u001b[0msample_weight\u001b[0m\u001b[0;34m,\u001b[0m\u001b[0;34m\u001b[0m\u001b[0;34m\u001b[0m\u001b[0m\n\u001b[0;32m-> 1623\u001b[0;31m                                                  zero_division=zero_division)\n\u001b[0m\u001b[1;32m   1624\u001b[0m     \u001b[0;32mreturn\u001b[0m \u001b[0mp\u001b[0m\u001b[0;34m\u001b[0m\u001b[0;34m\u001b[0m\u001b[0m\n\u001b[1;32m   1625\u001b[0m \u001b[0;34m\u001b[0m\u001b[0m\n",
      "\u001b[0;32m/opt/anaconda3/envs/learn-env/lib/python3.6/site-packages/sklearn/utils/validation.py\u001b[0m in \u001b[0;36minner_f\u001b[0;34m(*args, **kwargs)\u001b[0m\n\u001b[1;32m     71\u001b[0m                           FutureWarning)\n\u001b[1;32m     72\u001b[0m         \u001b[0mkwargs\u001b[0m\u001b[0;34m.\u001b[0m\u001b[0mupdate\u001b[0m\u001b[0;34m(\u001b[0m\u001b[0;34m{\u001b[0m\u001b[0mk\u001b[0m\u001b[0;34m:\u001b[0m \u001b[0marg\u001b[0m \u001b[0;32mfor\u001b[0m \u001b[0mk\u001b[0m\u001b[0;34m,\u001b[0m \u001b[0marg\u001b[0m \u001b[0;32min\u001b[0m \u001b[0mzip\u001b[0m\u001b[0;34m(\u001b[0m\u001b[0msig\u001b[0m\u001b[0;34m.\u001b[0m\u001b[0mparameters\u001b[0m\u001b[0;34m,\u001b[0m \u001b[0margs\u001b[0m\u001b[0;34m)\u001b[0m\u001b[0;34m}\u001b[0m\u001b[0;34m)\u001b[0m\u001b[0;34m\u001b[0m\u001b[0;34m\u001b[0m\u001b[0m\n\u001b[0;32m---> 73\u001b[0;31m         \u001b[0;32mreturn\u001b[0m \u001b[0mf\u001b[0m\u001b[0;34m(\u001b[0m\u001b[0;34m**\u001b[0m\u001b[0mkwargs\u001b[0m\u001b[0;34m)\u001b[0m\u001b[0;34m\u001b[0m\u001b[0;34m\u001b[0m\u001b[0m\n\u001b[0m\u001b[1;32m     74\u001b[0m     \u001b[0;32mreturn\u001b[0m \u001b[0minner_f\u001b[0m\u001b[0;34m\u001b[0m\u001b[0;34m\u001b[0m\u001b[0m\n\u001b[1;32m     75\u001b[0m \u001b[0;34m\u001b[0m\u001b[0m\n",
      "\u001b[0;32m/opt/anaconda3/envs/learn-env/lib/python3.6/site-packages/sklearn/metrics/_classification.py\u001b[0m in \u001b[0;36mprecision_recall_fscore_support\u001b[0;34m(y_true, y_pred, beta, labels, pos_label, average, warn_for, sample_weight, zero_division)\u001b[0m\n\u001b[1;32m   1432\u001b[0m         \u001b[0;32mraise\u001b[0m \u001b[0mValueError\u001b[0m\u001b[0;34m(\u001b[0m\u001b[0;34m\"beta should be >=0 in the F-beta score\"\u001b[0m\u001b[0;34m)\u001b[0m\u001b[0;34m\u001b[0m\u001b[0;34m\u001b[0m\u001b[0m\n\u001b[1;32m   1433\u001b[0m     labels = _check_set_wise_labels(y_true, y_pred, average, labels,\n\u001b[0;32m-> 1434\u001b[0;31m                                     pos_label)\n\u001b[0m\u001b[1;32m   1435\u001b[0m \u001b[0;34m\u001b[0m\u001b[0m\n\u001b[1;32m   1436\u001b[0m     \u001b[0;31m# Calculate tp_sum, pred_sum, true_sum ###\u001b[0m\u001b[0;34m\u001b[0m\u001b[0;34m\u001b[0m\u001b[0;34m\u001b[0m\u001b[0m\n",
      "\u001b[0;32m/opt/anaconda3/envs/learn-env/lib/python3.6/site-packages/sklearn/metrics/_classification.py\u001b[0m in \u001b[0;36m_check_set_wise_labels\u001b[0;34m(y_true, y_pred, average, labels, pos_label)\u001b[0m\n\u001b[1;32m   1263\u001b[0m             raise ValueError(\"Target is %s but average='binary'. Please \"\n\u001b[1;32m   1264\u001b[0m                              \u001b[0;34m\"choose another average setting, one of %r.\"\u001b[0m\u001b[0;34m\u001b[0m\u001b[0;34m\u001b[0m\u001b[0m\n\u001b[0;32m-> 1265\u001b[0;31m                              % (y_type, average_options))\n\u001b[0m\u001b[1;32m   1266\u001b[0m     \u001b[0;32melif\u001b[0m \u001b[0mpos_label\u001b[0m \u001b[0;32mnot\u001b[0m \u001b[0;32min\u001b[0m \u001b[0;34m(\u001b[0m\u001b[0;32mNone\u001b[0m\u001b[0;34m,\u001b[0m \u001b[0;36m1\u001b[0m\u001b[0;34m)\u001b[0m\u001b[0;34m:\u001b[0m\u001b[0;34m\u001b[0m\u001b[0;34m\u001b[0m\u001b[0m\n\u001b[1;32m   1267\u001b[0m         warnings.warn(\"Note that pos_label (set to %r) is ignored when \"\n",
      "\u001b[0;31mValueError\u001b[0m: Target is multiclass but average='binary'. Please choose another average setting, one of [None, 'micro', 'macro', 'weighted']."
     ]
    }
   ],
   "source": [
    "plot_confusion_matrix(y_train,xgb_best.predict(X_train),data='Train')\n",
    "print_metrics(y_train,xgb_best.predict(X_train))"
   ]
  },
  {
   "cell_type": "code",
   "execution_count": null,
   "metadata": {},
   "outputs": [],
   "source": []
  }
 ],
 "metadata": {
  "kernelspec": {
   "display_name": "Python [conda env:learn-env] *",
   "language": "python",
   "name": "conda-env-learn-env-py"
  },
  "language_info": {
   "codemirror_mode": {
    "name": "ipython",
    "version": 3
   },
   "file_extension": ".py",
   "mimetype": "text/x-python",
   "name": "python",
   "nbconvert_exporter": "python",
   "pygments_lexer": "ipython3",
   "version": "3.6.9"
  }
 },
 "nbformat": 4,
 "nbformat_minor": 2
}
